{
 "cells": [
  {
   "cell_type": "code",
   "execution_count": 1,
   "id": "1b6a4c07-33fa-45ee-bd28-e9ec5f32d5a1",
   "metadata": {},
   "outputs": [],
   "source": [
    "import numpy as np "
   ]
  },
  {
   "cell_type": "markdown",
   "id": "559f1dbe-7cd2-4470-9ea6-a07a02a99001",
   "metadata": {},
   "source": [
    "**np.sort**\n",
    "\n",
    "Return a sorted copy of an array "
   ]
  },
  {
   "cell_type": "code",
   "execution_count": 3,
   "id": "0ad90753-f449-46a6-af15-18772f13fa34",
   "metadata": {},
   "outputs": [
    {
     "data": {
      "text/plain": [
       "array([38,  8, 81, 74,  5, 89, 19, 20, 17, 48, 86, 94, 10, 88, 13])"
      ]
     },
     "execution_count": 3,
     "metadata": {},
     "output_type": "execute_result"
    }
   ],
   "source": [
    "\n",
    "a = np.random.randint(1,100,15)\n",
    "a"
   ]
  },
  {
   "cell_type": "code",
   "execution_count": 4,
   "id": "9c9a549d-4acf-431c-bb14-9f08d2cc158e",
   "metadata": {},
   "outputs": [
    {
     "data": {
      "text/plain": [
       "array([[62, 50, 85, 88],\n",
       "       [87,  5, 99, 64],\n",
       "       [99, 72, 55, 91],\n",
       "       [49, 81,  8, 19],\n",
       "       [61,  9,  9, 78],\n",
       "       [56, 21,  1, 68]])"
      ]
     },
     "execution_count": 4,
     "metadata": {},
     "output_type": "execute_result"
    }
   ],
   "source": [
    "b = np.random.randint(1,100,24).reshape(6,4)\n",
    "b"
   ]
  },
  {
   "cell_type": "code",
   "execution_count": 5,
   "id": "faeacf1f-2a64-4579-8d54-dd4c78229440",
   "metadata": {},
   "outputs": [
    {
     "data": {
      "text/plain": [
       "array([ 5,  8, 10, 13, 17, 19, 20, 38, 48, 74, 81, 86, 88, 89, 94])"
      ]
     },
     "execution_count": 5,
     "metadata": {},
     "output_type": "execute_result"
    }
   ],
   "source": [
    "np.sort(a)"
   ]
  },
  {
   "cell_type": "code",
   "execution_count": 6,
   "id": "740c9ab8-cb9c-4968-858c-a28b35f9f22b",
   "metadata": {},
   "outputs": [
    {
     "data": {
      "text/plain": [
       "array([[50, 62, 85, 88],\n",
       "       [ 5, 64, 87, 99],\n",
       "       [55, 72, 91, 99],\n",
       "       [ 8, 19, 49, 81],\n",
       "       [ 9,  9, 61, 78],\n",
       "       [ 1, 21, 56, 68]])"
      ]
     },
     "execution_count": 6,
     "metadata": {},
     "output_type": "execute_result"
    }
   ],
   "source": [
    "np.sort(b)  # row wise sorting "
   ]
  },
  {
   "cell_type": "code",
   "execution_count": 7,
   "id": "ed971132-7f2d-49de-adbc-08b4e622a7fd",
   "metadata": {},
   "outputs": [
    {
     "data": {
      "text/plain": [
       "array([[49,  5,  1, 19],\n",
       "       [56,  9,  8, 64],\n",
       "       [61, 21,  9, 68],\n",
       "       [62, 50, 55, 78],\n",
       "       [87, 72, 85, 88],\n",
       "       [99, 81, 99, 91]])"
      ]
     },
     "execution_count": 7,
     "metadata": {},
     "output_type": "execute_result"
    }
   ],
   "source": [
    "np.sort(b,axis = 0) #col wise sorting "
   ]
  },
  {
   "cell_type": "code",
   "execution_count": 8,
   "id": "819d99df-4508-49d3-8012-3dd049c39c98",
   "metadata": {},
   "outputs": [
    {
     "data": {
      "text/plain": [
       "array([94, 89, 88, 86, 81, 74, 48, 38, 20, 19, 17, 13, 10,  8,  5])"
      ]
     },
     "execution_count": 8,
     "metadata": {},
     "output_type": "execute_result"
    }
   ],
   "source": [
    "np.sort(a)[::-1]"
   ]
  },
  {
   "cell_type": "markdown",
   "id": "4d53d5fc-8c8c-4439-8b84-43ddbaaccfa7",
   "metadata": {},
   "source": [
    "**np.append**"
   ]
  },
  {
   "cell_type": "code",
   "execution_count": 10,
   "id": "80916866-4a25-4134-b0de-b9420099530c",
   "metadata": {},
   "outputs": [
    {
     "data": {
      "text/plain": [
       "array([38,  8, 81, 74,  5, 89, 19, 20, 17, 48, 86, 94, 10, 88, 13])"
      ]
     },
     "execution_count": 10,
     "metadata": {},
     "output_type": "execute_result"
    }
   ],
   "source": [
    "a"
   ]
  },
  {
   "cell_type": "code",
   "execution_count": 11,
   "id": "cea924e9-207c-471f-b327-305aafdf9459",
   "metadata": {},
   "outputs": [
    {
     "data": {
      "text/plain": [
       "array([ 38,   8,  81,  74,   5,  89,  19,  20,  17,  48,  86,  94,  10,\n",
       "        88,  13, 200])"
      ]
     },
     "execution_count": 11,
     "metadata": {},
     "output_type": "execute_result"
    }
   ],
   "source": [
    "np.append(a,200)"
   ]
  },
  {
   "cell_type": "code",
   "execution_count": 12,
   "id": "a93e1b36-2f70-47c9-ae9e-b5509894e1e1",
   "metadata": {},
   "outputs": [
    {
     "data": {
      "text/plain": [
       "array([[62, 50, 85, 88],\n",
       "       [87,  5, 99, 64],\n",
       "       [99, 72, 55, 91],\n",
       "       [49, 81,  8, 19],\n",
       "       [61,  9,  9, 78],\n",
       "       [56, 21,  1, 68]])"
      ]
     },
     "execution_count": 12,
     "metadata": {},
     "output_type": "execute_result"
    }
   ],
   "source": [
    "b"
   ]
  },
  {
   "cell_type": "code",
   "execution_count": 13,
   "id": "39d41229-a6e5-41c3-9570-1012790c36af",
   "metadata": {},
   "outputs": [
    {
     "data": {
      "text/plain": [
       "array([[62., 50., 85., 88.,  1.],\n",
       "       [87.,  5., 99., 64.,  1.],\n",
       "       [99., 72., 55., 91.,  1.],\n",
       "       [49., 81.,  8., 19.,  1.],\n",
       "       [61.,  9.,  9., 78.,  1.],\n",
       "       [56., 21.,  1., 68.,  1.]])"
      ]
     },
     "execution_count": 13,
     "metadata": {},
     "output_type": "execute_result"
    }
   ],
   "source": [
    "np.append(b,np.ones((b.shape[0],1)),axis = 1)"
   ]
  },
  {
   "cell_type": "code",
   "execution_count": 14,
   "id": "acf36a55-2518-434c-98bc-21afc615b2c0",
   "metadata": {},
   "outputs": [
    {
     "data": {
      "text/plain": [
       "6"
      ]
     },
     "execution_count": 14,
     "metadata": {},
     "output_type": "execute_result"
    }
   ],
   "source": [
    "b.shape[0]"
   ]
  },
  {
   "cell_type": "code",
   "execution_count": 15,
   "id": "af2991bd-203b-4d12-879f-e90ede830e47",
   "metadata": {},
   "outputs": [
    {
     "data": {
      "text/plain": [
       "array([[1.],\n",
       "       [1.],\n",
       "       [1.],\n",
       "       [1.],\n",
       "       [1.],\n",
       "       [1.]])"
      ]
     },
     "execution_count": 15,
     "metadata": {},
     "output_type": "execute_result"
    }
   ],
   "source": [
    "np.ones((6,1))"
   ]
  },
  {
   "cell_type": "markdown",
   "id": "63f5773b-44e9-47e8-859a-c6edb2b8c386",
   "metadata": {},
   "source": [
    "**np.concatenate**"
   ]
  },
  {
   "cell_type": "code",
   "execution_count": 17,
   "id": "105f530c-c1c5-404b-9cfc-98f7447e1494",
   "metadata": {},
   "outputs": [],
   "source": [
    "c = np.arange(6).reshape(2,3)\n",
    "d = np.arange(6,12).reshape(2,3)\n"
   ]
  },
  {
   "cell_type": "code",
   "execution_count": 18,
   "id": "6dbee81e-50d8-44c5-b282-235203827669",
   "metadata": {},
   "outputs": [
    {
     "data": {
      "text/plain": [
       "array([[ 0,  1,  2],\n",
       "       [ 3,  4,  5],\n",
       "       [ 6,  7,  8],\n",
       "       [ 9, 10, 11]])"
      ]
     },
     "execution_count": 18,
     "metadata": {},
     "output_type": "execute_result"
    }
   ],
   "source": [
    "np.concatenate((c,d))"
   ]
  },
  {
   "cell_type": "code",
   "execution_count": 19,
   "id": "2d87a649-b497-45d6-96a0-b980acfea7bd",
   "metadata": {},
   "outputs": [
    {
     "data": {
      "text/plain": [
       "array([[ 0,  1,  2,  6,  7,  8],\n",
       "       [ 3,  4,  5,  9, 10, 11]])"
      ]
     },
     "execution_count": 19,
     "metadata": {},
     "output_type": "execute_result"
    }
   ],
   "source": [
    "np.concatenate((c,d),axis = 1)\n"
   ]
  },
  {
   "cell_type": "markdown",
   "id": "9b8de18c-3617-4e5d-9466-36f7a068fc74",
   "metadata": {},
   "source": [
    "**np.unique**"
   ]
  },
  {
   "cell_type": "code",
   "execution_count": 21,
   "id": "030c3ad4-d903-4104-8e90-bf3d1ddfa71c",
   "metadata": {},
   "outputs": [
    {
     "data": {
      "text/plain": [
       "array([1, 1, 2, 2, 3, 3, 4, 4, 5, 5, 5, 6, 6])"
      ]
     },
     "execution_count": 21,
     "metadata": {},
     "output_type": "execute_result"
    }
   ],
   "source": [
    "e = np.array([1,1,2,2,3,3,4,4,5,5,5,6,6])\n",
    "e"
   ]
  },
  {
   "cell_type": "code",
   "execution_count": 22,
   "id": "4da4bd04-59f2-410b-a665-b517afe56714",
   "metadata": {},
   "outputs": [
    {
     "data": {
      "text/plain": [
       "array([1, 2, 3, 4, 5, 6])"
      ]
     },
     "execution_count": 22,
     "metadata": {},
     "output_type": "execute_result"
    }
   ],
   "source": [
    "np.unique(e)"
   ]
  },
  {
   "cell_type": "markdown",
   "id": "4d8dbf5f-2831-4a7a-971d-849a67d07b81",
   "metadata": {},
   "source": [
    "**np.expand_dims**"
   ]
  },
  {
   "cell_type": "code",
   "execution_count": 24,
   "id": "fe77486c-55c2-4a01-8ed3-afde8ed41d97",
   "metadata": {},
   "outputs": [
    {
     "data": {
      "text/plain": [
       "array([38,  8, 81, 74,  5, 89, 19, 20, 17, 48, 86, 94, 10, 88, 13])"
      ]
     },
     "execution_count": 24,
     "metadata": {},
     "output_type": "execute_result"
    }
   ],
   "source": [
    "a"
   ]
  },
  {
   "cell_type": "code",
   "execution_count": 25,
   "id": "5ca9b60b-15a6-4881-a211-a89ee397508a",
   "metadata": {},
   "outputs": [
    {
     "data": {
      "text/plain": [
       "array([[38,  8, 81, 74,  5, 89, 19, 20, 17, 48, 86, 94, 10, 88, 13]])"
      ]
     },
     "execution_count": 25,
     "metadata": {},
     "output_type": "execute_result"
    }
   ],
   "source": [
    "np.expand_dims(a,axis =0)"
   ]
  },
  {
   "cell_type": "code",
   "execution_count": 26,
   "id": "259f05df-d8c6-42a6-b23b-d001a4dafe9e",
   "metadata": {},
   "outputs": [
    {
     "data": {
      "text/plain": [
       "(1, 15)"
      ]
     },
     "execution_count": 26,
     "metadata": {},
     "output_type": "execute_result"
    }
   ],
   "source": [
    "np.expand_dims(a,axis =0).shape"
   ]
  },
  {
   "cell_type": "code",
   "execution_count": 27,
   "id": "d9fd8550-5099-40c0-a992-fabdc955d6d2",
   "metadata": {},
   "outputs": [
    {
     "data": {
      "text/plain": [
       "array([[38],\n",
       "       [ 8],\n",
       "       [81],\n",
       "       [74],\n",
       "       [ 5],\n",
       "       [89],\n",
       "       [19],\n",
       "       [20],\n",
       "       [17],\n",
       "       [48],\n",
       "       [86],\n",
       "       [94],\n",
       "       [10],\n",
       "       [88],\n",
       "       [13]])"
      ]
     },
     "execution_count": 27,
     "metadata": {},
     "output_type": "execute_result"
    }
   ],
   "source": [
    "np.expand_dims(a,axis =1) "
   ]
  },
  {
   "cell_type": "markdown",
   "id": "40dfe6a7-b6c4-4a11-b4c8-8c42cfaf7823",
   "metadata": {},
   "source": [
    "**np.where**"
   ]
  },
  {
   "cell_type": "code",
   "execution_count": 29,
   "id": "e956b687-3a09-4464-a34e-ce3cd043456e",
   "metadata": {},
   "outputs": [
    {
     "data": {
      "text/plain": [
       "array([38,  8, 81, 74,  5, 89, 19, 20, 17, 48, 86, 94, 10, 88, 13])"
      ]
     },
     "execution_count": 29,
     "metadata": {},
     "output_type": "execute_result"
    }
   ],
   "source": [
    "a"
   ]
  },
  {
   "cell_type": "code",
   "execution_count": 30,
   "id": "9bb73b22-09a3-4e2e-a6a6-319600f5ce0b",
   "metadata": {},
   "outputs": [
    {
     "data": {
      "text/plain": [
       "(array([ 2,  3,  5, 10, 11, 13], dtype=int64),)"
      ]
     },
     "execution_count": 30,
     "metadata": {},
     "output_type": "execute_result"
    }
   ],
   "source": [
    "# find all indicides with value greater than 50 \n",
    "np.where(a>50)"
   ]
  },
  {
   "cell_type": "code",
   "execution_count": 31,
   "id": "491818c1-6180-4a9a-998b-4dd1f67bb0bb",
   "metadata": {},
   "outputs": [
    {
     "data": {
      "text/plain": [
       "array([38,  8,  0,  0,  5,  0, 19, 20, 17, 48,  0,  0, 10,  0, 13])"
      ]
     },
     "execution_count": 31,
     "metadata": {},
     "output_type": "execute_result"
    }
   ],
   "source": [
    "#replace all values >50 with 0 \n",
    "np.where(a>50,0,a)"
   ]
  },
  {
   "cell_type": "code",
   "execution_count": 32,
   "id": "9934e571-7b2e-4cd0-a748-cb6f173fb26c",
   "metadata": {},
   "outputs": [
    {
     "data": {
      "text/plain": [
       "array([ 0,  0, 81,  0,  5, 89, 19,  0, 17,  0,  0,  0,  0,  0, 13])"
      ]
     },
     "execution_count": 32,
     "metadata": {},
     "output_type": "execute_result"
    }
   ],
   "source": [
    "np.where(a%2==0,0,a)\n"
   ]
  },
  {
   "cell_type": "markdown",
   "id": "71c0d5ad-ad06-438b-bd41-70ccb1f9dcda",
   "metadata": {},
   "source": [
    "**np.argmax**"
   ]
  },
  {
   "cell_type": "code",
   "execution_count": 34,
   "id": "68b8ea70-2bee-4713-b2a2-436b407369e9",
   "metadata": {},
   "outputs": [
    {
     "data": {
      "text/plain": [
       "array([38,  8, 81, 74,  5, 89, 19, 20, 17, 48, 86, 94, 10, 88, 13])"
      ]
     },
     "execution_count": 34,
     "metadata": {},
     "output_type": "execute_result"
    }
   ],
   "source": [
    "a"
   ]
  },
  {
   "cell_type": "code",
   "execution_count": 35,
   "id": "d0528a32-2aa4-49a4-95d4-12b74691faae",
   "metadata": {},
   "outputs": [
    {
     "data": {
      "text/plain": [
       "11"
      ]
     },
     "execution_count": 35,
     "metadata": {},
     "output_type": "execute_result"
    }
   ],
   "source": [
    "np.argmax(a)"
   ]
  },
  {
   "cell_type": "code",
   "execution_count": 36,
   "id": "564f4b6a-d947-47b5-a476-62ab6d41d60e",
   "metadata": {},
   "outputs": [
    {
     "data": {
      "text/plain": [
       "array([[62, 50, 85, 88],\n",
       "       [87,  5, 99, 64],\n",
       "       [99, 72, 55, 91],\n",
       "       [49, 81,  8, 19],\n",
       "       [61,  9,  9, 78],\n",
       "       [56, 21,  1, 68]])"
      ]
     },
     "execution_count": 36,
     "metadata": {},
     "output_type": "execute_result"
    }
   ],
   "source": [
    "b"
   ]
  },
  {
   "cell_type": "code",
   "execution_count": 37,
   "id": "f3858241-b174-44f9-aa02-8ba49a2acbbe",
   "metadata": {},
   "outputs": [
    {
     "data": {
      "text/plain": [
       "array([2, 3, 1, 2], dtype=int64)"
      ]
     },
     "execution_count": 37,
     "metadata": {},
     "output_type": "execute_result"
    }
   ],
   "source": [
    "np.argmax(b,axis = 0)\n"
   ]
  },
  {
   "cell_type": "code",
   "execution_count": 38,
   "id": "8ee0f420-b2d9-419c-aaa3-83fc1e6c1663",
   "metadata": {},
   "outputs": [
    {
     "data": {
      "text/plain": [
       "array([3, 2, 0, 1, 3, 3], dtype=int64)"
      ]
     },
     "execution_count": 38,
     "metadata": {},
     "output_type": "execute_result"
    }
   ],
   "source": [
    "np.argmax(b,axis = 1)\n"
   ]
  },
  {
   "cell_type": "markdown",
   "id": "70557c8c-1ac0-407f-ba07-598b068cbc14",
   "metadata": {},
   "source": [
    "**np.argmin**"
   ]
  },
  {
   "cell_type": "code",
   "execution_count": 40,
   "id": "3917a7aa-abb4-427f-962e-37a1a330b955",
   "metadata": {},
   "outputs": [
    {
     "name": "stdout",
     "output_type": "stream",
     "text": [
      "[38  8 81 74  5 89 19 20 17 48 86 94 10 88 13]\n"
     ]
    },
    {
     "data": {
      "text/plain": [
       "4"
      ]
     },
     "execution_count": 40,
     "metadata": {},
     "output_type": "execute_result"
    }
   ],
   "source": [
    "print(a)\n",
    "np.argmin(a)\n"
   ]
  },
  {
   "cell_type": "markdown",
   "id": "302745f9-225b-4588-83dc-175fc2103a4d",
   "metadata": {},
   "source": [
    "**np.cumsum**"
   ]
  },
  {
   "cell_type": "code",
   "execution_count": 42,
   "id": "25642ad0-63f1-4c1a-9710-b6045a3bee66",
   "metadata": {},
   "outputs": [
    {
     "data": {
      "text/plain": [
       "array([38,  8, 81, 74,  5, 89, 19, 20, 17, 48, 86, 94, 10, 88, 13])"
      ]
     },
     "execution_count": 42,
     "metadata": {},
     "output_type": "execute_result"
    }
   ],
   "source": [
    "a"
   ]
  },
  {
   "cell_type": "code",
   "execution_count": 43,
   "id": "a7ebae7b-fc98-4aa2-a434-af9c4401271b",
   "metadata": {},
   "outputs": [
    {
     "data": {
      "text/plain": [
       "array([ 38,  46, 127, 201, 206, 295, 314, 334, 351, 399, 485, 579, 589,\n",
       "       677, 690])"
      ]
     },
     "execution_count": 43,
     "metadata": {},
     "output_type": "execute_result"
    }
   ],
   "source": [
    "np.cumsum(a)"
   ]
  },
  {
   "cell_type": "code",
   "execution_count": 44,
   "id": "e22c273a-4dcb-4411-ad60-c35907827304",
   "metadata": {},
   "outputs": [
    {
     "data": {
      "text/plain": [
       "array([  62,  112,  197,  285,  372,  377,  476,  540,  639,  711,  766,\n",
       "        857,  906,  987,  995, 1014, 1075, 1084, 1093, 1171, 1227, 1248,\n",
       "       1249, 1317])"
      ]
     },
     "execution_count": 44,
     "metadata": {},
     "output_type": "execute_result"
    }
   ],
   "source": [
    "np.cumsum(b)"
   ]
  },
  {
   "cell_type": "code",
   "execution_count": 45,
   "id": "1de410ef-5bdf-420e-b1b8-d29fa616887f",
   "metadata": {},
   "outputs": [
    {
     "data": {
      "text/plain": [
       "array([[62, 50, 85, 88],\n",
       "       [87,  5, 99, 64],\n",
       "       [99, 72, 55, 91],\n",
       "       [49, 81,  8, 19],\n",
       "       [61,  9,  9, 78],\n",
       "       [56, 21,  1, 68]])"
      ]
     },
     "execution_count": 45,
     "metadata": {},
     "output_type": "execute_result"
    }
   ],
   "source": [
    "b"
   ]
  },
  {
   "cell_type": "code",
   "execution_count": 46,
   "id": "e776d7a7-0c1a-4794-a937-be3692a29667",
   "metadata": {},
   "outputs": [
    {
     "data": {
      "text/plain": [
       "array([[ 62,  50,  85,  88],\n",
       "       [149,  55, 184, 152],\n",
       "       [248, 127, 239, 243],\n",
       "       [297, 208, 247, 262],\n",
       "       [358, 217, 256, 340],\n",
       "       [414, 238, 257, 408]])"
      ]
     },
     "execution_count": 46,
     "metadata": {},
     "output_type": "execute_result"
    }
   ],
   "source": [
    "np.cumsum(b,axis = 0)\n"
   ]
  },
  {
   "cell_type": "code",
   "execution_count": 47,
   "id": "7156ed70-d843-450d-a11f-4162d13aa9bb",
   "metadata": {},
   "outputs": [
    {
     "data": {
      "text/plain": [
       "array([[ 62, 112, 197, 285],\n",
       "       [ 87,  92, 191, 255],\n",
       "       [ 99, 171, 226, 317],\n",
       "       [ 49, 130, 138, 157],\n",
       "       [ 61,  70,  79, 157],\n",
       "       [ 56,  77,  78, 146]])"
      ]
     },
     "execution_count": 47,
     "metadata": {},
     "output_type": "execute_result"
    }
   ],
   "source": [
    "np.cumsum(b,axis = 1)\n"
   ]
  },
  {
   "cell_type": "markdown",
   "id": "784cbf36-8b19-402f-bd7d-31e922484c50",
   "metadata": {},
   "source": [
    "**np.cumprod**"
   ]
  },
  {
   "cell_type": "code",
   "execution_count": 49,
   "id": "582bb515-ed4a-4e75-b141-ab242ab31ac1",
   "metadata": {},
   "outputs": [
    {
     "name": "stdout",
     "output_type": "stream",
     "text": [
      "[38  8 81 74  5 89 19 20 17 48 86 94 10 88 13]\n"
     ]
    },
    {
     "data": {
      "text/plain": [
       "array([         38,         304,       24624,     1822176,     9110880,\n",
       "         810868320, -1773371104, -1107683712, -1650753920, -1926776832,\n",
       "        1800916992,  1782472704,   644857856,   912916480, -1016987648])"
      ]
     },
     "execution_count": 49,
     "metadata": {},
     "output_type": "execute_result"
    }
   ],
   "source": [
    "print(a)\n",
    "np.cumprod(a)"
   ]
  },
  {
   "cell_type": "code",
   "execution_count": 50,
   "id": "829f52a4-c387-4282-a0d0-9114f48a425d",
   "metadata": {},
   "outputs": [
    {
     "data": {
      "text/plain": [
       "array([  1,   2,   6,  24, 120])"
      ]
     },
     "execution_count": 50,
     "metadata": {},
     "output_type": "execute_result"
    }
   ],
   "source": [
    "d = np.array([1,2,3,4,5])\n",
    "np.cumprod(d)"
   ]
  },
  {
   "cell_type": "markdown",
   "id": "d8ab3c68-dc3d-41bf-802d-b59e0a29cea2",
   "metadata": {},
   "source": [
    "**np.percentile**"
   ]
  },
  {
   "cell_type": "code",
   "execution_count": 52,
   "id": "a9c45a57-0c5b-42b5-9e28-6f5b34531d59",
   "metadata": {},
   "outputs": [
    {
     "data": {
      "text/plain": [
       "array([38,  8, 81, 74,  5, 89, 19, 20, 17, 48, 86, 94, 10, 88, 13])"
      ]
     },
     "execution_count": 52,
     "metadata": {},
     "output_type": "execute_result"
    }
   ],
   "source": [
    "a"
   ]
  },
  {
   "cell_type": "code",
   "execution_count": 53,
   "id": "4c5ef9ca-ebfb-4286-9c6a-a22cb83d526b",
   "metadata": {},
   "outputs": [
    {
     "data": {
      "text/plain": [
       "38.0"
      ]
     },
     "execution_count": 53,
     "metadata": {},
     "output_type": "execute_result"
    }
   ],
   "source": [
    "np.percentile(a,50)"
   ]
  },
  {
   "cell_type": "code",
   "execution_count": 54,
   "id": "9ca80aa2-0edc-4334-bee4-84b8d6a519f3",
   "metadata": {},
   "outputs": [
    {
     "data": {
      "text/plain": [
       "38.0"
      ]
     },
     "execution_count": 54,
     "metadata": {},
     "output_type": "execute_result"
    }
   ],
   "source": [
    "np.median(a)"
   ]
  },
  {
   "cell_type": "markdown",
   "id": "198a4efa-39fd-4666-8349-694e85eaabc1",
   "metadata": {},
   "source": [
    "**np.histogram**"
   ]
  },
  {
   "cell_type": "code",
   "execution_count": 56,
   "id": "fc293ea9-bd59-4e2e-9ae0-ff2f346e2f48",
   "metadata": {},
   "outputs": [
    {
     "name": "stdout",
     "output_type": "stream",
     "text": [
      "[38  8 81 74  5 89 19 20 17 48 86 94 10 88 13]\n"
     ]
    },
    {
     "data": {
      "text/plain": [
       "(array([4, 1, 1, 1, 0, 0, 1, 4, 1], dtype=int64),\n",
       " array([ 10,  20,  30,  40,  50,  60,  70,  80,  90, 100]))"
      ]
     },
     "execution_count": 56,
     "metadata": {},
     "output_type": "execute_result"
    }
   ],
   "source": [
    "print(a)\n",
    "np.histogram(a,bins=[10,20,30,40,50,60,70,80,90,100]) # 10 to 20, 1 item is there "
   ]
  },
  {
   "cell_type": "code",
   "execution_count": 57,
   "id": "3e4fd27b-6ea4-48d7-93c8-99a90cacabba",
   "metadata": {},
   "outputs": [
    {
     "data": {
      "text/plain": [
       "(array([9, 6], dtype=int64), array([  0,  50, 100]))"
      ]
     },
     "execution_count": 57,
     "metadata": {},
     "output_type": "execute_result"
    }
   ],
   "source": [
    "np.histogram(a,bins=[0,50,100])"
   ]
  },
  {
   "cell_type": "markdown",
   "id": "e5508a1d-533a-4ad6-aed7-dc99be1caeb3",
   "metadata": {},
   "source": [
    "**np.corrcoef**"
   ]
  },
  {
   "cell_type": "code",
   "execution_count": 59,
   "id": "8ae4e8a7-e89a-40d9-bdc8-5b053aa616f7",
   "metadata": {},
   "outputs": [
    {
     "data": {
      "text/plain": [
       "array([[1.        , 0.25344572],\n",
       "       [0.25344572, 1.        ]])"
      ]
     },
     "execution_count": 59,
     "metadata": {},
     "output_type": "execute_result"
    }
   ],
   "source": [
    "salary = np.array([200000,400000,250000,350000,600000])\n",
    "experience = np.array([1,3,2,4,2])\n",
    "np.corrcoef(salary,experience)"
   ]
  },
  {
   "cell_type": "markdown",
   "id": "8e2f98a5-51f3-4c73-a770-13691c8efee4",
   "metadata": {},
   "source": [
    "**np.isin**"
   ]
  },
  {
   "cell_type": "code",
   "execution_count": 61,
   "id": "f3da54b4-d3ef-47b9-b7dc-089b15d101de",
   "metadata": {},
   "outputs": [
    {
     "data": {
      "text/plain": [
       "array([38,  8, 81, 74,  5, 89, 19, 20, 17, 48, 86, 94, 10, 88, 13])"
      ]
     },
     "execution_count": 61,
     "metadata": {},
     "output_type": "execute_result"
    }
   ],
   "source": [
    "a"
   ]
  },
  {
   "cell_type": "code",
   "execution_count": 62,
   "id": "cde02ae3-01fd-4e31-b0b4-7a539bb32757",
   "metadata": {},
   "outputs": [],
   "source": [
    "items = [10,20,30,40,50,60,70,80]"
   ]
  },
  {
   "cell_type": "code",
   "execution_count": 63,
   "id": "26796ea6-c430-40fa-a55f-310bf7330d27",
   "metadata": {},
   "outputs": [
    {
     "data": {
      "text/plain": [
       "array([20, 10])"
      ]
     },
     "execution_count": 63,
     "metadata": {},
     "output_type": "execute_result"
    }
   ],
   "source": [
    "a[np.isin(a,items)]"
   ]
  },
  {
   "cell_type": "markdown",
   "id": "db514962-da6f-4ccf-ba1f-8effee306a79",
   "metadata": {},
   "source": [
    "**np.flip**"
   ]
  },
  {
   "cell_type": "code",
   "execution_count": 65,
   "id": "d134d090-703e-4598-816e-1d2e0d118351",
   "metadata": {},
   "outputs": [
    {
     "data": {
      "text/plain": [
       "array([38,  8, 81, 74,  5, 89, 19, 20, 17, 48, 86, 94, 10, 88, 13])"
      ]
     },
     "execution_count": 65,
     "metadata": {},
     "output_type": "execute_result"
    }
   ],
   "source": [
    "a"
   ]
  },
  {
   "cell_type": "code",
   "execution_count": 66,
   "id": "059eac78-0790-4ea3-bd47-5d52a02ddd06",
   "metadata": {},
   "outputs": [
    {
     "data": {
      "text/plain": [
       "array([13, 88, 10, 94, 86, 48, 17, 20, 19, 89,  5, 74, 81,  8, 38])"
      ]
     },
     "execution_count": 66,
     "metadata": {},
     "output_type": "execute_result"
    }
   ],
   "source": [
    "np.flip(a)"
   ]
  },
  {
   "cell_type": "markdown",
   "id": "afdfec7e-3e70-4503-8305-bb0df8c39457",
   "metadata": {},
   "source": [
    "**np.put**"
   ]
  },
  {
   "cell_type": "code",
   "execution_count": 68,
   "id": "7dec6334-57e3-48e7-96e7-fa07dd06b0ab",
   "metadata": {},
   "outputs": [
    {
     "data": {
      "text/plain": [
       "array([38,  8, 81, 74,  5, 89, 19, 20, 17, 48, 86, 94, 10, 88, 13])"
      ]
     },
     "execution_count": 68,
     "metadata": {},
     "output_type": "execute_result"
    }
   ],
   "source": [
    "a"
   ]
  },
  {
   "cell_type": "code",
   "execution_count": 69,
   "id": "87e12422-dbf7-40be-95c1-4bdd36a74a85",
   "metadata": {},
   "outputs": [],
   "source": [
    "np.put(a,[0,1],[42,82])"
   ]
  },
  {
   "cell_type": "code",
   "execution_count": 70,
   "id": "e21711b7-292c-4cb9-8543-f4c85c9af9c7",
   "metadata": {},
   "outputs": [
    {
     "data": {
      "text/plain": [
       "array([42, 82, 81, 74,  5, 89, 19, 20, 17, 48, 86, 94, 10, 88, 13])"
      ]
     },
     "execution_count": 70,
     "metadata": {},
     "output_type": "execute_result"
    }
   ],
   "source": [
    "a"
   ]
  },
  {
   "cell_type": "markdown",
   "id": "6de8f8cd-baed-4748-9871-e85fdaf9e04f",
   "metadata": {},
   "source": [
    "**np.delete**"
   ]
  },
  {
   "cell_type": "code",
   "execution_count": 72,
   "id": "ccbd9f7e-a0a6-4e19-99a2-df8e2975f248",
   "metadata": {},
   "outputs": [
    {
     "data": {
      "text/plain": [
       "array([42, 82, 81, 74,  5, 89, 19, 20, 17, 48, 86, 94, 10, 88, 13])"
      ]
     },
     "execution_count": 72,
     "metadata": {},
     "output_type": "execute_result"
    }
   ],
   "source": [
    "a"
   ]
  },
  {
   "cell_type": "code",
   "execution_count": 73,
   "id": "3d3ad30d-a674-4479-a152-7f6225bbe70a",
   "metadata": {},
   "outputs": [
    {
     "data": {
      "text/plain": [
       "array([82, 81, 74,  5, 89, 19, 20, 17, 48, 86, 94, 10, 88, 13])"
      ]
     },
     "execution_count": 73,
     "metadata": {},
     "output_type": "execute_result"
    }
   ],
   "source": [
    "np.delete(a,0)"
   ]
  },
  {
   "cell_type": "code",
   "execution_count": 74,
   "id": "cda7dfac-918a-4f6d-b3d0-b462a96267a2",
   "metadata": {},
   "outputs": [
    {
     "data": {
      "text/plain": [
       "array([82, 74, 89, 19, 20, 17, 48, 86, 94, 10, 88, 13])"
      ]
     },
     "execution_count": 74,
     "metadata": {},
     "output_type": "execute_result"
    }
   ],
   "source": [
    "np.delete(a,[0,2,4])\n"
   ]
  },
  {
   "cell_type": "markdown",
   "id": "8fe17860-0038-43e9-a86d-4cc604fe8ca1",
   "metadata": {},
   "source": [
    "**Set functions**"
   ]
  },
  {
   "cell_type": "code",
   "execution_count": 76,
   "id": "b40fdfc2-a919-4eb2-806a-6db4b2b65660",
   "metadata": {},
   "outputs": [],
   "source": [
    "m = np.array([1,2,3,4,5])\n",
    "n = np.array([3,4,5,6,7])\n"
   ]
  },
  {
   "cell_type": "code",
   "execution_count": 77,
   "id": "9427735a-1b1c-494b-90b4-77c843f80180",
   "metadata": {},
   "outputs": [
    {
     "data": {
      "text/plain": [
       "array([1, 2, 3, 4, 5, 6, 7])"
      ]
     },
     "execution_count": 77,
     "metadata": {},
     "output_type": "execute_result"
    }
   ],
   "source": [
    "np.union1d(m,n)"
   ]
  },
  {
   "cell_type": "code",
   "execution_count": 78,
   "id": "b6fae4d5-8114-4f32-af29-01e317f91dcb",
   "metadata": {},
   "outputs": [
    {
     "data": {
      "text/plain": [
       "array([3, 4, 5])"
      ]
     },
     "execution_count": 78,
     "metadata": {},
     "output_type": "execute_result"
    }
   ],
   "source": [
    "np.intersect1d(m,n)\n"
   ]
  },
  {
   "cell_type": "code",
   "execution_count": 79,
   "id": "a8f9947a-35a6-4026-8ce1-ac8d6d109cfd",
   "metadata": {},
   "outputs": [
    {
     "data": {
      "text/plain": [
       "array([1, 2])"
      ]
     },
     "execution_count": 79,
     "metadata": {},
     "output_type": "execute_result"
    }
   ],
   "source": [
    "np.setdiff1d(m,n)\n"
   ]
  },
  {
   "cell_type": "code",
   "execution_count": 80,
   "id": "13316186-1813-417b-a7c8-a8fd92460d95",
   "metadata": {},
   "outputs": [
    {
     "data": {
      "text/plain": [
       "array([1, 2, 6, 7])"
      ]
     },
     "execution_count": 80,
     "metadata": {},
     "output_type": "execute_result"
    }
   ],
   "source": [
    "np.setxor1d(m,n)\n"
   ]
  },
  {
   "cell_type": "code",
   "execution_count": 81,
   "id": "bd4e67fc-e715-4625-bd19-656929d978f0",
   "metadata": {},
   "outputs": [
    {
     "data": {
      "text/plain": [
       "array([ True, False, False, False, False])"
      ]
     },
     "execution_count": 81,
     "metadata": {},
     "output_type": "execute_result"
    }
   ],
   "source": [
    "np.in1d(m,1)\n"
   ]
  },
  {
   "cell_type": "code",
   "execution_count": 82,
   "id": "0635a1be-6705-47fe-810b-8cd3d899a10b",
   "metadata": {},
   "outputs": [
    {
     "data": {
      "text/plain": [
       "array([1])"
      ]
     },
     "execution_count": 82,
     "metadata": {},
     "output_type": "execute_result"
    }
   ],
   "source": [
    "m[np.in1d(m,1)]\n"
   ]
  },
  {
   "cell_type": "markdown",
   "id": "12bcc8b9-b35c-4729-86e9-dbee4281d13a",
   "metadata": {},
   "source": [
    "**np.clip**"
   ]
  },
  {
   "cell_type": "code",
   "execution_count": 84,
   "id": "ef31c8cd-9905-4b09-8097-5de8f3c04b19",
   "metadata": {},
   "outputs": [
    {
     "data": {
      "text/plain": [
       "array([42, 82, 81, 74,  5, 89, 19, 20, 17, 48, 86, 94, 10, 88, 13])"
      ]
     },
     "execution_count": 84,
     "metadata": {},
     "output_type": "execute_result"
    }
   ],
   "source": [
    "a"
   ]
  },
  {
   "cell_type": "code",
   "execution_count": 85,
   "id": "917b50ea-aa3d-44e1-a9b9-5ec33bcee1a0",
   "metadata": {},
   "outputs": [
    {
     "data": {
      "text/plain": [
       "array([42, 75, 75, 74, 25, 75, 25, 25, 25, 48, 75, 75, 25, 75, 25])"
      ]
     },
     "execution_count": 85,
     "metadata": {},
     "output_type": "execute_result"
    }
   ],
   "source": [
    "np.clip(a,a_min = 25,a_max = 75)"
   ]
  },
  {
   "cell_type": "code",
   "execution_count": null,
   "id": "c59722ac-a044-4e2c-bdac-4d5a5f80040e",
   "metadata": {},
   "outputs": [],
   "source": []
  }
 ],
 "metadata": {
  "kernelspec": {
   "display_name": "Python 3 (ipykernel)",
   "language": "python",
   "name": "python3"
  },
  "language_info": {
   "codemirror_mode": {
    "name": "ipython",
    "version": 3
   },
   "file_extension": ".py",
   "mimetype": "text/x-python",
   "name": "python",
   "nbconvert_exporter": "python",
   "pygments_lexer": "ipython3",
   "version": "3.12.4"
  }
 },
 "nbformat": 4,
 "nbformat_minor": 5
}
