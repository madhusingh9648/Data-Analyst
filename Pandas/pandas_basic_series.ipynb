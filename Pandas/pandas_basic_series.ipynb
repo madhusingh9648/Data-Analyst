{
 "cells": [
  {
   "cell_type": "markdown",
   "id": "b9456299-1d6e-42f3-9dac-90943edb6e4c",
   "metadata": {},
   "source": [
    "**What is Pandas**\n",
    "\n",
    "Pandas is a fast, powerful, flexible and easy to use open source data analysis and manipulation tool, built on top of the Python programming language "
   ]
  },
  {
   "cell_type": "markdown",
   "id": "6228da1e-e7a1-40b4-9961-febd2b6e8bbd",
   "metadata": {},
   "source": [
    "https://pandas.pydata.org/about/index.html"
   ]
  },
  {
   "cell_type": "markdown",
   "id": "61ff7607-4912-44e1-a191-a2d6d62b67ce",
   "metadata": {},
   "source": [
    "### Pandas Series\n",
    "\n",
    "A pandas series is like a column in a table. It is a 1-D array holding data of any type."
   ]
  },
  {
   "cell_type": "code",
   "execution_count": 4,
   "id": "a6a89395-debf-4ae6-acfa-5a05791431d1",
   "metadata": {},
   "outputs": [],
   "source": [
    "import pandas as pd\n",
    "import numpy as np"
   ]
  },
  {
   "cell_type": "markdown",
   "id": "5e09633b-0a73-4968-879b-44f253874fdc",
   "metadata": {},
   "source": [
    "#### Series from lists"
   ]
  },
  {
   "cell_type": "code",
   "execution_count": 6,
   "id": "5e17fb18-45b9-4de4-87f0-1884739e3c96",
   "metadata": {},
   "outputs": [
    {
     "data": {
      "text/plain": [
       "0       India\n",
       "1         USA\n",
       "2       Nepal\n",
       "3    Srilanka\n",
       "4    Pakistan\n",
       "dtype: object"
      ]
     },
     "execution_count": 6,
     "metadata": {},
     "output_type": "execute_result"
    }
   ],
   "source": [
    "# string \n",
    "country = ['India', 'USA', 'Nepal', 'Srilanka', 'Pakistan']\n",
    "pd.Series(country)"
   ]
  },
  {
   "cell_type": "code",
   "execution_count": 7,
   "id": "97192eb9-6f35-4cbd-be03-2596e394dcc1",
   "metadata": {},
   "outputs": [
    {
     "data": {
      "text/plain": [
       "0    31\n",
       "1    24\n",
       "2    56\n",
       "3    78\n",
       "4    86\n",
       "dtype: int64"
      ]
     },
     "execution_count": 7,
     "metadata": {},
     "output_type": "execute_result"
    }
   ],
   "source": [
    "# integers \n",
    "runs = [31,24,56,78,86]\n",
    "runs_ser = pd.Series(runs)\n",
    "runs_ser"
   ]
  },
  {
   "cell_type": "code",
   "execution_count": 8,
   "id": "c7b6fc6d-4f45-492f-a9ab-d6de257611db",
   "metadata": {},
   "outputs": [
    {
     "data": {
      "text/plain": [
       "maths      100\n",
       "english     87\n",
       "science     89\n",
       "hindi       95\n",
       "dtype: int64"
      ]
     },
     "execution_count": 8,
     "metadata": {},
     "output_type": "execute_result"
    }
   ],
   "source": [
    "# custom index \n",
    "\n",
    "marks = [100,87,89,95]\n",
    "subjects = ['maths','english','science','hindi']\n",
    "pd.Series(marks,index= subjects )\n"
   ]
  },
  {
   "cell_type": "code",
   "execution_count": 9,
   "id": "c29aecae-4d6b-46ea-af46-03e3ca2c33bc",
   "metadata": {},
   "outputs": [
    {
     "data": {
      "text/plain": [
       "maths      100\n",
       "english     87\n",
       "science     89\n",
       "hindi       95\n",
       "Name: Madhu marks, dtype: int64"
      ]
     },
     "execution_count": 9,
     "metadata": {},
     "output_type": "execute_result"
    }
   ],
   "source": [
    "# setting a name \n",
    "marks = pd.Series(marks,index= subjects, name = 'Madhu marks' )\n",
    "marks"
   ]
  },
  {
   "cell_type": "markdown",
   "id": "4c3fec2a-afa6-4eb2-a23c-61ff5d4b200a",
   "metadata": {},
   "source": [
    "#### Series from Dict"
   ]
  },
  {
   "cell_type": "code",
   "execution_count": 11,
   "id": "693587f8-ff64-4abc-bd7d-2aa8a0de5474",
   "metadata": {},
   "outputs": [
    {
     "data": {
      "text/plain": [
       "maths      100\n",
       "english     87\n",
       "science     89\n",
       "hindi       95\n",
       "Name: Madhu marks, dtype: int64"
      ]
     },
     "execution_count": 11,
     "metadata": {},
     "output_type": "execute_result"
    }
   ],
   "source": [
    "marks = {\n",
    "    'maths':100,\n",
    "    'english': 87,\n",
    "    'science': 89,\n",
    "    'hindi': 95    \n",
    "}\n",
    "marks_series = pd.Series(marks, name = 'Madhu marks')\n",
    "marks_series"
   ]
  },
  {
   "cell_type": "markdown",
   "id": "6c28603a-2352-4170-8c81-c83cceb05aa8",
   "metadata": {},
   "source": [
    "### Series Attributes"
   ]
  },
  {
   "cell_type": "code",
   "execution_count": 13,
   "id": "8327eff0-8dec-4a4d-b5fc-e929b6796575",
   "metadata": {},
   "outputs": [
    {
     "data": {
      "text/plain": [
       "4"
      ]
     },
     "execution_count": 13,
     "metadata": {},
     "output_type": "execute_result"
    }
   ],
   "source": [
    "#size \n",
    "marks_series\n",
    "marks_series.size"
   ]
  },
  {
   "cell_type": "code",
   "execution_count": 14,
   "id": "5a2aa1f2-a67f-4ef7-9c78-49ed7c2fb166",
   "metadata": {},
   "outputs": [
    {
     "data": {
      "text/plain": [
       "dtype('int64')"
      ]
     },
     "execution_count": 14,
     "metadata": {},
     "output_type": "execute_result"
    }
   ],
   "source": [
    "# dtypes \n",
    "marks_series.dtype\n"
   ]
  },
  {
   "cell_type": "code",
   "execution_count": 15,
   "id": "bb005635-5e9c-4a18-8a37-676c31244796",
   "metadata": {},
   "outputs": [
    {
     "data": {
      "text/plain": [
       "'Madhu marks'"
      ]
     },
     "execution_count": 15,
     "metadata": {},
     "output_type": "execute_result"
    }
   ],
   "source": [
    "# name \n",
    "marks_series.name\n"
   ]
  },
  {
   "cell_type": "code",
   "execution_count": 16,
   "id": "c733a6f1-5300-486b-8a5a-747b7c1e189c",
   "metadata": {},
   "outputs": [
    {
     "data": {
      "text/plain": [
       "True"
      ]
     },
     "execution_count": 16,
     "metadata": {},
     "output_type": "execute_result"
    }
   ],
   "source": [
    "# is_unique\n",
    "marks_series.is_unique"
   ]
  },
  {
   "cell_type": "code",
   "execution_count": 17,
   "id": "624d0f41-422d-497e-98ce-6f1c46d3f693",
   "metadata": {},
   "outputs": [
    {
     "data": {
      "text/plain": [
       "False"
      ]
     },
     "execution_count": 17,
     "metadata": {},
     "output_type": "execute_result"
    }
   ],
   "source": [
    "pd.Series([1,2,2,3,4,5]).is_unique"
   ]
  },
  {
   "cell_type": "code",
   "execution_count": 18,
   "id": "23f2a534-77fd-4422-a85f-570d8e0068d7",
   "metadata": {},
   "outputs": [
    {
     "data": {
      "text/plain": [
       "Index(['maths', 'english', 'science', 'hindi'], dtype='object')"
      ]
     },
     "execution_count": 18,
     "metadata": {},
     "output_type": "execute_result"
    }
   ],
   "source": [
    "# index\n",
    "marks_series.index\n"
   ]
  },
  {
   "cell_type": "code",
   "execution_count": 19,
   "id": "4f56450e-ff2f-4f93-afc7-2d5b593a662b",
   "metadata": {},
   "outputs": [
    {
     "data": {
      "text/plain": [
       "array([100,  87,  89,  95], dtype=int64)"
      ]
     },
     "execution_count": 19,
     "metadata": {},
     "output_type": "execute_result"
    }
   ],
   "source": [
    "# values\n",
    "marks_series.values\n"
   ]
  },
  {
   "cell_type": "markdown",
   "id": "ba207d26-9ceb-4904-9196-88e2cc4bb4a9",
   "metadata": {},
   "source": [
    "### Series using read_csv"
   ]
  },
  {
   "cell_type": "code",
   "execution_count": 21,
   "id": "953f6bea-8326-4384-9898-075864b9cd51",
   "metadata": {},
   "outputs": [
    {
     "data": {
      "text/plain": [
       "0       48\n",
       "1       57\n",
       "2       40\n",
       "3       43\n",
       "4       44\n",
       "      ... \n",
       "360    231\n",
       "361    226\n",
       "362    155\n",
       "363    144\n",
       "364    172\n",
       "Name: Subscribers gained, Length: 365, dtype: int64"
      ]
     },
     "execution_count": 21,
     "metadata": {},
     "output_type": "execute_result"
    }
   ],
   "source": [
    "# with one col \n",
    "subs = pd.read_csv('subs.csv').squeeze() \n",
    "type(subs)\n",
    "subs"
   ]
  },
  {
   "cell_type": "code",
   "execution_count": 22,
   "id": "6846538f-ca90-47d2-bc6f-b5514b37fed3",
   "metadata": {},
   "outputs": [
    {
     "data": {
      "text/plain": [
       "match_no\n",
       "1       1\n",
       "2      23\n",
       "3      13\n",
       "4      12\n",
       "5       1\n",
       "       ..\n",
       "211     0\n",
       "212    20\n",
       "213    73\n",
       "214    25\n",
       "215     7\n",
       "Name: runs, Length: 215, dtype: int64"
      ]
     },
     "execution_count": 22,
     "metadata": {},
     "output_type": "execute_result"
    }
   ],
   "source": [
    "# with one col \n",
    "vk = pd.read_csv('kohli_ipl.csv',index_col = 'match_no').squeeze() \n",
    "type(vk)\n",
    "vk"
   ]
  },
  {
   "cell_type": "code",
   "execution_count": 23,
   "id": "2bba0b66-b1cb-45c1-9e2e-6d9a02f36a21",
   "metadata": {},
   "outputs": [
    {
     "name": "stdout",
     "output_type": "stream",
     "text": [
      "<class 'pandas.core.series.Series'>\n"
     ]
    },
    {
     "data": {
      "text/plain": [
       "movie\n",
       "Uri: The Surgical Strike                   Vicky Kaushal\n",
       "Battalion 609                                Vicky Ahuja\n",
       "The Accidental Prime Minister (film)         Anupam Kher\n",
       "Why Cheat India                            Emraan Hashmi\n",
       "Evening Shadows                         Mona Ambegaonkar\n",
       "                                              ...       \n",
       "Hum Tumhare Hain Sanam                    Shah Rukh Khan\n",
       "Aankhen (2002 film)                     Amitabh Bachchan\n",
       "Saathiya (film)                             Vivek Oberoi\n",
       "Company (film)                                Ajay Devgn\n",
       "Awara Paagal Deewana                        Akshay Kumar\n",
       "Name: lead, Length: 1500, dtype: object"
      ]
     },
     "execution_count": 23,
     "metadata": {},
     "output_type": "execute_result"
    }
   ],
   "source": [
    "# with one col \n",
    "movies = pd.read_csv('bollywood.csv',index_col = 'movie').squeeze() \n",
    "print(type(movies))\n",
    "movies"
   ]
  },
  {
   "cell_type": "markdown",
   "id": "f6c29adf-1b65-455a-b21f-132ee4e98911",
   "metadata": {},
   "source": [
    "### Series methods"
   ]
  },
  {
   "cell_type": "code",
   "execution_count": 25,
   "id": "a2518537-4b49-4e8a-b08c-d17188eb9c73",
   "metadata": {},
   "outputs": [
    {
     "data": {
      "text/plain": [
       "0    48\n",
       "1    57\n",
       "2    40\n",
       "3    43\n",
       "4    44\n",
       "Name: Subscribers gained, dtype: int64"
      ]
     },
     "execution_count": 25,
     "metadata": {},
     "output_type": "execute_result"
    }
   ],
   "source": [
    "# head \n",
    "subs.head()"
   ]
  },
  {
   "cell_type": "code",
   "execution_count": 26,
   "id": "cc1c1a69-3515-4125-b7cd-c0d77739cba7",
   "metadata": {},
   "outputs": [
    {
     "data": {
      "text/plain": [
       "match_no\n",
       "1     1\n",
       "2    23\n",
       "3    13\n",
       "4    12\n",
       "Name: runs, dtype: int64"
      ]
     },
     "execution_count": 26,
     "metadata": {},
     "output_type": "execute_result"
    }
   ],
   "source": [
    "vk.head(4)"
   ]
  },
  {
   "cell_type": "code",
   "execution_count": 27,
   "id": "bffa4005-856e-4871-9d92-e9616151c219",
   "metadata": {},
   "outputs": [
    {
     "data": {
      "text/plain": [
       "match_no\n",
       "211     0\n",
       "212    20\n",
       "213    73\n",
       "214    25\n",
       "215     7\n",
       "Name: runs, dtype: int64"
      ]
     },
     "execution_count": 27,
     "metadata": {},
     "output_type": "execute_result"
    }
   ],
   "source": [
    "# tail \n",
    "vk.tail()"
   ]
  },
  {
   "cell_type": "code",
   "execution_count": 28,
   "id": "56e24e8b-d489-4f9a-a5e5-78c4848222d2",
   "metadata": {},
   "outputs": [
    {
     "data": {
      "text/plain": [
       "match_no\n",
       "17    22\n",
       "Name: runs, dtype: int64"
      ]
     },
     "execution_count": 28,
     "metadata": {},
     "output_type": "execute_result"
    }
   ],
   "source": [
    "#sample \n",
    "vk.sample()"
   ]
  },
  {
   "cell_type": "code",
   "execution_count": 29,
   "id": "e10bf94e-1d5f-41cd-a2f1-a1187c6ac475",
   "metadata": {},
   "outputs": [
    {
     "data": {
      "text/plain": [
       "movie\n",
       "Garam Masala (2005 film)            Akshay Kumar\n",
       "Iqraar by Chance                        Amarjeet\n",
       "Tere Bin Laden: Dead or Alive    Parthaa Akerkar\n",
       "Maine Gandhi Ko Nahin Mara           Anupam Kher\n",
       "Rocky Handsome                      John Abraham\n",
       "Name: lead, dtype: object"
      ]
     },
     "execution_count": 29,
     "metadata": {},
     "output_type": "execute_result"
    }
   ],
   "source": [
    "movies.sample(5)"
   ]
  },
  {
   "cell_type": "code",
   "execution_count": 30,
   "id": "ae11db2f-f18d-4682-8f1b-ad1682a84325",
   "metadata": {},
   "outputs": [
    {
     "data": {
      "text/plain": [
       "lead\n",
       "Akshay Kumar        48\n",
       "Amitabh Bachchan    45\n",
       "Ajay Devgn          38\n",
       "Salman Khan         31\n",
       "Sanjay Dutt         26\n",
       "                    ..\n",
       "Diganth              1\n",
       "Parveen Kaur         1\n",
       "Seema Azmi           1\n",
       "Akanksha Puri        1\n",
       "Edwin Fernandes      1\n",
       "Name: count, Length: 566, dtype: int64"
      ]
     },
     "execution_count": 30,
     "metadata": {},
     "output_type": "execute_result"
    }
   ],
   "source": [
    "# value_counts -> movies \n",
    "movies.value_counts()"
   ]
  },
  {
   "cell_type": "code",
   "execution_count": 31,
   "id": "f082cff7-5a26-405f-bb33-ebc247bd3150",
   "metadata": {},
   "outputs": [
    {
     "data": {
      "text/plain": [
       "match_no\n",
       "128    113\n",
       "126    109\n",
       "123    108\n",
       "164    100\n",
       "120    100\n",
       "      ... \n",
       "93       0\n",
       "211      0\n",
       "130      0\n",
       "8        0\n",
       "135      0\n",
       "Name: runs, Length: 215, dtype: int64"
      ]
     },
     "execution_count": 31,
     "metadata": {},
     "output_type": "execute_result"
    }
   ],
   "source": [
    "# sort_values -> inplace \n",
    "vk.sort_values(ascending = False)"
   ]
  },
  {
   "cell_type": "code",
   "execution_count": 32,
   "id": "9ebe5c38-169c-4e78-9c92-c8f9de5e699d",
   "metadata": {},
   "outputs": [
    {
     "data": {
      "text/plain": [
       "match_no\n",
       "128    113\n",
       "Name: runs, dtype: int64"
      ]
     },
     "execution_count": 32,
     "metadata": {},
     "output_type": "execute_result"
    }
   ],
   "source": [
    "vk.sort_values(ascending = False).head(1)\n"
   ]
  },
  {
   "cell_type": "code",
   "execution_count": 33,
   "id": "e7269c72-dab2-4b68-9b67-396f9abb0d28",
   "metadata": {},
   "outputs": [
    {
     "data": {
      "text/plain": [
       "array([113], dtype=int64)"
      ]
     },
     "execution_count": 33,
     "metadata": {},
     "output_type": "execute_result"
    }
   ],
   "source": [
    "vk.sort_values(ascending = False).head(1).values\n"
   ]
  },
  {
   "cell_type": "code",
   "execution_count": 34,
   "id": "0b776cf9-661f-409c-82af-07299e7819b1",
   "metadata": {},
   "outputs": [
    {
     "data": {
      "text/plain": [
       "113"
      ]
     },
     "execution_count": 34,
     "metadata": {},
     "output_type": "execute_result"
    }
   ],
   "source": [
    "vk.sort_values(ascending = False).head(1).values[0]\n"
   ]
  },
  {
   "cell_type": "code",
   "execution_count": 35,
   "id": "027023cc-87c5-4cc8-a953-7f7495f7a3e8",
   "metadata": {},
   "outputs": [],
   "source": [
    "# vk.sort_values(inplace = True) # save the changes(permanent changes) "
   ]
  },
  {
   "cell_type": "code",
   "execution_count": 36,
   "id": "5ccff512-222a-4232-b68f-70420e1ec8a0",
   "metadata": {},
   "outputs": [
    {
     "data": {
      "text/plain": [
       "movie\n",
       "1920 (film)                   Rajniesh Duggall\n",
       "1920: London                     Sharman Joshi\n",
       "1920: The Evil Returns             Vicky Ahuja\n",
       "1971 (2007 film)                Manoj Bajpayee\n",
       "2 States (2014 film)              Arjun Kapoor\n",
       "                                   ...        \n",
       "Zindagi 50-50                      Veena Malik\n",
       "Zindagi Na Milegi Dobara        Hrithik Roshan\n",
       "Zindagi Tere Naam           Mithun Chakraborty\n",
       "Zokkomon                       Darsheel Safary\n",
       "Zor Lagaa Ke...Haiya!            Meghan Jadhav\n",
       "Name: lead, Length: 1500, dtype: object"
      ]
     },
     "execution_count": 36,
     "metadata": {},
     "output_type": "execute_result"
    }
   ],
   "source": [
    "# sort_index \n",
    "movies.sort_index()"
   ]
  },
  {
   "cell_type": "markdown",
   "id": "e2a4501c-4faf-4a0d-8e4c-2eb4e31a92c4",
   "metadata": {},
   "source": [
    "### Series Maths Method"
   ]
  },
  {
   "cell_type": "code",
   "execution_count": 38,
   "id": "5a69070a-1c25-40b3-87ee-48ae1a2bf5ae",
   "metadata": {},
   "outputs": [
    {
     "data": {
      "text/plain": [
       "215"
      ]
     },
     "execution_count": 38,
     "metadata": {},
     "output_type": "execute_result"
    }
   ],
   "source": [
    "# count (not count missing values)\n",
    "vk.count()"
   ]
  },
  {
   "cell_type": "code",
   "execution_count": 39,
   "id": "11817e55-3ac1-4658-9a45-07862d103dc0",
   "metadata": {},
   "outputs": [
    {
     "data": {
      "text/plain": [
       "215"
      ]
     },
     "execution_count": 39,
     "metadata": {},
     "output_type": "execute_result"
    }
   ],
   "source": [
    "vk.size # count missing value too"
   ]
  },
  {
   "cell_type": "code",
   "execution_count": 40,
   "id": "ecf4a40d-a6a6-4529-90aa-5d998e2a8669",
   "metadata": {},
   "outputs": [
    {
     "data": {
      "text/plain": [
       "49510"
      ]
     },
     "execution_count": 40,
     "metadata": {},
     "output_type": "execute_result"
    }
   ],
   "source": [
    "# sum \n",
    "subs.sum()"
   ]
  },
  {
   "cell_type": "code",
   "execution_count": 41,
   "id": "7493a541-e24b-4df8-9321-dd81bf26a616",
   "metadata": {},
   "outputs": [
    {
     "data": {
      "text/plain": [
       "0"
      ]
     },
     "execution_count": 41,
     "metadata": {},
     "output_type": "execute_result"
    }
   ],
   "source": [
    "# prod \n",
    "subs.product()"
   ]
  },
  {
   "cell_type": "code",
   "execution_count": 42,
   "id": "7deb6d2a-7425-4987-9de6-33ada5f4ae9c",
   "metadata": {},
   "outputs": [
    {
     "data": {
      "text/plain": [
       "135.64383561643837"
      ]
     },
     "execution_count": 42,
     "metadata": {},
     "output_type": "execute_result"
    }
   ],
   "source": [
    "# mean\n",
    "subs.mean()"
   ]
  },
  {
   "cell_type": "code",
   "execution_count": 43,
   "id": "80af0721-661e-4a64-a7b8-7dc782d3a9d4",
   "metadata": {},
   "outputs": [
    {
     "data": {
      "text/plain": [
       "123.0"
      ]
     },
     "execution_count": 43,
     "metadata": {},
     "output_type": "execute_result"
    }
   ],
   "source": [
    "#median\n",
    "subs.median()"
   ]
  },
  {
   "cell_type": "code",
   "execution_count": 44,
   "id": "98b9af8b-8f21-4572-9950-33e48e0e9bb5",
   "metadata": {},
   "outputs": [
    {
     "data": {
      "text/plain": [
       "24.0"
      ]
     },
     "execution_count": 44,
     "metadata": {},
     "output_type": "execute_result"
    }
   ],
   "source": [
    "vk.median()"
   ]
  },
  {
   "cell_type": "code",
   "execution_count": 45,
   "id": "0d387525-8f5e-4378-97ed-e3f4da18d09a",
   "metadata": {},
   "outputs": [
    {
     "data": {
      "text/plain": [
       "0    Akshay Kumar\n",
       "Name: lead, dtype: object"
      ]
     },
     "execution_count": 45,
     "metadata": {},
     "output_type": "execute_result"
    }
   ],
   "source": [
    "#mode \n",
    "movies.mode()"
   ]
  },
  {
   "cell_type": "code",
   "execution_count": 46,
   "id": "b9453ce3-f985-4c21-8674-b0595fd682ab",
   "metadata": {},
   "outputs": [
    {
     "data": {
      "text/plain": [
       "62.67502303725269"
      ]
     },
     "execution_count": 46,
     "metadata": {},
     "output_type": "execute_result"
    }
   ],
   "source": [
    "# std \n",
    "subs.std()"
   ]
  },
  {
   "cell_type": "code",
   "execution_count": 47,
   "id": "7cc18dbc-5390-4699-b762-4039c1c901e0",
   "metadata": {},
   "outputs": [
    {
     "data": {
      "text/plain": [
       "3928.1585127201556"
      ]
     },
     "execution_count": 47,
     "metadata": {},
     "output_type": "execute_result"
    }
   ],
   "source": [
    "# var \n",
    "subs.var()"
   ]
  },
  {
   "cell_type": "code",
   "execution_count": 48,
   "id": "a19c49a9-a454-4c1f-b2cd-15ad148eeca2",
   "metadata": {},
   "outputs": [
    {
     "data": {
      "text/plain": [
       "688.0024777222344"
      ]
     },
     "execution_count": 48,
     "metadata": {},
     "output_type": "execute_result"
    }
   ],
   "source": [
    "vk.var()"
   ]
  },
  {
   "cell_type": "code",
   "execution_count": 49,
   "id": "b08fc58a-d0c3-4c36-a219-8be70f5f88cd",
   "metadata": {},
   "outputs": [
    {
     "data": {
      "text/plain": [
       "33"
      ]
     },
     "execution_count": 49,
     "metadata": {},
     "output_type": "execute_result"
    }
   ],
   "source": [
    "# min \n",
    "subs.min()"
   ]
  },
  {
   "cell_type": "code",
   "execution_count": 50,
   "id": "918c1da8-4541-4852-9f49-7ff1eb121566",
   "metadata": {},
   "outputs": [
    {
     "data": {
      "text/plain": [
       "396"
      ]
     },
     "execution_count": 50,
     "metadata": {},
     "output_type": "execute_result"
    }
   ],
   "source": [
    "subs.max()"
   ]
  },
  {
   "cell_type": "code",
   "execution_count": 51,
   "id": "bc73554c-88db-4eae-a5f1-2b98829c7149",
   "metadata": {},
   "outputs": [
    {
     "data": {
      "text/plain": [
       "array([ 48,  57,  40,  43,  44,  46,  33,  74,  49,  56,  42,  39,  54,\n",
       "        51,  37,  45,  50,  35,  88,  61,  76, 123, 108, 110,  62,  65,\n",
       "        66,  82, 126, 109,  83, 101, 128, 111,  96,  99, 105,  72,  93,\n",
       "       104,  70,  80, 136, 115, 112, 145,  87,  84,  92, 132,  98,  86,\n",
       "       120,  90,  78,  81,  89,  95, 100,  79,  67,  71,  77,  73,  68,\n",
       "       159,  64,  85, 135,  75, 119, 118,  97, 114, 117, 102, 113, 129,\n",
       "       140, 180, 225, 249, 265, 306, 261, 222, 170, 160, 175, 152, 130,\n",
       "       146, 150, 103, 138, 124, 139, 131, 125,  91, 127, 137, 156, 122,\n",
       "       192, 224, 254, 214, 236, 247, 207, 301, 233, 168, 179, 154, 153,\n",
       "       202, 185, 158, 173, 184, 259, 196, 213, 210, 182, 216, 183, 147,\n",
       "       157, 134, 228, 237, 276, 290, 295, 245, 241, 267, 269, 211, 186,\n",
       "       206, 176, 203, 190, 172, 174, 178, 189, 162, 151, 230, 167, 244,\n",
       "       155, 243, 227, 166, 396, 312, 268, 229, 197, 188, 221, 171, 258,\n",
       "       219, 212, 164, 220, 204, 149, 177, 209, 231, 226, 144], dtype=int64)"
      ]
     },
     "execution_count": 51,
     "metadata": {},
     "output_type": "execute_result"
    }
   ],
   "source": [
    "subs.unique()"
   ]
  },
  {
   "cell_type": "code",
   "execution_count": 52,
   "id": "374981f1-2cab-457b-8949-cc0239ee3427",
   "metadata": {},
   "outputs": [
    {
     "data": {
      "text/plain": [
       "0"
      ]
     },
     "execution_count": 52,
     "metadata": {},
     "output_type": "execute_result"
    }
   ],
   "source": [
    "subs.prod() "
   ]
  },
  {
   "cell_type": "markdown",
   "id": "e4e81afb-aa15-4a51-8ab5-449a14d5a236",
   "metadata": {},
   "source": [
    "Overflow or Precision Issues: Given the large numbers in your dataset (like 265, 301, 396), the product of all these values could result in an extremely large number. In some cases, this might cause an overflow or result in 0 due to floating-point precision limitations, depending on your environment and the size of the data.\n",
    "\n",
    "For example, if you multiply enough large numbers, the result may exceed the limits of the data type used to store the result, causing unexpected behavior."
   ]
  },
  {
   "cell_type": "code",
   "execution_count": 54,
   "id": "a0fb1dae-e34f-4d5a-8250-952ba5f27db3",
   "metadata": {},
   "outputs": [
    {
     "data": {
      "text/plain": [
       "40936751397273600"
      ]
     },
     "execution_count": 54,
     "metadata": {},
     "output_type": "execute_result"
    }
   ],
   "source": [
    "subs[:10].product() # first 10 prod\n",
    " "
   ]
  },
  {
   "cell_type": "code",
   "execution_count": 55,
   "id": "7d6a9993-3728-4c34-9eaf-14405aafa42f",
   "metadata": {},
   "outputs": [
    {
     "data": {
      "text/plain": [
       "count    365.000000\n",
       "mean     135.643836\n",
       "std       62.675023\n",
       "min       33.000000\n",
       "25%       88.000000\n",
       "50%      123.000000\n",
       "75%      177.000000\n",
       "max      396.000000\n",
       "Name: Subscribers gained, dtype: float64"
      ]
     },
     "execution_count": 55,
     "metadata": {},
     "output_type": "execute_result"
    }
   ],
   "source": [
    "# describe\n",
    "subs.describe()"
   ]
  },
  {
   "cell_type": "code",
   "execution_count": 56,
   "id": "db3ad20a-203c-45d6-ab6b-4e250d17535c",
   "metadata": {},
   "outputs": [
    {
     "data": {
      "text/plain": [
       "count    215.000000\n",
       "mean      30.855814\n",
       "std       26.229801\n",
       "min        0.000000\n",
       "25%        9.000000\n",
       "50%       24.000000\n",
       "75%       48.000000\n",
       "max      113.000000\n",
       "Name: runs, dtype: float64"
      ]
     },
     "execution_count": 56,
     "metadata": {},
     "output_type": "execute_result"
    }
   ],
   "source": [
    "vk.describe()"
   ]
  },
  {
   "cell_type": "markdown",
   "id": "ad79793d-d1d7-439e-9188-545cddede089",
   "metadata": {},
   "source": [
    "### Series Indexing"
   ]
  },
  {
   "cell_type": "code",
   "execution_count": 58,
   "id": "65c61ae5-6cdc-41ac-9a71-18d3e6fba580",
   "metadata": {},
   "outputs": [
    {
     "data": {
      "text/plain": [
       "0    12\n",
       "1    13\n",
       "2    14\n",
       "3    35\n",
       "4    46\n",
       "5    57\n",
       "6    79\n",
       "7     9\n",
       "8    23\n",
       "dtype: int64"
      ]
     },
     "execution_count": 58,
     "metadata": {},
     "output_type": "execute_result"
    }
   ],
   "source": [
    "# positive indexing\n",
    "x = pd.Series([12,13,14,35,46,57,79,9,23])\n",
    "x"
   ]
  },
  {
   "cell_type": "code",
   "execution_count": 59,
   "id": "0de41c3b-9e5f-474c-ad74-b5ae5e62570f",
   "metadata": {},
   "outputs": [],
   "source": [
    "#negative indexing \n",
    "#x[-1] series not follow negative indexing \n"
   ]
  },
  {
   "cell_type": "code",
   "execution_count": 60,
   "id": "bd7ea215-b05a-4aa1-83c2-9763b697e29b",
   "metadata": {},
   "outputs": [
    {
     "data": {
      "text/plain": [
       "23"
      ]
     },
     "execution_count": 60,
     "metadata": {},
     "output_type": "execute_result"
    }
   ],
   "source": [
    "x.iloc[-1]  # This will work and return 23\n"
   ]
  },
  {
   "cell_type": "code",
   "execution_count": 61,
   "id": "08b2c0c1-8810-423d-b2ab-e4f49d51366a",
   "metadata": {},
   "outputs": [
    {
     "data": {
      "text/plain": [
       "movie\n",
       "Uri: The Surgical Strike                   Vicky Kaushal\n",
       "Battalion 609                                Vicky Ahuja\n",
       "The Accidental Prime Minister (film)         Anupam Kher\n",
       "Why Cheat India                            Emraan Hashmi\n",
       "Evening Shadows                         Mona Ambegaonkar\n",
       "                                              ...       \n",
       "Hum Tumhare Hain Sanam                    Shah Rukh Khan\n",
       "Aankhen (2002 film)                     Amitabh Bachchan\n",
       "Saathiya (film)                             Vivek Oberoi\n",
       "Company (film)                                Ajay Devgn\n",
       "Awara Paagal Deewana                        Akshay Kumar\n",
       "Name: lead, Length: 1500, dtype: object"
      ]
     },
     "execution_count": 61,
     "metadata": {},
     "output_type": "execute_result"
    }
   ],
   "source": [
    "movies"
   ]
  },
  {
   "cell_type": "code",
   "execution_count": 62,
   "id": "6ce4fe93-787b-41c7-9ad6-b25f73ef4e16",
   "metadata": {},
   "outputs": [
    {
     "name": "stderr",
     "output_type": "stream",
     "text": [
      "C:\\Users\\User.DESKTOP-8O1CPIG.000\\AppData\\Local\\Temp\\ipykernel_15020\\254080486.py:1: FutureWarning: Series.__getitem__ treating keys as positions is deprecated. In a future version, integer keys will always be treated as labels (consistent with DataFrame behavior). To access a value by position, use `ser.iloc[pos]`\n",
      "  movies[-1] # here it work.\n"
     ]
    },
    {
     "data": {
      "text/plain": [
       "'Akshay Kumar'"
      ]
     },
     "execution_count": 62,
     "metadata": {},
     "output_type": "execute_result"
    }
   ],
   "source": [
    "movies[-1] # here it work."
   ]
  },
  {
   "cell_type": "code",
   "execution_count": 63,
   "id": "91962ad4-c6bc-4563-a1df-23b0b5555f97",
   "metadata": {},
   "outputs": [],
   "source": [
    "#vk[-1] # here it not work"
   ]
  },
  {
   "cell_type": "markdown",
   "id": "b697d1e9-2fc2-405d-b4ca-489c97946deb",
   "metadata": {},
   "source": [
    "The reason movies[-1] works is that pandas allows negative indexing when the Series has a default integer index (starting from 0, 1, 2, ...). Negative indexing works in this case because pandas interprets -1 as \"the last element\" in the series. However, x[-1] doesn't work because pandas doesn't always support negative indexing for accessing elements in a series directly. Instead, pandas prefers using .iloc[] for positional indexing, which explicitly tells pandas to get the element at a specific position. So, while movies[-1] works due to its default index, the correct and reliable way to get the last element is using .iloc[-1]."
   ]
  },
  {
   "cell_type": "code",
   "execution_count": 65,
   "id": "dcb09948-12ef-4a09-92ef-66bea642f761",
   "metadata": {},
   "outputs": [
    {
     "data": {
      "text/plain": [
       "maths      100\n",
       "english     87\n",
       "science     89\n",
       "hindi       95\n",
       "Name: Madhu marks, dtype: int64"
      ]
     },
     "execution_count": 65,
     "metadata": {},
     "output_type": "execute_result"
    }
   ],
   "source": [
    "marks_series"
   ]
  },
  {
   "cell_type": "code",
   "execution_count": 66,
   "id": "968e8a50-fa72-43f8-8d72-f41f498e6d7b",
   "metadata": {},
   "outputs": [
    {
     "name": "stderr",
     "output_type": "stream",
     "text": [
      "C:\\Users\\User.DESKTOP-8O1CPIG.000\\AppData\\Local\\Temp\\ipykernel_15020\\3167941755.py:1: FutureWarning: Series.__getitem__ treating keys as positions is deprecated. In a future version, integer keys will always be treated as labels (consistent with DataFrame behavior). To access a value by position, use `ser.iloc[pos]`\n",
      "  marks_series[-1] # here it work\n"
     ]
    },
    {
     "data": {
      "text/plain": [
       "95"
      ]
     },
     "execution_count": 66,
     "metadata": {},
     "output_type": "execute_result"
    }
   ],
   "source": [
    "marks_series[-1] # here it work"
   ]
  },
  {
   "cell_type": "code",
   "execution_count": 67,
   "id": "3b6978b8-9fe4-4edd-b84a-5fcfaa78c72b",
   "metadata": {},
   "outputs": [
    {
     "name": "stdout",
     "output_type": "stream",
     "text": [
      "<class 'pandas.core.series.Series'>\n",
      "Index: 215 entries, 1 to 215\n",
      "Series name: runs\n",
      "Non-Null Count  Dtype\n",
      "--------------  -----\n",
      "215 non-null    int64\n",
      "dtypes: int64(1)\n",
      "memory usage: 3.4 KB\n"
     ]
    }
   ],
   "source": [
    "vk.info()"
   ]
  },
  {
   "cell_type": "code",
   "execution_count": 68,
   "id": "292d9d40-d02c-4f71-ad97-757558a200c8",
   "metadata": {},
   "outputs": [
    {
     "name": "stdout",
     "output_type": "stream",
     "text": [
      "<class 'pandas.core.series.Series'>\n",
      "Index: 1500 entries, Uri: The Surgical Strike to Awara Paagal Deewana\n",
      "Series name: lead\n",
      "Non-Null Count  Dtype \n",
      "--------------  ----- \n",
      "1500 non-null   object\n",
      "dtypes: object(1)\n",
      "memory usage: 55.7+ KB\n"
     ]
    }
   ],
   "source": [
    "movies.info()\n"
   ]
  },
  {
   "cell_type": "code",
   "execution_count": 69,
   "id": "0713ca32-f640-4479-9d5e-8f15349f820c",
   "metadata": {},
   "outputs": [
    {
     "name": "stdout",
     "output_type": "stream",
     "text": [
      "<class 'pandas.core.series.Series'>\n",
      "RangeIndex: 365 entries, 0 to 364\n",
      "Series name: Subscribers gained\n",
      "Non-Null Count  Dtype\n",
      "--------------  -----\n",
      "365 non-null    int64\n",
      "dtypes: int64(1)\n",
      "memory usage: 3.0 KB\n"
     ]
    }
   ],
   "source": [
    "subs.info()"
   ]
  },
  {
   "cell_type": "code",
   "execution_count": 70,
   "id": "5642dd33-2292-42ec-86e8-45e5ae1ff6fd",
   "metadata": {},
   "outputs": [
    {
     "data": {
      "text/plain": [
       "match_no\n",
       "6      9\n",
       "7     34\n",
       "8      0\n",
       "9     21\n",
       "10     3\n",
       "11    10\n",
       "12    38\n",
       "13     3\n",
       "14    11\n",
       "15    50\n",
       "16     2\n",
       "Name: runs, dtype: int64"
      ]
     },
     "execution_count": 70,
     "metadata": {},
     "output_type": "execute_result"
    }
   ],
   "source": [
    "# slicing \n",
    "vk[5:16]"
   ]
  },
  {
   "cell_type": "code",
   "execution_count": 71,
   "id": "1b2dd86d-fcc0-4a54-8f28-0a02c2928d12",
   "metadata": {},
   "outputs": [
    {
     "data": {
      "text/plain": [
       "match_no\n",
       "211     0\n",
       "212    20\n",
       "213    73\n",
       "214    25\n",
       "215     7\n",
       "Name: runs, dtype: int64"
      ]
     },
     "execution_count": 71,
     "metadata": {},
     "output_type": "execute_result"
    }
   ],
   "source": [
    "# negative slicing\n",
    "vk[-5:]"
   ]
  },
  {
   "cell_type": "code",
   "execution_count": 72,
   "id": "5886940c-db59-4c77-9fb9-85d08515fb61",
   "metadata": {},
   "outputs": [
    {
     "data": {
      "text/plain": [
       "match_no\n",
       "1     1\n",
       "3    13\n",
       "4    12\n",
       "5     1\n",
       "Name: runs, dtype: int64"
      ]
     },
     "execution_count": 72,
     "metadata": {},
     "output_type": "execute_result"
    }
   ],
   "source": [
    "# fancy indexing \n",
    "vk[[1,3,4,5]]"
   ]
  },
  {
   "cell_type": "code",
   "execution_count": 73,
   "id": "5624f0e5-0792-4c4f-a68b-fb0699c80553",
   "metadata": {},
   "outputs": [
    {
     "data": {
      "text/plain": [
       "'Mona Ambegaonkar'"
      ]
     },
     "execution_count": 73,
     "metadata": {},
     "output_type": "execute_result"
    }
   ],
   "source": [
    "# indexing with labels \n",
    "movies['Evening Shadows']"
   ]
  },
  {
   "cell_type": "markdown",
   "id": "1640777a-a441-493f-9dda-3746199669bf",
   "metadata": {},
   "source": [
    "### Editing Series"
   ]
  },
  {
   "cell_type": "code",
   "execution_count": 75,
   "id": "cc4c6baa-cda8-487f-be84-218b9c3aa132",
   "metadata": {},
   "outputs": [
    {
     "data": {
      "text/plain": [
       "maths      100\n",
       "english     87\n",
       "science     89\n",
       "hindi       95\n",
       "Name: Madhu marks, dtype: int64"
      ]
     },
     "execution_count": 75,
     "metadata": {},
     "output_type": "execute_result"
    }
   ],
   "source": [
    "marks_series"
   ]
  },
  {
   "cell_type": "code",
   "execution_count": 76,
   "id": "990ee416-81a5-4ab9-9663-8665c1033add",
   "metadata": {},
   "outputs": [
    {
     "name": "stderr",
     "output_type": "stream",
     "text": [
      "C:\\Users\\User.DESKTOP-8O1CPIG.000\\AppData\\Local\\Temp\\ipykernel_15020\\1818227013.py:2: FutureWarning: Series.__setitem__ treating keys as positions is deprecated. In a future version, integer keys will always be treated as labels (consistent with DataFrame behavior). To set a value by position, use `ser.iloc[pos] = value`\n",
      "  marks_series[1]=100\n"
     ]
    },
    {
     "data": {
      "text/plain": [
       "maths      100\n",
       "english    100\n",
       "science     89\n",
       "hindi       95\n",
       "Name: Madhu marks, dtype: int64"
      ]
     },
     "execution_count": 76,
     "metadata": {},
     "output_type": "execute_result"
    }
   ],
   "source": [
    "# using indexing\n",
    "marks_series[1]=100\n",
    "marks_series\n"
   ]
  },
  {
   "cell_type": "code",
   "execution_count": 77,
   "id": "a8770a5d-5614-49c8-a355-d1ca4ce68c87",
   "metadata": {},
   "outputs": [
    {
     "data": {
      "text/plain": [
       "maths      100\n",
       "english    100\n",
       "science     89\n",
       "hindi       95\n",
       "sst         90\n",
       "Name: Madhu marks, dtype: int64"
      ]
     },
     "execution_count": 77,
     "metadata": {},
     "output_type": "execute_result"
    }
   ],
   "source": [
    "# what if an index does not exist \n",
    "marks_series['sst'] = 90\n",
    "marks_series\n"
   ]
  },
  {
   "cell_type": "code",
   "execution_count": 78,
   "id": "47a918a7-9d54-4a92-b0ee-df41328e4358",
   "metadata": {},
   "outputs": [
    {
     "data": {
      "text/plain": [
       "0    31\n",
       "1    24\n",
       "2    56\n",
       "3    78\n",
       "4    86\n",
       "dtype: int64"
      ]
     },
     "execution_count": 78,
     "metadata": {},
     "output_type": "execute_result"
    }
   ],
   "source": [
    "runs_ser"
   ]
  },
  {
   "cell_type": "code",
   "execution_count": 79,
   "id": "8f7776cb-d645-4f2e-a848-40d403fe709e",
   "metadata": {},
   "outputs": [
    {
     "data": {
      "text/plain": [
       "0     31\n",
       "1     24\n",
       "2    100\n",
       "3    100\n",
       "4     86\n",
       "dtype: int64"
      ]
     },
     "execution_count": 79,
     "metadata": {},
     "output_type": "execute_result"
    }
   ],
   "source": [
    "#slicing\n",
    "runs_ser[2:4]=[100,100]\n",
    "runs_ser"
   ]
  },
  {
   "cell_type": "code",
   "execution_count": 80,
   "id": "852a4265-c4ba-4950-b6c4-0dc6be7fe06f",
   "metadata": {},
   "outputs": [
    {
     "data": {
      "text/plain": [
       "0      0\n",
       "1     24\n",
       "2    100\n",
       "3      0\n",
       "4      0\n",
       "dtype: int64"
      ]
     },
     "execution_count": 80,
     "metadata": {},
     "output_type": "execute_result"
    }
   ],
   "source": [
    "# fancy indexing \n",
    "runs_ser[[0,3,4]]=[0,0,0]\n",
    "runs_ser"
   ]
  },
  {
   "cell_type": "markdown",
   "id": "3aea3c5e-fc10-4582-9200-50fdd645bd4f",
   "metadata": {},
   "source": [
    "### Seies with python functionality "
   ]
  },
  {
   "cell_type": "code",
   "execution_count": 82,
   "id": "132fb625-1e6a-4900-ba36-d45845aaded6",
   "metadata": {},
   "outputs": [
    {
     "name": "stdout",
     "output_type": "stream",
     "text": [
      "365\n",
      "<class 'pandas.core.series.Series'>\n",
      "396\n",
      "33\n"
     ]
    }
   ],
   "source": [
    "# len /type/dir/sorted/max/min\n",
    "print(len(subs))\n",
    "print(type(subs))\n",
    "\n",
    "print(max(subs))\n",
    "print(min(subs))\n"
   ]
  },
  {
   "cell_type": "code",
   "execution_count": 83,
   "id": "7fd01d94-e337-4ba8-b9e3-1d735e4fe233",
   "metadata": {},
   "outputs": [
    {
     "name": "stdout",
     "output_type": "stream",
     "text": [
      "[33, 33, 35, 37, 39, 40, 40, 40, 40, 42, 42, 43, 44, 44, 44, 45, 46, 46, 48, 49, 49, 49, 49, 50, 50, 50, 51, 54, 56, 56, 56, 56, 57, 61, 62, 64, 65, 65, 66, 66, 66, 66, 67, 68, 70, 70, 70, 71, 71, 72, 72, 72, 72, 72, 73, 74, 74, 75, 76, 76, 76, 76, 77, 77, 78, 78, 78, 79, 79, 80, 80, 80, 81, 81, 82, 82, 83, 83, 83, 84, 84, 84, 85, 86, 86, 86, 87, 87, 87, 87, 88, 88, 88, 88, 88, 89, 89, 89, 90, 90, 90, 90, 91, 92, 92, 92, 93, 93, 93, 93, 95, 95, 96, 96, 96, 96, 97, 97, 98, 98, 99, 99, 100, 100, 100, 101, 101, 101, 102, 102, 103, 103, 104, 104, 104, 105, 105, 105, 105, 105, 105, 105, 105, 105, 108, 108, 108, 108, 108, 108, 109, 109, 110, 110, 110, 111, 111, 112, 113, 113, 113, 114, 114, 114, 114, 115, 115, 115, 115, 117, 117, 117, 118, 118, 119, 119, 119, 119, 120, 122, 123, 123, 123, 123, 123, 124, 125, 126, 127, 128, 128, 129, 130, 131, 131, 132, 132, 134, 134, 134, 135, 135, 136, 136, 136, 137, 138, 138, 138, 139, 140, 144, 145, 146, 146, 146, 146, 147, 149, 150, 150, 150, 150, 151, 152, 152, 152, 153, 153, 153, 154, 154, 154, 155, 155, 156, 156, 156, 156, 157, 157, 157, 157, 158, 158, 159, 159, 160, 160, 160, 160, 162, 164, 166, 167, 167, 168, 170, 170, 170, 170, 171, 172, 172, 173, 173, 173, 174, 174, 175, 175, 176, 176, 177, 178, 179, 179, 180, 180, 180, 182, 183, 183, 183, 184, 184, 184, 185, 185, 185, 185, 186, 186, 186, 188, 189, 190, 190, 192, 192, 192, 196, 196, 196, 197, 197, 202, 202, 202, 203, 204, 206, 207, 209, 210, 210, 211, 212, 213, 214, 216, 219, 220, 221, 221, 222, 222, 224, 225, 225, 226, 227, 228, 229, 230, 231, 233, 236, 236, 237, 241, 243, 244, 245, 247, 249, 254, 254, 258, 259, 259, 261, 261, 265, 267, 268, 269, 276, 276, 290, 295, 301, 306, 312, 396]\n"
     ]
    }
   ],
   "source": [
    "print(sorted(subs))"
   ]
  },
  {
   "cell_type": "code",
   "execution_count": 84,
   "id": "42f112cf-36d8-4e85-ad56-999a8036cbd8",
   "metadata": {
    "scrolled": true
   },
   "outputs": [
    {
     "name": "stdout",
     "output_type": "stream",
     "text": [
      "['T', '_AXIS_LEN', '_AXIS_ORDERS', '_AXIS_TO_AXIS_NUMBER', '_HANDLED_TYPES', '__abs__', '__add__', '__and__', '__annotations__', '__array__', '__array_priority__', '__array_ufunc__', '__bool__', '__class__', '__column_consortium_standard__', '__contains__', '__copy__', '__deepcopy__', '__delattr__', '__delitem__', '__dict__', '__dir__', '__divmod__', '__doc__', '__eq__', '__finalize__', '__float__', '__floordiv__', '__format__', '__ge__', '__getattr__', '__getattribute__', '__getitem__', '__getstate__', '__gt__', '__hash__', '__iadd__', '__iand__', '__ifloordiv__', '__imod__', '__imul__', '__init__', '__init_subclass__', '__int__', '__invert__', '__ior__', '__ipow__', '__isub__', '__iter__', '__itruediv__', '__ixor__', '__le__', '__len__', '__lt__', '__matmul__', '__mod__', '__module__', '__mul__', '__ne__', '__neg__', '__new__', '__nonzero__', '__or__', '__pandas_priority__', '__pos__', '__pow__', '__radd__', '__rand__', '__rdivmod__', '__reduce__', '__reduce_ex__', '__repr__', '__rfloordiv__', '__rmatmul__', '__rmod__', '__rmul__', '__ror__', '__round__', '__rpow__', '__rsub__', '__rtruediv__', '__rxor__', '__setattr__', '__setitem__', '__setstate__', '__sizeof__', '__str__', '__sub__', '__subclasshook__', '__truediv__', '__weakref__', '__xor__', '_accessors', '_accum_func', '_agg_examples_doc', '_agg_see_also_doc', '_align_for_op', '_align_frame', '_align_series', '_append', '_arith_method', '_as_manager', '_attrs', '_binop', '_cacher', '_can_hold_na', '_check_inplace_and_allows_duplicate_labels', '_check_is_chained_assignment_possible', '_check_label_or_level_ambiguity', '_check_setitem_copy', '_clear_item_cache', '_clip_with_one_bound', '_clip_with_scalar', '_cmp_method', '_consolidate', '_consolidate_inplace', '_construct_axes_dict', '_construct_result', '_constructor', '_constructor_expanddim', '_constructor_expanddim_from_mgr', '_constructor_from_mgr', '_data', '_deprecate_downcast', '_dir_additions', '_dir_deletions', '_drop_axis', '_drop_labels_or_levels', '_duplicated', '_find_valid_index', '_flags', '_flex_method', '_from_mgr', '_get_axis', '_get_axis_name', '_get_axis_number', '_get_axis_resolvers', '_get_block_manager_axis', '_get_bool_data', '_get_cacher', '_get_cleaned_column_resolvers', '_get_index_resolvers', '_get_label_or_level_values', '_get_numeric_data', '_get_rows_with_mask', '_get_value', '_get_values_tuple', '_get_with', '_getitem_slice', '_gotitem', '_hidden_attrs', '_indexed_same', '_info_axis', '_info_axis_name', '_info_axis_number', '_init_dict', '_init_mgr', '_inplace_method', '_internal_names', '_internal_names_set', '_is_cached', '_is_copy', '_is_label_or_level_reference', '_is_label_reference', '_is_level_reference', '_is_mixed_type', '_is_view', '_is_view_after_cow_rules', '_item_cache', '_ixs', '_logical_func', '_logical_method', '_map_values', '_maybe_update_cacher', '_memory_usage', '_metadata', '_mgr', '_min_count_stat_function', '_name', '_needs_reindex_multi', '_pad_or_backfill', '_protect_consolidate', '_reduce', '_references', '_reindex_axes', '_reindex_indexer', '_reindex_multi', '_reindex_with_indexers', '_rename', '_replace_single', '_repr_data_resource_', '_repr_latex_', '_reset_cache', '_reset_cacher', '_set_as_cached', '_set_axis', '_set_axis_name', '_set_axis_nocheck', '_set_is_copy', '_set_labels', '_set_name', '_set_value', '_set_values', '_set_with', '_set_with_engine', '_shift_with_freq', '_slice', '_stat_function', '_stat_function_ddof', '_take_with_is_copy', '_to_latex_via_styler', '_typ', '_update_inplace', '_validate_dtype', '_values', '_where', 'abs', 'add', 'add_prefix', 'add_suffix', 'agg', 'aggregate', 'align', 'all', 'any', 'apply', 'argmax', 'argmin', 'argsort', 'array', 'asfreq', 'asof', 'astype', 'at', 'at_time', 'attrs', 'autocorr', 'axes', 'backfill', 'between', 'between_time', 'bfill', 'bool', 'case_when', 'clip', 'combine', 'combine_first', 'compare', 'convert_dtypes', 'copy', 'corr', 'count', 'cov', 'cummax', 'cummin', 'cumprod', 'cumsum', 'describe', 'diff', 'div', 'divide', 'divmod', 'dot', 'drop', 'drop_duplicates', 'droplevel', 'dropna', 'dtype', 'dtypes', 'duplicated', 'empty', 'eq', 'equals', 'ewm', 'expanding', 'explode', 'factorize', 'ffill', 'fillna', 'filter', 'first', 'first_valid_index', 'flags', 'floordiv', 'ge', 'get', 'groupby', 'gt', 'hasnans', 'head', 'hist', 'iat', 'idxmax', 'idxmin', 'iloc', 'index', 'infer_objects', 'info', 'interpolate', 'is_monotonic_decreasing', 'is_monotonic_increasing', 'is_unique', 'isin', 'isna', 'isnull', 'item', 'items', 'keys', 'kurt', 'kurtosis', 'last', 'last_valid_index', 'le', 'list', 'loc', 'lt', 'map', 'mask', 'max', 'mean', 'median', 'memory_usage', 'min', 'mod', 'mode', 'mul', 'multiply', 'name', 'nbytes', 'ndim', 'ne', 'nlargest', 'notna', 'notnull', 'nsmallest', 'nunique', 'pad', 'pct_change', 'pipe', 'plot', 'pop', 'pow', 'prod', 'product', 'quantile', 'radd', 'rank', 'ravel', 'rdiv', 'rdivmod', 'reindex', 'reindex_like', 'rename', 'rename_axis', 'reorder_levels', 'repeat', 'replace', 'resample', 'reset_index', 'rfloordiv', 'rmod', 'rmul', 'rolling', 'round', 'rpow', 'rsub', 'rtruediv', 'sample', 'searchsorted', 'sem', 'set_axis', 'set_flags', 'shape', 'shift', 'size', 'skew', 'sort_index', 'sort_values', 'squeeze', 'std', 'struct', 'sub', 'subtract', 'sum', 'swapaxes', 'swaplevel', 'tail', 'take', 'to_clipboard', 'to_csv', 'to_dict', 'to_excel', 'to_frame', 'to_hdf', 'to_json', 'to_latex', 'to_list', 'to_markdown', 'to_numpy', 'to_period', 'to_pickle', 'to_sql', 'to_string', 'to_timestamp', 'to_xarray', 'transform', 'transpose', 'truediv', 'truncate', 'tz_convert', 'tz_localize', 'unique', 'unstack', 'update', 'value_counts', 'values', 'var', 'view', 'where', 'xs']\n"
     ]
    }
   ],
   "source": [
    "print(dir(subs))"
   ]
  },
  {
   "cell_type": "code",
   "execution_count": 85,
   "id": "9a9ecbbb-5255-4aaa-91d5-e8836f7250a7",
   "metadata": {},
   "outputs": [
    {
     "data": {
      "text/plain": [
       "maths      100\n",
       "english    100\n",
       "science     89\n",
       "hindi       95\n",
       "sst         90\n",
       "Name: Madhu marks, dtype: int64"
      ]
     },
     "execution_count": 85,
     "metadata": {},
     "output_type": "execute_result"
    }
   ],
   "source": [
    "# type conversion \n",
    "marks_series"
   ]
  },
  {
   "cell_type": "code",
   "execution_count": 86,
   "id": "b0c7ce03-6e39-4861-8371-d7da4f5b0ba2",
   "metadata": {},
   "outputs": [
    {
     "data": {
      "text/plain": [
       "[100, 100, 89, 95, 90]"
      ]
     },
     "execution_count": 86,
     "metadata": {},
     "output_type": "execute_result"
    }
   ],
   "source": [
    "list(marks_series)\n"
   ]
  },
  {
   "cell_type": "code",
   "execution_count": 87,
   "id": "845e06f7-4b07-40d6-9de4-d3a651a558a4",
   "metadata": {},
   "outputs": [
    {
     "data": {
      "text/plain": [
       "{'maths': 100, 'english': 100, 'science': 89, 'hindi': 95, 'sst': 90}"
      ]
     },
     "execution_count": 87,
     "metadata": {},
     "output_type": "execute_result"
    }
   ],
   "source": [
    "dict(marks_series)\n"
   ]
  },
  {
   "cell_type": "code",
   "execution_count": 88,
   "id": "7130eb49-c15d-4487-bd0c-f71ab7e2295b",
   "metadata": {},
   "outputs": [
    {
     "data": {
      "text/plain": [
       "True"
      ]
     },
     "execution_count": 88,
     "metadata": {},
     "output_type": "execute_result"
    }
   ],
   "source": [
    "# membership operator\n",
    "'Evening Shadows' in movies"
   ]
  },
  {
   "cell_type": "code",
   "execution_count": 89,
   "id": "ed580515-a7b1-4348-a5e8-4ddb9e461d01",
   "metadata": {},
   "outputs": [
    {
     "data": {
      "text/plain": [
       "movie\n",
       "Uri: The Surgical Strike                   Vicky Kaushal\n",
       "Battalion 609                                Vicky Ahuja\n",
       "The Accidental Prime Minister (film)         Anupam Kher\n",
       "Why Cheat India                            Emraan Hashmi\n",
       "Evening Shadows                         Mona Ambegaonkar\n",
       "                                              ...       \n",
       "Hum Tumhare Hain Sanam                    Shah Rukh Khan\n",
       "Aankhen (2002 film)                     Amitabh Bachchan\n",
       "Saathiya (film)                             Vivek Oberoi\n",
       "Company (film)                                Ajay Devgn\n",
       "Awara Paagal Deewana                        Akshay Kumar\n",
       "Name: lead, Length: 1500, dtype: object"
      ]
     },
     "execution_count": 89,
     "metadata": {},
     "output_type": "execute_result"
    }
   ],
   "source": [
    "movies"
   ]
  },
  {
   "cell_type": "code",
   "execution_count": 90,
   "id": "36de30e2-92f2-4308-af40-2b64049c7d50",
   "metadata": {},
   "outputs": [
    {
     "data": {
      "text/plain": [
       "False"
      ]
     },
     "execution_count": 90,
     "metadata": {},
     "output_type": "execute_result"
    }
   ],
   "source": [
    "'Vicky Kaushal' in movies # it return false because in operator search in index "
   ]
  },
  {
   "cell_type": "code",
   "execution_count": 91,
   "id": "ff499dd7-558a-4a01-aba6-40d8d52886f2",
   "metadata": {},
   "outputs": [
    {
     "data": {
      "text/plain": [
       "True"
      ]
     },
     "execution_count": 91,
     "metadata": {},
     "output_type": "execute_result"
    }
   ],
   "source": [
    "'Vicky Kaushal' in movies.values # it will return true because we put values in the last"
   ]
  },
  {
   "cell_type": "code",
   "execution_count": 92,
   "id": "b5b15966-e285-4abd-9ac7-8e633495b279",
   "metadata": {
    "scrolled": true
   },
   "outputs": [
    {
     "name": "stdout",
     "output_type": "stream",
     "text": [
      "Vicky Kaushal\n",
      "Vicky Ahuja\n",
      "Anupam Kher\n",
      "Emraan Hashmi\n",
      "Mona Ambegaonkar\n",
      "Geetika Vidya Ohlyan\n",
      "Arshad Warsi\n",
      "Radhika Apte\n",
      "Kangana Ranaut\n",
      "Nawazuddin Siddiqui\n",
      "Ali Asgar\n",
      "Ranveer Singh\n",
      "Prit Kamani\n",
      "Ajay Devgn\n",
      "Sushant Singh Rajput\n",
      "Amitabh Bachchan\n",
      "Abhimanyu Dasani\n",
      "Talha Arshad Reshi\n",
      "Nawazuddin Siddiqui\n",
      "Garima Agarwal\n",
      "Rasika Agashe\n",
      "Barun Sobti\n",
      "Akshay Kumar\n",
      "Zaheer Iqbal\n",
      "Vidyut Jammwal\n",
      "Deepika Amin\n",
      "Manav Kaul\n",
      "Naseeruddin Shah\n",
      "Varun Dhawan\n",
      "Shreyas Talpade\n",
      "Tiger Shroff\n",
      "Boman Irani\n",
      "Ajay Devgn\n",
      "Arjun Kapoor\n",
      "Gavie Chahal\n",
      "Prabhu Deva\n",
      "Shahid Kapoor\n",
      "Ayushmann Khurrana\n",
      "Anupam Kher\n",
      "Karanvir Bohra\n",
      "Hrithik Roshan\n",
      "Jimmy Sheirgill\n",
      "John Abraham\n",
      "Rishi Kapoor\n",
      "Kangana Ranaut\n",
      "Natalia Janoszek\n",
      "Diljit Dosanjh\n",
      "Sidharth Malhotra\n",
      "Rajeev Khandelwal\n",
      "Zaira Wasim\n",
      "Akshay Kumar\n",
      "Jacqueline Fernandez\n",
      "Ayushmann Khurrana\n",
      "Akshaye Khanna\n",
      "Sonam Kapoor\n",
      "Karan Deol\n",
      "Sanjay Dutt\n",
      "Bhavesh Kumar\n",
      "Sanaya Irani\n",
      "Ayushmann Khurrana\n",
      "Siddhanth Kapoor\n",
      "Akshay Kumar\n",
      "Taapsee Pannu\n",
      "Rajkummar Rao\n",
      "Sunny Singh Nijjar\n",
      "Neil Nitin Mukesh\n",
      "Suraj Pancholi\n",
      "Boman Irani\n",
      "Riteish Deshmukh\n",
      "Nawazuddin Siddiqui\n",
      "Shahbaaz Khan\n",
      "Kriti Kharbanda\n",
      "Naseeruddin Shah\n",
      "Vardhan Puri\n",
      "Sushant Singh Rajput\n",
      "Kartik Aaryan\n",
      "Vidyut Jammwal\n",
      "Rani Mukerji\n",
      "Salman Khan\n",
      "Akshay Kumar\n",
      "Saif Ali Khan\n",
      "Kay Kay Menon\n",
      "Nora Fatehi\n",
      "Ashmit Patel\n",
      "Viineet Kumar\n",
      "Rahul Bhat\n",
      "Vicky Kaushal\n",
      "Sidharth Malhotra\n",
      "Deepika Padukone\n",
      "Geetanjali Thapa\n",
      "Akshay Anand\n",
      "Pulkit Samrat\n",
      "Kartik Aaryan\n",
      "Lee Byford\n",
      "Taapsee Pannu\n",
      "Aisha Ahmed\n",
      "Ajay Devgn\n",
      "Rani Mukerji\n",
      "Manoj Bajpayee\n",
      "Tiger Shroff\n",
      "Varun Dhawan\n",
      "Prabhu Deva\n",
      "Ishaan Khattar\n",
      "Abhay Deol\n",
      "Yogesh Raj Mishra\n",
      "Rajkummar Rao\n",
      "Alia Bhatt\n",
      "Naseeruddin Shah\n",
      "Sumeet Vyas\n",
      "Vinay Pathak\n",
      "John Abraham\n",
      "Danny Denzongpa\n",
      "Harshvardhan Kapoor\n",
      "Jimmy Sheirgill\n",
      "Anil Kapoor\n",
      "Ishaan Khattar\n",
      "Ranbir Kapoor\n",
      "Sanjay Dutt\n",
      "Dharmesh Yelande\n",
      "Taapsee Pannu\n",
      "Arjun Mathur\n",
      "Irrfan Khan\n",
      "Akshay Kumar\n",
      "John Abraham\n",
      "Sonakshi Sinha\n",
      "Utkarsh Sharma\n",
      "Dharmendra\n",
      "Rajkummar Rao\n",
      "Jackie Shroff\n",
      "Avinash Tiwary\n",
      "Manoj Bajpayee\n",
      "Paoli Dam\n",
      "Sanya Malhotra\n",
      "Shahid Kapoor\n",
      "Abhishek Bharate\n",
      "Nawazuddin Siddiqui\n",
      "Manish Anand\n",
      "Taapsee Pannu\n",
      "Jackky Bhagnani\n",
      "Anushka Sharma\n",
      "Radhika Apte\n",
      "Rhea Chakraborty\n",
      "Govinda\n",
      "Sohum Shah\n",
      "Kajol\n",
      "Arjun Kapoor\n",
      "Ayushmann Khurrana\n",
      "Ayushmann Khurrana\n",
      "Nargis Fakhri\n",
      "Aishwarya Devan\n",
      "Neil Nitin Mukesh\n",
      "Shakti Kapoor\n",
      "Amit Sadh\n",
      "Sunny Deol\n",
      "Rahul Bagga\n",
      "Sunny Deol\n",
      "Amyra Dastur\n",
      "Shah Rukh Khan\n",
      "Ranveer Singh\n",
      "Salman Khan\n",
      "Ajay Devgn\n",
      "Varun Dhawan\n",
      "Shraddha Kapoor\n",
      "Sunil Grover\n",
      "Hrithik Roshan\n",
      "Raj Arjun\n",
      "Aamir Khan\n",
      "Gurmeet Ram Rahim Singh\n",
      "Arsh Bajwa\n",
      "Rana Daggubati\n",
      "Naseeruddin Shah\n",
      "Kangana Ranaut\n",
      "Nana Patekar\n",
      "Arbaaz Khan\n",
      "Varun Dhawan\n",
      "Rajkummar Rao\n",
      "Govinda\n",
      "Rajat Kapoor\n",
      "Anushka Sharma\n",
      "Kiara Advani\n",
      "Shaurya Singh\n",
      "Pankaj Tripathi\n",
      "Taapsee Pannu\n",
      "Adil Hussain\n",
      "Amitabh Bachchan\n",
      "Sunny Leone\n",
      "Hema Malini\n",
      "Raveena Tandon\n",
      "Amitabh Bachchan\n",
      "Amardeep Insan\n",
      "Shraddha Kapoor\n",
      "Ayushmann Khurrana\n",
      "Sachin Tendulkar\n",
      "Irrfan Khan\n",
      "Himansh Kohli\n",
      "Adil Hussain\n",
      "Jayesh Raj\n",
      "Manisha Koirala\n",
      "Deepika Padukone\n",
      "Rajkummar Rao\n",
      "Salman Khan\n",
      "Riteish Deshmukh\n",
      "Shiv Darshan\n",
      "Ranbir Kapoor\n",
      "Ashish Bisht\n",
      "Aahana Kumra\n",
      "Manoj Babani\n",
      "Rajveer Ankur Singh\n",
      "Kirti Kulhari\n",
      "Shah Rukh Khan\n",
      "Tiger Shroff\n",
      "Akshay Kumar\n",
      "Anil Kapoor\n",
      "Kartik Aaryan\n",
      "Ayushmann Khurrana\n",
      "Nawazuddin Siddiqui\n",
      "Prisha Aneja\n",
      "Aadar Jain\n",
      "Ayushmann Khurrana\n",
      "Kunal Kapoor\n",
      "Arjun Rampal\n",
      "Kangana Ranaut\n",
      "Farhan Akhtar\n",
      "Sidharth Malhotra\n",
      "Hugh Bonneville\n",
      "Rishi Kapoor\n",
      "Rajkummar Rao\n",
      "Kunaal Roy Kapur\n",
      "Sunny Leone\n",
      "Shraddha Kapoor\n",
      "Rina Charaniya\n",
      "Nawazuddin Siddiqui\n",
      "Sunny Deol\n",
      "Sridevi\n",
      "Saif Ali Khan\n",
      "Soundarya Sharma\n",
      "Sudha Chandran\n",
      "Manoj Bajpayee\n",
      "Zaira Wasim\n",
      "Prakash Belawadi\n",
      "Kalki Koechlin\n",
      "Rajkummar Rao\n",
      "Richa Chadha\n",
      "Irrfan Khan\n",
      "Zareen Khan\n",
      "Nayna Bandhopadhyay\n",
      "Vidya Balan\n",
      "Nishikant Kamat\n",
      "Sanjay Mishra\n",
      "Kapil Sharma\n",
      "Pulkit Samrat\n",
      "Vijay Varma\n",
      "Sushama Deshpande\n",
      "Richa Chadha\n",
      "Prince Shah\n",
      "Tanima Bhattacharya\n",
      "Akshay Kumar\n",
      "Zeenat Aman\n",
      "Madhavan\n",
      "Tusshar Kapoor\n",
      "Tusshar Kapoor\n",
      "Himansh Kohli\n",
      "Sadhana Singh\n",
      "Sunny Deol\n",
      "Aditya Roy Kapoor\n",
      "Rishi Kapoor\n",
      "Rajniesh Duggall\n",
      "Krishna Chaturvedi\n",
      "Girish Taurani\n",
      "Sonam Kapoor\n",
      "Sukhesh Arora\n",
      "Raima Sen\n",
      "Anuj Sachdeva\n",
      "Parthaa Akerkar\n",
      "Priyanka Chopra\n",
      "Sidharth Malhotra\n",
      "John Abraham\n",
      "Patralekhaa Paul\n",
      "Shah Rukh Khan\n",
      "Swara Bhaskar\n",
      "Randeep Hooda\n",
      "Shraddha Kapoor\n",
      "Pankaj Tripathi\n",
      "Jimmy Sheirgill\n",
      "Kartik Elangovan\n",
      "Boman Irani\n",
      "Manoj Bajpayee\n",
      "Sharman Joshi\n",
      "Emraan Hashmi\n",
      "Aanchal Dwivedi\n",
      "Sanjay Singh\n",
      "Arvind Swamy\n",
      "Radhika Apte\n",
      "Randeep Hooda\n",
      "Sachiin Joshi\n",
      "Kajal Aggarwal\n",
      "Amitabh Bachchan\n",
      "Shahid Kapoor\n",
      "Hazel Croney\n",
      "V. Ravichandran\n",
      "Vipin Sharma\n",
      "Nawazuddin Siddiqui\n",
      "Pulkit Samrat\n",
      "Tannishtha Chatterjee\n",
      "Krrish Chhabria\n",
      "Avinash Dhyani\n",
      "Zeenat Aman\n",
      "Salman Khan\n",
      "Shashank Arora\n",
      "Urvashi Rautela\n",
      "Naseeruddin Shah\n",
      "Sara Loren\n",
      "Tom Alter\n",
      "Irrfan Khan\n",
      "John Abraham\n",
      "Rajeev Khandelwal\n",
      "Ileana D'Cruz\n",
      "Sahil Anand\n",
      "Hrithik Roshan\n",
      "Diana Penty\n",
      "Niharica Raizada\n",
      "Tiger Shroff\n",
      "Sidharth Malhotra\n",
      "Nawazuddin Siddiqui\n",
      "Emraan Hashmi\n",
      "Taapsee Pannu\n",
      "Tannishtha Chatterjee\n",
      "Riteish Deshmukh\n",
      "Yash Soni\n",
      "Shreyas Talpade\n",
      "Vinay Pathak\n",
      "Jimmy Sharma\n",
      "Sushant Singh Rajput\n",
      "Ashok Insan\n",
      "RJ Balaji\n",
      "Saurav Chakraborty\n",
      "Shashank Udapurkar\n",
      "Shubham\n",
      "Manoj Bajpayee\n",
      "Sunny Leone\n",
      "Aashish Bhatt\n",
      "Ajay Devgn\n",
      "Ronit Roy\n",
      "Ranbir Kapoor\n",
      "Neha Sharma\n",
      "Farhan Akhtar\n",
      "John Abraham\n",
      "Alia Bhatt\n",
      "Vaani Kapoor\n",
      "Neha Dhupia\n",
      "Jimmy Sheirgill\n",
      "Sonarika Bhadoria\n",
      "Amitabh Bachchan\n",
      "Sharman Joshi\n",
      "Aamir Khan\n",
      "Harshvardhan Kapoor\n",
      "Salman Khan\n",
      "Kangana Ranaut\n",
      "Kangana Ranaut\n",
      "Soha Ali Khan\n",
      "Prabhu Deva\n",
      "Shah Rukh Khan\n",
      "Salman Khan\n",
      "Ranveer Singh\n",
      "Anil Kapoor\n",
      "Akshay Kumar\n",
      "Akshay Kumar\n",
      "Akshay Kumar\n",
      "Akshay Kumar\n",
      "Shakti Kapoor\n",
      "Bipasha Basu\n",
      "Arjun Kapoor\n",
      "Zayed Khan\n",
      "Malaika Arora\n",
      "Naman Jain\n",
      "Gurmeet Choudhary\n",
      "Kay Kay Menon\n",
      "Rati Agnihotri\n",
      "Amitabh Bachchan\n",
      "Arjun Rampal\n",
      "Varun Dhawan\n",
      "Swanand Kirkire\n",
      "Sulabha Arya\n",
      "Irrfan Khan\n",
      "Nana Patekar\n",
      "Ayushmann Khurrana\n",
      "Anupam Kher\n",
      "Gurmeet Ram Rahim Singh\n",
      "Sidhant Gupta\n",
      "Arjun Mathur\n",
      "Ganesh Acharya\n",
      "Anushka Sharma\n",
      "Gulshan Devaiah\n",
      "Sushant Singh Rajput\n",
      "Adhyayan Suman\n",
      "Vira Sathidar\n",
      "Kalki Koechlin\n",
      "Sunny Leone\n",
      "Sara Loren\n",
      "Emraan Hashmi\n",
      "Auroshika Dey\n",
      "Ira Dubey\n",
      "Naseeruddin Shah\n",
      "Vinay Pathak\n",
      "Ram Kapoor\n",
      "Deepika Padukone\n",
      "Ranbir Kapoor\n",
      "Shakti Anand\n",
      "Anil Kapoor\n",
      "Arshad Warsi\n",
      "Meenakshi Dixit\n",
      "Yash Acharya\n",
      "Rajkummar Rao\n",
      "Rahul Bagga\n",
      "Mohit Baghel\n",
      "Rishi Verma\n",
      "Mimoh Chakraborty\n",
      "Swara Bhaskar\n",
      "Richa Chadha\n",
      "Arshad Warsi\n",
      "Mugdha Godse\n",
      "Yashpal Sharma\n",
      "Dharmendra\n",
      "Sunny Deol\n",
      "Smitha Gondkar\n",
      "Kunal Kapoor\n",
      "Ajay Devgn\n",
      "Jacqueline Fernandez\n",
      "Rishi Kapoor\n",
      "Akshay Kumar\n",
      "Vinay Pathak\n",
      "Nawazuddin Siddiqui\n",
      "Bhavita Anand\n",
      "Saif Ali Khan\n",
      "Suraj Pancholi\n",
      "Shamim Khan\n",
      "Irrfan Khan\n",
      "Suhaas Ahuja\n",
      "Jaideep Ahlawat\n",
      "Charanpreet Insan\n",
      "Akanksha Puri\n",
      "Kunal Khemu\n",
      "Aishwarya Rai Bachchan\n",
      "Seema Azmi\n",
      "Parveen Kaur\n",
      "Kapil Sharma\n",
      "Kartik Aaryan\n",
      "Diganth\n",
      "Shahid Kapoor\n",
      "Nawazuddin Siddiqui\n",
      "Kunal Khemu\n",
      "Mann Bagga\n",
      "Manish Paul\n",
      "Sanjeev Kumar\n",
      "Madhuri Dixit\n",
      "Shiv Darshan\n",
      "Gopi Desai\n",
      "Mohinder Gujral\n",
      "Zeenat Aman\n",
      "Ranveer Singh\n",
      "Salman Khan\n",
      "Sidharth Malhotra\n",
      "Adhyayan Suman\n",
      "Indrapal Ahuja\n",
      "Jimmy Sheirgill\n",
      "Abhay Deol\n",
      "Sahil Anand\n",
      "Alia Bhatt\n",
      "Sampat Pal Devi\n",
      "Farhan Akhtar\n",
      "Madhuri Dixit\n",
      "Kangana Ranaut\n",
      "Ayushmann Khurrana\n",
      "Ali Zafar\n",
      "Mahek Chahal\n",
      "Monali Thakur\n",
      "Sunny Leone\n",
      "Harman Baweja\n",
      "Sanjay Mishra\n",
      "Sharman Joshi\n",
      "Sachin Khedekar\n",
      "Leeza Mangaldas\n",
      "Pulkit Samrat\n",
      "Zara Sheikh\n",
      "Arjun Kapoor\n",
      "Purab Kohli\n",
      "Amitabh Bachchan\n",
      "Varun Dhawan\n",
      "Arvinder Bhatti\n",
      "Kanika Batra\n",
      "Jackky Bhagnani\n",
      "Rajeev Khandelwal\n",
      "Tanuj Virwani\n",
      "Vijay Raaz\n",
      "Kannan Arunachalam\n",
      "Anjori Alagh\n",
      "Satish Kaushik\n",
      "Rahul Bagga\n",
      "Himesh Reshammiya\n",
      "Farooq Shaikh\n",
      "Makrand Deshpande\n",
      "Eesha Agarwal\n",
      "Siddharth Gupta\n",
      "Tiger Shroff\n",
      "Rajkummar Rao\n",
      "Sharib Hashmi\n",
      "Kangana Ranaut\n",
      "Kartik Aaryan\n",
      "Swara Bhaskar\n",
      "Simer Motiani\n",
      "Anshuman Jha\n",
      "Sidharth Malhotra\n",
      "Vidya Balan\n",
      "Saif Ali Khan\n",
      "Varun Dhawan\n",
      "Jay Bhanushali\n",
      "Armaan Jain\n",
      "Rajesh Khanna\n",
      "Vir Das\n",
      "Akshay Kumar\n",
      "Jimmy Sheirgill\n",
      "Reshmi Ghosh\n",
      "Akshay Oberoi\n",
      "Akshay Kumar\n",
      "Anupam Kher\n",
      "Rani Mukerji\n",
      "Emraan Hashmi\n",
      "Priyanka Chopra\n",
      "Bipasha Basu\n",
      "Deepika Padukone\n",
      "Sonam Kapoor\n",
      "Salil Acharya\n",
      "Salman Khan\n",
      "Saahil Prem\n",
      "Alieesa P Badresia\n",
      "Manoj Amarnani\n",
      "Sasha Aagha\n",
      "Tabu\n",
      "Hrithik Roshan\n",
      "Rati Agnihotri\n",
      "Aditya Roy Kapoor\n",
      "Asrani\n",
      "Harshvardhan Deo\n",
      "Nikhil Dwivedi\n",
      "Karanvir Bohra\n",
      "Puru Chibber\n",
      "Soha Ali Khan\n",
      "Rhea Chakraborty\n",
      "Shah Rukh Khan\n",
      "Rekha\n",
      "Anupam Kher\n",
      "Randeep Hooda\n",
      "Akshay Kumar\n",
      "Aadil Chahal\n",
      "Shabana Azmi\n",
      "Dimple Kapadia\n",
      "Nishant Dahiya\n",
      "Ranveer Singh\n",
      "Emraan Hashmi\n",
      "Saif Ali Khan\n",
      "Vinod Acharya\n",
      "Mannara Chopra\n",
      "Prabhas\n",
      "Mischa Barton\n",
      "Shiv Panditt\n",
      "Annu Kapoor\n",
      "Barun Sobti\n",
      "Rahul Bhat\n",
      "Aamir Khan\n",
      "Adhyayan Suman\n",
      "Imran Khan\n",
      "Naveen Kasturia\n",
      "Arjun Rampal\n",
      "Sarita Joshi\n",
      "Kartik Aaryan\n",
      "Juhi Chawla\n",
      "Saif Ali Khan\n",
      "Manisha Kelkar\n",
      "Farooq Shaikh\n",
      "Akshay Kumar\n",
      "Randeep Hooda\n",
      "Vivek Oberoi\n",
      "Rajkummar Rao\n",
      "Akash\n",
      "Vishwa Mohan Badola\n",
      "Neil Nitin Mukesh\n",
      "Saqib Saleem\n",
      "Arshad Warsi\n",
      "Jimmy Sheirgill\n",
      "Asha Bhosle\n",
      "Kamal Haasan\n",
      "Jackky Bhagnani\n",
      "Aditya Roy Kapoor\n",
      "Emraan Hashmi\n",
      "Ajay Devgn\n",
      "Ayushmann Khurrana\n",
      "Vivek Oberoi\n",
      "Vidyut Jammwal\n",
      "Rani Mukerji\n",
      "Saif Ali Khan\n",
      "Riya Vij\n",
      "Arjun Kapoor\n",
      "Preity Zinta\n",
      "Veena Malik\n",
      "Ranbir Kapoor\n",
      "Pulkit Samrat\n",
      "Rupa Bhimani\n",
      "Dhanush\n",
      "Kay Kay Menon\n",
      "Neil Nitin Mukesh\n",
      "Vidya Balan\n",
      "Anupam Kher\n",
      "Sanjay Dutt\n",
      "Farhan Akhtar\n",
      "Wamiqa Gabbi\n",
      "Shadab Kamal\n",
      "Sunil Shetty\n",
      "Prateik\n",
      "Tusshar Kapoor\n",
      "Tanuj Virwani\n",
      "Poonam Pandey\n",
      "Deepak Dobriyal\n",
      "Hemant Gopal\n",
      "Joy Mukherjee\n",
      "Rishi Kapoor\n",
      "Rajesh Tailang\n",
      "Akshay Kumar\n",
      "John Abraham\n",
      "Amitabh Bachchan\n",
      "Sushant Singh Rajput\n",
      "Shruti Haasan\n",
      "Deepika Padukone\n",
      "Vivek Oberoi\n",
      "Naseeruddin Shah\n",
      "Karan Kundrra\n",
      "Shahid Kapoor\n",
      "Aida Elkashef\n",
      "Irrfan Khan\n",
      "Anisa Butt\n",
      "Akshay Kumar\n",
      "Rajkummar Rao\n",
      "Manish Paul\n",
      "Puneet Singh Ratn\n",
      "Kangana Ranaut\n",
      "Sumit Nijhawan\n",
      "Tinnu Anand\n",
      "Chandan Roy Sanyal\n",
      "Elisha Kriis\n",
      "Ashmit Patel\n",
      "Imran Khan\n",
      "Manu Rishi Chadha\n",
      "Naseeruddin Shah\n",
      "Paresh Rawal\n",
      "Saif Ali Khan\n",
      "Aamir Khan\n",
      "Ali Zafar\n",
      "Ranveer Singh\n",
      "Sharman Joshi\n",
      "Naseeruddin Shah\n",
      "Shiney Ahuja\n",
      "Karan Sharma\n",
      "Sunny Deol\n",
      "Ranveer Singh\n",
      "Hrithik Roshan\n",
      "Kareena Kapoor\n",
      "Prateik\n",
      "Kiran Bhatia\n",
      "Bipasha Basu\n",
      "Riteish Deshmukh\n",
      "Jahangir Khan\n",
      "Irrfan Khan\n",
      "Vidya Balan\n",
      "Mithun Chakraborty\n",
      "Kareena Kapoor\n",
      "Manish Chaudhary\n",
      "Kavin Dave\n",
      "Shikhi Gupta\n",
      "Archana Joglekar\n",
      "Tusshar Kapoor\n",
      "Pulkit Samrat\n",
      "Ayushmann Khurrana\n",
      "Nikhil Dwivedi\n",
      "Anil Kapoor\n",
      "Karisma Kapoor\n",
      "Arjun Kapoor\n",
      "Sanjay Dutt\n",
      "Gul Panag\n",
      "Yudhveer Bakoliya\n",
      "Kay Kay Menon\n",
      "Emraan Hashmi\n",
      "Sharman Joshi\n",
      "Shahid Kapoor\n",
      "Anupam Kher\n",
      "Anya Anand\n",
      "Julia Datt\n",
      "Manoj Bajpayee\n",
      "Manoj Bajpayee\n",
      "Saif Ali Khan\n",
      "Naresh Sharma\n",
      "Riteish Deshmukh\n",
      "Sonu Sood\n",
      "Nassar Abdulla\n",
      "Salman Khan\n",
      "Vickrant Mahajan\n",
      "Freny Bhagat\n",
      "Akshay Kumar\n",
      "Omkar Das Manikpuri\n",
      "Sunil Shetty\n",
      "Manoj Bajpayee\n",
      "Bidita Bag\n",
      "Harish Chabbra\n",
      "Ranbir Kapoor\n",
      "Kareena Kapoor\n",
      "Sagar Bhangade\n",
      "Vivek Oberoi\n",
      "Ravi Kishan\n",
      "Paresh Rawal\n",
      "Rani Mukerji\n",
      "Manoj Bajpayee\n",
      "J.D. Chakravarthi\n",
      "Cary Elwes\n",
      "Arjun Rampal\n",
      "Alia Bhatt\n",
      "Jackky Bhagnani\n",
      "Emraan Hashmi\n",
      "Vicky Ahuja\n",
      "Sunidhi Chauhan\n",
      "Asrani\n",
      "Shah Rukh Khan\n",
      "Aamir Khan\n",
      "Himanshu Bhatt\n",
      "Ajay Devgn\n",
      "Ashok Banthia\n",
      "Salman Khan\n",
      "Vinod Khanna\n",
      "Akshay Kumar\n",
      "Amitabh Bachchan\n",
      "Sridevi\n",
      "Vivek Sudershan\n",
      "Nafisa Ali\n",
      "Mohsin\n",
      "Prateik\n",
      "Gul Panag\n",
      "Vatsal Sheth\n",
      "Ajay Devgn\n",
      "Russell Geoffrey Banks\n",
      "Vinay Pathak\n",
      "Rishi Kapoor\n",
      "Priyanka Chopra\n",
      "Madhavan\n",
      "Arshad Warsi\n",
      "Deepti Naval\n",
      "Akshay Kumar\n",
      "Sumit Arora\n",
      "Anay\n",
      "Om Puri\n",
      "Abhishek Bachchan\n",
      "Sendhil Ramamurthy\n",
      "Darsheel Safary\n",
      "Vinay Pathak\n",
      "Ishaan Manhaas\n",
      "Sanjay Mishra\n",
      "Ashutosh Rana\n",
      "Juhi Chawla\n",
      "Govinda\n",
      "Mimoh Chakraborty\n",
      "Tusshar Kapoor\n",
      "Kainaz Motivala\n",
      "Partho A. Gupte\n",
      "Nana Patekar\n",
      "Sara Arjun\n",
      "Kalki Koechlin\n",
      "Kartik Aaryan\n",
      "Vinay Pathak\n",
      "Lillete Dubey\n",
      "Sanjay Dutt\n",
      "Amitabh Bachchan\n",
      "Imran Khan\n",
      "Emraan Hashmi\n",
      "Aarav Khanna\n",
      "Hrithik Roshan\n",
      "Raghuvir Yadav\n",
      "Gulshan Grover\n",
      "Naushaad Abbas\n",
      "Shefali Shah\n",
      "Ajay Devgn\n",
      "Rahul Jaiswal\n",
      "Apoorva Arora\n",
      "Isha Koppikar\n",
      "Rajniesh Duggall\n",
      "Amitabh Bachchan\n",
      "Sanjay Dutt\n",
      "Anupam Kher\n",
      "Salman Khan\n",
      "Deepshika Nagpal\n",
      "Deepak Dobriyal\n",
      "Tusshar Kapoor\n",
      "Kiron Kher\n",
      "Imran Khan\n",
      "Shahid Kapoor\n",
      "Mikaal\n",
      "John Abraham\n",
      "Jimmy Sheirgill\n",
      "Vinay Pathak\n",
      "Vinay Virmani\n",
      "Dev Anand\n",
      "Zayed Khan\n",
      "Saqib Saleem\n",
      "Sachiin Joshi\n",
      "Shah Rukh Khan\n",
      "Ranbir Kapoor\n",
      "Chirag Paswan\n",
      "Dharmendra\n",
      "Himesh Reshammiya\n",
      "Ranveer Singh\n",
      "Akshay Kumar\n",
      "Abhishek Bachchan\n",
      "Rani Mukerji\n",
      "Ajay Devgn\n",
      "Vidya Balan\n",
      "Priyanka Chopra\n",
      "Shahid Kapoor\n",
      "Prateik\n",
      "Salman Khan\n",
      "Siddharth\n",
      "Amitabh Bachchan\n",
      "Vidya Balan\n",
      "Paresh Rawal\n",
      "Sunny Gill\n",
      "Shreyas Talpade\n",
      "Tabu\n",
      "Shah Rukh Khan\n",
      "Amitabh Bachchan\n",
      "Siddhartha Gupta\n",
      "Shah Rukh Khan\n",
      "Tanushree Dutta\n",
      "Paul Sidhu\n",
      "Sunny Deol\n",
      "Gurdas Maan\n",
      "Master Shams\n",
      "Om Puri\n",
      "Vikrum Kumar\n",
      "Aditya Narayan\n",
      "Arshad Warsi\n",
      "Boman Irani\n",
      "Nana Patekar\n",
      "Priyanka Chopra\n",
      "Arbaaz Khan\n",
      "Rekha\n",
      "Rahul Bose\n",
      "Nana Patekar\n",
      "Sudeep\n",
      "Farooq Shaikh\n",
      "Rohit Roy\n",
      "Sachin Khedekar\n",
      "Anuj Saxena\n",
      "Akshay Kumar\n",
      "Hazel Croney\n",
      "Sanjeev Bhaskar\n",
      "Vivek Oberoi\n",
      "Abhishek Bachchan\n",
      "Atul Kulkarni\n",
      "Rajpal Yadav\n",
      "Hrithik Roshan\n",
      "Nushrat Bharucha\n",
      "Kareena Kapoor\n",
      "Bhushan Agarwal\n",
      "Prashant Narayanan\n",
      "Sanjay Dutt\n",
      "Akshay Kumar\n",
      "Ali Zafar\n",
      "Rajat Barmecha\n",
      "Ajay Devgn\n",
      "Bobby Deol\n",
      "Omkar Das Manikpuri\n",
      "Neil Nitin Mukesh\n",
      "Gul Panag\n",
      "Raj Singh Chaudhary\n",
      "John Abraham\n",
      "Barkha Madan\n",
      "Salman Khan\n",
      "Supriya Pathak\n",
      "Sunil Shetty\n",
      "Rituparna Sengupta\n",
      "Ranvir Shorey\n",
      "Mallika Sherawat\n",
      "Emraan Hashmi\n",
      "Rishi Kapoor\n",
      "Ajay Devgn\n",
      "Manoj Bajpayee\n",
      "Sanjay Dutt\n",
      "John Abraham\n",
      "Hrithik Roshan\n",
      "Varun Bhagwat\n",
      "Deepika Padukone\n",
      "Sunny Deol\n",
      "Rajat Kapoor\n",
      "Akanksha\n",
      "Jimmy Sheirgill\n",
      "Sanjay Dutt\n",
      "Ranveer Singh\n",
      "Aditya Srivastava\n",
      "Arunoday Singh\n",
      "Akshay Kumar\n",
      "Akshay Oberoi\n",
      "Ajay Devgn\n",
      "Neil Nitin Mukesh\n",
      "Sahil Khan\n",
      "Imran Khan\n",
      "Sushmita Sen\n",
      "Priyanka Chopra\n",
      "Zeenat Aman\n",
      "Bipasha Basu\n",
      "Akshay Kumar\n",
      "Aamir Khan\n",
      "Farhan Akhtar\n",
      "Saif Ali Khan\n",
      "Salman Khan\n",
      "Waheeda Rehman\n",
      "Kangana Ranaut\n",
      "Hrishitaa Bhatt\n",
      "Ranbir Kapoor\n",
      "Asrani\n",
      "Irrfan Khan\n",
      "Kay Kay Menon\n",
      "Arshad Warsi\n",
      "Paresh Rawal\n",
      "Rati Agnihotri\n",
      "Harman Baweja\n",
      "Shahid Kapoor\n",
      "Fardeen Khan\n",
      "John Abraham\n",
      "Kay Kay Menon\n",
      "Aftab Shivdasani\n",
      "Naseeruddin Shah\n",
      "Inaamulhaq\n",
      "Neil Nitin Mukesh\n",
      "Kunal Khemu\n",
      "Bobby Deol\n",
      "Anita\n",
      "Parzaan Dastur\n",
      "Meghan Jadhav\n",
      "Shreyas Talpade\n",
      "John Abraham\n",
      "Kay Kay Menon\n",
      "Sanjay Dutt\n",
      "Mithun Chakraborty\n",
      "Govinda\n",
      "Sunil Shetty\n",
      "Jackie Shroff\n",
      "Anupam Kher\n",
      "Shreyas Talpade\n",
      "Rishi Kapoor\n",
      "Rajendra Prasad\n",
      "Arjun Rampal\n",
      "Mithun Chakraborty\n",
      "Mithun Chakraborty\n",
      "Bobby Deol\n",
      "Shahid Kapoor\n",
      "Harman Baweja\n",
      "Fardeen Khan\n",
      "Sanjay Dutt\n",
      "Ranbir Kapoor\n",
      "Salman Khan\n",
      "Akshay Kumar\n",
      "Atmaram Bhende\n",
      "Amitabh Bachchan\n",
      "Salman Khan\n",
      "Manoj Bajpayee\n",
      "Emraan Hashmi\n",
      "Lewis Tan\n",
      "Akshay Kumar\n",
      "Amitabh Bachchan\n",
      "Ranbir Kapoor\n",
      "Aamir Bashir\n",
      "Farooq Shaikh\n",
      "Mithun Chakraborty\n",
      "Abhishek Bachchan\n",
      "Saif Ali Khan\n",
      "Shah Rukh Khan\n",
      "Aamir Khan\n",
      "Akshay Kumar\n",
      "Ajay Devgn\n",
      "Hrithik Roshan\n",
      "Ranbir Kapoor\n",
      "Amitabh Bachchan\n",
      "Amitabh Bachchan\n",
      "Ajay Devgn\n",
      "Omkar Bhatkar\n",
      "Shreyas Talpade\n",
      "Manisha Koirala\n",
      "Ajay Devgn\n",
      "Tusshar Kapoor\n",
      "Juhi Chawla\n",
      "Ajay Devgn\n",
      "Kay Kay Menon\n",
      "Akshay Kumar\n",
      "Dino Morea\n",
      "Mimoh Chakraborty\n",
      "Emraan Hashmi\n",
      "Mithun Chakraborty\n",
      "Sikander Kher\n",
      "Paresh Rawal\n",
      "Ahraz Ahmed\n",
      "Aftab Shivdasani\n",
      "Amita Pathak\n",
      "Saahil Chadha\n",
      "Saif Ali Khan\n",
      "Kay Kay Menon\n",
      "Shahid Kapoor\n",
      "Harman Baweja\n",
      "Adhvik Mahajan\n",
      "Vivek Oberoi\n",
      "Govinda\n",
      "Amitabh Bachchan\n",
      "Paresh Rawal\n",
      "Mallika Sherawat\n",
      "Arjun Rampal\n",
      "Tusshar Kapoor\n",
      "Bobby Deol\n",
      "Sammir Dattani\n",
      "Victor Banerjee\n",
      "Rajniesh Duggall\n",
      "Amitabh Bachchan\n",
      "Shreyas Talpade\n",
      "Kiron Kher\n",
      "Jackie Shroff\n",
      "Jayshree Arora\n",
      "Sharman Joshi\n",
      "Himesh Reshammiya\n",
      "Sohail Khan\n",
      "Saif Ali Khan\n",
      "Isha Koppikar\n",
      "Kamal Rashid Khan\n",
      "Priyanka Chopra\n",
      "Vinay Pathak\n",
      "Salman Khan\n",
      "Abhay Deol\n",
      "Vinay Pathak\n",
      "Shabana Azmi\n",
      "Manoj Bajpayee\n",
      "Anupam Kher\n",
      "Rajesh Khanna\n",
      "Dino Morea\n",
      "Irrfan Khan\n",
      "Amitabh Bachchan\n",
      "Himesh Reshammiya\n",
      "Tusshar Kapoor\n",
      "Nauheed Cyrusi\n",
      "Madhuri Dixit\n",
      "Dharmendra\n",
      "Emraan Hashmi\n",
      "Vinay Pathak\n",
      "Akshay Kumar\n",
      "Dino Morea\n",
      "Sunny Deol\n",
      "Mouli Ganguly\n",
      "Krishna Abhishek\n",
      "Irrfan Khan\n",
      "Kay Kay Menon\n",
      "Pankaj Kapur\n",
      "Jazzy Doe\n",
      "Mona Ambegaonkar\n",
      "Ajay Devgn\n",
      "Amitabh Bachchan\n",
      "Jimmy Sheirgill\n",
      "Fardeen Khan\n",
      "Shah Rukh Khan\n",
      "Sanjay Dutt\n",
      "John Abraham\n",
      "Pankaj Kapur\n",
      "Sunil Pal\n",
      "Muzamil Ibrahim\n",
      "Imaaduddin Shah\n",
      "Sharman Joshi\n",
      "Abhay Deol\n",
      "Arjun Rampal\n",
      "Akshaye Khanna\n",
      "Rishi Kapoor\n",
      "Arbaaz Khan\n",
      "Amitabh Bachchan\n",
      "Gautam Gupta\n",
      "Mohan Azaad\n",
      "Juanna Sanghvi\n",
      "Mithun Chakraborty\n",
      "Ranvir Shorey\n",
      "Govinda\n",
      "Abhishek Bachchan\n",
      "Shahid Kapoor\n",
      "Tusshar Kapoor\n",
      "Shahid Kapoor\n",
      "Shiney Ahuja\n",
      "Dharmendra\n",
      "Fardeen Khan\n",
      "Tusshar Kapoor\n",
      "Rekha\n",
      "Jimmy Sheirgill\n",
      "Rani Mukerji\n",
      "Dharmendra\n",
      "Shabana Azmi\n",
      "Abhay Deol\n",
      "Salman Khan\n",
      "Menekka Arora\n",
      "Nana Patekar\n",
      "Bobby Deol\n",
      "Linda Arsenio\n",
      "Kal Penn\n",
      "Akshay Kumar\n",
      "Jason Lewis\n",
      "Sanjay Dutt\n",
      "Amitabh Bachchan\n",
      "John Abraham\n",
      "Shah Rukh Khan\n",
      "Salman Khan\n",
      "Rahul Khanna\n",
      "Dwij Yadav\n",
      "Aftab Shivdasani\n",
      "Vinod Khanna\n",
      "Bobby Deol\n",
      "Sherlyn Chopra\n",
      "Salman Khan\n",
      "Rani Mukerji\n",
      "Mahima Chaudhry\n",
      "Mandar Jadhav\n",
      "Aftab Shivdasani\n",
      "Amitabh Bachchan\n",
      "Jimmy Sheirgill\n",
      "Manoj Bajpayee\n",
      "Darsheel Safary\n",
      "Saif Ali Khan\n",
      "Urmila Matondkar\n",
      "Kunal Khemu\n",
      "Emraan Hashmi\n",
      "Tushar Jalota\n",
      "Jaya Bachchan\n",
      "Akshay Kumar\n",
      "Akshaye Khanna\n",
      "Jeetendra\n",
      "Akshaye Khanna\n",
      "Abhay Deol\n",
      "Emraan Hashmi\n",
      "Akshay Kapoor\n",
      "Sanjay Dutt\n",
      "Bobby Darling\n",
      "Aftab Shivdasani\n",
      "Rekha\n",
      "Amitabh Bachchan\n",
      "Rati Agnihotri\n",
      "Rahul Dev\n",
      "Naseeruddin Shah\n",
      "Urmila Matondkar\n",
      "Juhi Chawla\n",
      "Akshay Kumar\n",
      "Sushmita Sen\n",
      "Jackie Shroff\n",
      "Somesh Agarwal\n",
      "Sohail Khan\n",
      "Kareena Kapoor\n",
      "Bipasha Basu\n",
      "Amitabh Bachchan\n",
      "Rajit Kapoor\n",
      "Emraan Hashmi\n",
      "Ishrat Ali\n",
      "Raj Tara\n",
      "Hrithik Roshan\n",
      "Ayesha Takia\n",
      "Shah Rukh Khan\n",
      "Amitabh Bachchan\n",
      "Aamir Khan\n",
      "Kangana Ranaut\n",
      "Ajay Devgn\n",
      "Ram Kapoor\n",
      "Sunil Shetty\n",
      "Ajay Devgn\n",
      "Akshay Kumar\n",
      "Arjun Rampal\n",
      "Arjun Rampal\n",
      "Aftab Shivdasani\n",
      "Salman Khan\n",
      "Emraan Hashmi\n",
      "Onjolee Nair\n",
      "Amarjeet\n",
      "Anupam Kher\n",
      "Amitabh Bachchan\n",
      "Rishi Kapoor\n",
      "Sanjay Dutt\n",
      "John Abraham\n",
      "Nassar Abdulla\n",
      "Rekha\n",
      "Paresh Rawal\n",
      "Ajay Devgn\n",
      "Rahul Bose\n",
      "Sunny Deol\n",
      "Akshay Kumar\n",
      "Fardeen Khan\n",
      "Akshay Kumar\n",
      "Jeetendra\n",
      "Sarika\n",
      "Aamir Khan\n",
      "Salman Khan\n",
      "Govinda\n",
      "Akshaye Khanna\n",
      "Salman Khan\n",
      "Mohit Ahlawat\n",
      "Mahima Chaudhry\n",
      "Ajay Devgn\n",
      "Mohammad Amir Naji\n",
      "Sanjay Dutt\n",
      "Irrfan Khan\n",
      "Aishwarya Rai Bachchan\n",
      "Nana Patekar\n",
      "Sunny Deol\n",
      "Shahid Kapoor\n",
      "Priyanshu Chatterjee\n",
      "Gurdas Maan\n",
      "Kangana Ranaut\n",
      "Paresh Rawal\n",
      "Jimmy Sheirgill\n",
      "Sushmita Sen\n",
      "Rakesh Bedi\n",
      "Emraan Hashmi\n",
      "Manisha Koirala\n",
      "Ajay Devgn\n",
      "Rekha\n",
      "Juhi Chawla\n",
      "Bobby Deol\n",
      "Anil Kapoor\n",
      "Amitabh Bachchan\n",
      "Sanjay Dutt\n",
      "Abhishek Bachchan\n",
      "Shawar Ali\n",
      "Ali Asgar\n",
      "Tabu\n",
      "Ajay Devgn\n",
      "Abhishek Bachchan\n",
      "Aryan Vaid\n",
      "Jatin Grewal\n",
      "Samir Aftab\n",
      "Anil Kapoor\n",
      "Randeep Hooda\n",
      "Akshay Kumar\n",
      "Saayli Buva\n",
      "Bipasha Basu\n",
      "Amitabh Bachchan\n",
      "Akshay Kumar\n",
      "Mithun Chakraborty\n",
      "Sanjay Dutt\n",
      "Arjun Rampal\n",
      "Shilpa Shetty Kundra\n",
      "Amitabh Bachchan\n",
      "Siddharth Koirala\n",
      "Fardeen Khan\n",
      "Ayesha Jhulka\n",
      "Aseel Adel\n",
      "Vivek Oberoi\n",
      "Akshay Kumar\n",
      "Shreyas Talpade\n",
      "Chiranjeevi\n",
      "Kay Kay Menon\n",
      "Akshay Kumar\n",
      "Sunny Deol\n",
      "John Abraham\n",
      "Ajay Devgn\n",
      "Kunal Khemu\n",
      "Lucky Ali\n",
      "Mukesh Khanna\n",
      "Mohit Ahlawat\n",
      "Vivek Oberoi\n",
      "Aftab Shivdasani\n",
      "Shilpa Shetty Kundra\n",
      "Kamal Adib\n",
      "Arshad Warsi\n",
      "Tusshar Kapoor\n",
      "Salman Khan\n",
      "Ajay Devgn\n",
      "Salman Khan\n",
      "Rajpal Yadav\n",
      "Anupam Kher\n",
      "Salman Khan\n",
      "Aamir Khan\n",
      "Dia Mirza\n",
      "Dev Anand\n",
      "Sanjay Suri\n",
      "Anil Kapoor\n",
      "Urmila Matondkar\n",
      "Uday Chopra\n",
      "Anil Kapoor\n",
      "Sunil Shetty\n",
      "Konkona Sen Sharma\n",
      "Shabana Azmi\n",
      "Saif Ali Khan\n",
      "Vinod Khanna\n",
      "Shah Rukh Khan\n",
      "Irrfan Khan\n",
      "Rishi Kapoor\n",
      "Saif Ali Khan\n",
      "Kashmira Shah\n",
      "Amitabh Bachchan\n",
      "Arshad Warsi\n",
      "Sanjay Dutt\n",
      "Ashutosh Rana\n",
      "Neha Dhupia\n",
      "Madhavan\n",
      "Tabu\n",
      "Abhay Deol\n",
      "Zulfi Sayed\n",
      "Ajay Devgn\n",
      "Nassar Abdulla\n",
      "Arjun Rampal\n",
      "Shahid Kapoor\n",
      "Aarti Chhabria\n",
      "Fardeen Khan\n",
      "Amitabh Bachchan\n",
      "Amitabh Bachchan\n",
      "Vikram Aditya\n",
      "Arjun Rampal\n",
      "Emraan Hashmi\n",
      "Shah Rukh Khan\n",
      "Shah Rukh Khan\n",
      "Ajay Devgn\n",
      "Salman Khan\n",
      "Abhishek Bachchan\n",
      "Amitabh Bachchan\n",
      "Saif Ali Khan\n",
      "Akshaye Khanna\n",
      "Mallika Sherawat\n",
      "Ajay Devgn\n",
      "Akshay Kumar\n",
      "Amitabh Bachchan\n",
      "Amitabh Bachchan\n",
      "Shatrughan Sinha\n",
      "Bobby Deol\n",
      "Kareena Kapoor\n",
      "Jimmy Sheirgill\n",
      "Arjun Rampal\n",
      "Jimmy Sheirgill\n",
      "Amitabh Bachchan\n",
      "Amitabh Bachchan\n",
      "Shahid Kapoor\n",
      "Salman Khan\n",
      "Jackie Shroff\n",
      "Naveen Bawa\n",
      "Vikaas Kalantari\n",
      "Tusshar Kapoor\n",
      "Kareena Kapoor\n",
      "Salman Khan\n",
      "Sunil Shetty\n",
      "Saif Ali Khan\n",
      "Isha Koppikar\n",
      "Akshay Kumar\n",
      "Aniket Vishwasrao\n",
      "Shawar Ali\n",
      "Tisca Chopra\n",
      "Neha Dhupia\n",
      "Raqesh Bapat\n",
      "Manoj Bajpayee\n",
      "Mallika Sherawat\n",
      "Dino Morea\n",
      "Sohail Khan\n",
      "Kiron Kher\n",
      "Bobby Deol\n",
      "Sunny Deol\n",
      "Sohail Khan\n",
      "Amitabh Bachchan\n",
      "Bipasha Basu\n",
      "Hrithik Roshan\n",
      "Dino Morea\n",
      "Irrfan Khan\n",
      "Aftab Shivdasani\n",
      "Tabu\n",
      "Anil Kapoor\n",
      "Prithviraj Kapoor\n",
      "Aftab Shivdasani\n",
      "Akshay Kumar\n",
      "Antara Mali\n",
      "Vinay Anand\n",
      "John Abraham\n",
      "Salman Khan\n",
      "Sanjay Dutt\n",
      "Akshay Kumar\n",
      "Manisha Koirala\n",
      "Akshay Kapoor\n",
      "Sanjay Dutt\n",
      "Ajay Devgn\n",
      "Sanjay Dutt\n",
      "Sanjay Suri\n",
      "Abhishek Bachchan\n",
      "Sunny Deol\n",
      "Aftab Shivdasani\n",
      "Shah Rukh Khan\n",
      "Vatsal Sheth\n",
      "Madhavan\n",
      "Tusshar Kapoor\n",
      "Emraan Hashmi\n",
      "Vicky Ahuja\n",
      "Shah Rukh Khan\n",
      "Tarun Arora\n",
      "Diwakar Pathak\n",
      "Arya Babbar\n",
      "Rekha\n",
      "Shah Rukh Khan\n",
      "Anupam Kher\n",
      "Shah Rukh Khan\n",
      "Sunny Deol\n",
      "Amitabh Bachchan\n",
      "Hrithik Roshan\n",
      "Sanjay Dutt\n",
      "Sanjay Dutt\n",
      "Sanjay Dutt\n",
      "Ajay Devgn\n",
      "Atul Kulkarni\n",
      "Naseeruddin Shah\n",
      "Arun Bakshi\n",
      "Priyanshu Chatterjee\n",
      "Ajay Devgn\n",
      "Amitabh Bachchan\n",
      "Sudesh Berry\n",
      "Akshay Kumar\n",
      "Akshay Kumar\n",
      "Amitabh Bachchan\n",
      "Ajay Devgn\n",
      "Anil Kapoor\n",
      "Jackie Shroff\n",
      "Sadashiv Amrapurkar\n",
      "Sooraj Balaji\n",
      "Arjun Rampal\n",
      "Sameera Reddy\n",
      "Om Puri\n",
      "Amar Upadhyaya\n",
      "Zayed Khan\n",
      "Nawazuddin Siddiqui\n",
      "Vivek Oberoi\n",
      "Kapil Jhaveri\n",
      "Nandita Das\n",
      "Aftab Shivdasani\n",
      "Manisha Koirala\n",
      "Rahul Bose\n",
      "Ajay Devgn\n",
      "Tabu\n",
      "Jimmy Sheirgill\n",
      "Sanjay Dutt\n",
      "Akshaye Khanna\n",
      "Vikram Dasu\n",
      "Reef Karim\n",
      "Jaz Pandher\n",
      "Rushali Arora\n",
      "Ashmit Patel\n",
      "Sunny Deol\n",
      "Shahid Kapoor\n",
      "Babbu Mann\n",
      "Javed Jaffrey\n",
      "Bipasha Basu\n",
      "Sanjay Suri\n",
      "Om Puri\n",
      "Juhi Babbar\n",
      "Sunny Deol\n",
      "Feroz Khan\n",
      "Amit Hingorani\n",
      "Fardeen Khan\n",
      "Himanshu Malik\n",
      "Tusshar Kapoor\n",
      "Aishwarya Rai Bachchan\n",
      "Antara Mali\n",
      "Victor Banerjee\n",
      "Manisha Koirala\n",
      "Attin Bhalla\n",
      "Riteish Deshmukh\n",
      "Rahul Bose\n",
      "Tulip Joshi\n",
      "Ajay Devgn\n",
      "Urmila Matondkar\n",
      "Abhishek Bachchan\n",
      "John Abraham\n",
      "Sushmita Sen\n",
      "Vikas Kalantri\n",
      "Raveena Tandon\n",
      "Tanishaa Mukerji\n",
      "Raveena Tandon\n",
      "Vijay Raaz\n",
      "Raveena Tandon\n",
      "Tanuja\n",
      "Ankit\n",
      "Sadashiv Amrapurkar\n",
      "Salman Khan\n",
      "Riteish Deshmukh\n",
      "Rakhee Gulzar\n",
      "Shabana Azmi\n",
      "Edwin Fernandes\n",
      "Tusshar Kapoor\n",
      "Sharman Joshi\n",
      "Dino Morea\n",
      "Ajay Devgn\n",
      "Arshad Warsi\n",
      "Shah Rukh Khan\n",
      "Amitabh Bachchan\n",
      "Shah Rukh Khan\n",
      "Amitabh Bachchan\n",
      "Vivek Oberoi\n",
      "Ajay Devgn\n",
      "Akshay Kumar\n"
     ]
    }
   ],
   "source": [
    "#looping \n",
    "for i in movies:\n",
    "    print(i)"
   ]
  },
  {
   "cell_type": "code",
   "execution_count": 93,
   "id": "b79b80da-e792-47f9-9273-fe44f5988d93",
   "metadata": {
    "scrolled": true
   },
   "outputs": [
    {
     "name": "stdout",
     "output_type": "stream",
     "text": [
      "Uri: The Surgical Strike\n",
      "Battalion 609\n",
      "The Accidental Prime Minister (film)\n",
      "Why Cheat India\n",
      "Evening Shadows\n",
      "Soni (film)\n",
      "Fraud Saiyaan\n",
      "Bombairiya\n",
      "Manikarnika: The Queen of Jhansi\n",
      "Thackeray (film)\n",
      "Amavas\n",
      "Gully Boy\n",
      "Hum Chaar\n",
      "Total Dhamaal\n",
      "Sonchiriya\n",
      "Badla (2019 film)\n",
      "Mard Ko Dard Nahi Hota\n",
      "Hamid (film)\n",
      "Photograph (film)\n",
      "Risknamaa\n",
      "Mere Pyare Prime Minister\n",
      "22 Yards\n",
      "Kesari (film)\n",
      "Notebook (2019 film)\n",
      "Junglee (2019 film)\n",
      "Gone Kesh\n",
      "Albert Pinto Ko Gussa Kyun Aata Hai?\n",
      "The Tashkent Files\n",
      "Kalank\n",
      "Setters (film)\n",
      "Student of the Year 2\n",
      "PM Narendra Modi\n",
      "De De Pyaar De\n",
      "India's Most Wanted (film)\n",
      "Yeh Hai India\n",
      "Khamoshi (2019 film)\n",
      "Kabir Singh\n",
      "Article 15 (film)\n",
      "One Day: Justice Delivered\n",
      "Hume Tumse Pyaar Kitna\n",
      "Super 30 (film)\n",
      "Family of Thakurganj\n",
      "Batla House\n",
      "Jhootha Kahin Ka\n",
      "Judgementall Hai Kya\n",
      "Chicken Curry Law\n",
      "Arjun Patiala\n",
      "Jabariya Jodi\n",
      "Pranaam\n",
      "The Sky Is Pink\n",
      "Mission Mangal\n",
      "Saaho\n",
      "Dream Girl (2019 film)\n",
      "Section 375\n",
      "The Zoya Factor (film)\n",
      "Pal Pal Dil Ke Paas\n",
      "Prassthanam\n",
      "P Se Pyaar F Se Faraar\n",
      "Ghost (2019 film)\n",
      "Bala (2019 film)\n",
      "Yaaram (2019 film)\n",
      "Housefull 4\n",
      "Saand Ki Aankh\n",
      "Made in China (2019 film)\n",
      "Ujda Chaman\n",
      "Bypass Road (film)\n",
      "Satellite Shankar\n",
      "Jhalki\n",
      "Marjaavaan\n",
      "Motichoor Chaknachoor\n",
      "Keep Safe Distance (film)\n",
      "Pagalpanti (2019 film)\n",
      "Ramprasad Ki Tehrvi\n",
      "Yeh Saali Aashiqui\n",
      "Dil Bechara\n",
      "Pati Patni Aur Woh (2019 film)\n",
      "Commando 3 (film)\n",
      "Mardaani 2\n",
      "Dabangg 3\n",
      "Good Newwz\n",
      "Kaalakaandi\n",
      "Vodka Diaries\n",
      "My Birthday Song\n",
      "Nirdosh\n",
      "Mukkabaaz\n",
      "Union Leader (film)\n",
      "Love per Square Foot\n",
      "Aiyaary\n",
      "Padmaavat\n",
      "Kuchh Bheege Alfaaz\n",
      "Jaane Kyun De Yaaron\n",
      "Veerey Ki Wedding\n",
      "Sonu Ke Titu Ki Sweety\n",
      "Hate Story 4\n",
      "Dil Juunglee\n",
      "3 Storeys\n",
      "Raid (2018 film)\n",
      "Hichki\n",
      "Missing (2018 film)\n",
      "Baaghi 2\n",
      "October (2018 film)\n",
      "Mercury (film)\n",
      "Beyond the Clouds (2017 film)\n",
      "Nanu Ki Jaanu\n",
      "Daas Dev\n",
      "Omerta (film)\n",
      "Raazi\n",
      "Hope Aur Hum\n",
      "High Jack (film)\n",
      "Khajoor Pe Atke\n",
      "Parmanu: The Story of Pokhran\n",
      "Bioscopewala\n",
      "Bhavesh Joshi Superhero\n",
      "Phamous\n",
      "Race 3\n",
      "Dhadak\n",
      "Sanju\n",
      "Saheb Biwi Aur Gangster 3\n",
      "Nawabzaade\n",
      "Mulk (film)\n",
      "Brij Mohan Amar Rahe\n",
      "Karwaan\n",
      "Gold (2018 film)\n",
      "Satyameva Jayate (2018 film)\n",
      "Happy Phirr Bhag Jayegi\n",
      "Genius (2018 Hindi film)\n",
      "Yamla Pagla Deewana: Phir Se\n",
      "Stree (2018 film)\n",
      "Paltan (film)\n",
      "Laila Majnu (2018 film)\n",
      "Gali Guleiyan\n",
      "Halkaa\n",
      "Pataakha\n",
      "Batti Gul Meter Chalu\n",
      "Love Sonia\n",
      "Manto (2018 film)\n",
      "Ishqeria\n",
      "Manmarziyaan\n",
      "Mitron\n",
      "Sui Dhaaga\n",
      "Baazaar\n",
      "Jalebi (film)\n",
      "FryDay\n",
      "Tumbbad\n",
      "Helicopter Eela\n",
      "Namaste England\n",
      "Andhadhun\n",
      "Badhaai Ho\n",
      "5 Weddings\n",
      "Kaashi in Search of Ganga\n",
      "Dassehra\n",
      "The Journey of Karma\n",
      "Jack and Dil\n",
      "Mohalla Assi\n",
      "Pihu\n",
      "Bhaiaji Superhit\n",
      "Rajma Chawal\n",
      "Zero (2018 film)\n",
      "Simmba\n",
      "Tiger Zinda Hai\n",
      "Golmaal Again\n",
      "Judwaa 2\n",
      "Ok Jaanu\n",
      "Coffee with D\n",
      "Kaabil\n",
      "Raees (film)\n",
      "Thugs of Hindostan\n",
      "Hind Ka Napak Ko Jawab: MSG Lion Heart 2\n",
      "Running Shaadi\n",
      "The Ghazi Attack\n",
      "Irada (2017 film)\n",
      "Rangoon (2017 Hindi film)\n",
      "Wedding Anniversary\n",
      "Jeena Isi Ka Naam Hai (film)\n",
      "Badrinath Ki Dulhania\n",
      "Trapped (2016 Hindi film)\n",
      "Aa Gaya Hero\n",
      "Mantra (2016 film)\n",
      "Phillauri (film)\n",
      "Machine (2017 film)\n",
      "Bhanwarey\n",
      "Anaarkali of Aarah\n",
      "Naam Shabana\n",
      "Hotel Salvation\n",
      "Begum Jaan\n",
      "Noor (film)\n",
      "Ek Thi Rani Aisi Bhi\n",
      "Maatr\n",
      "Sarkar 3\n",
      "Jattu Engineer\n",
      "Half Girlfriend (film)\n",
      "Meri Pyaari Bindu\n",
      "Sachin: A Billion Dreams\n",
      "Hindi Medium\n",
      "Sweetiee Weds NRI\n",
      "Dobaara: See Your Evil\n",
      "Flat 211\n",
      "Dear Maya\n",
      "Raabta (film)\n",
      "Behen Hogi Teri\n",
      "Tubelight (2017 Hindi film)\n",
      "Bank Chor\n",
      "Ek Haseena Thi Ek Deewana Tha\n",
      "Jagga Jasoos\n",
      "Shab (film)\n",
      "Lipstick Under My Burkha\n",
      "Bachche Kachche Sachche\n",
      "G Kutta Se\n",
      "Indu Sarkar\n",
      "Jab Harry Met Sejal\n",
      "Munna Michael\n",
      "Toilet: Ek Prem Katha\n",
      "Mubarakan\n",
      "Guest iin London\n",
      "Bareilly Ki Barfi\n",
      "Babumoshai Bandookbaaz\n",
      "Yadvi – The Dignified Princess\n",
      "Qaidi Band\n",
      "Shubh Mangal Saavdhan\n",
      "Raag Desh (film)\n",
      "Daddy (2017 film)\n",
      "Simran (film)\n",
      "Lucknow Central\n",
      "A Gentleman\n",
      "Viceroy's House (film)\n",
      "Patel Ki Punjabi Shaadi\n",
      "Newton (film)\n",
      "The Final Exit\n",
      "Bhoomi (film)\n",
      "Haseena Parkar\n",
      "JD (film)\n",
      "Haraamkhor\n",
      "Poster Boys\n",
      "Mom (film)\n",
      "Chef (2017 film)\n",
      "Ranchi Diaries\n",
      "Babuji Ek Ticket Bambai\n",
      "Rukh (film)\n",
      "Secret Superstar\n",
      "Aval (2017 film)\n",
      "Ribbon (film)\n",
      "Shaadi Mein Zaroor Aana\n",
      "Jia Aur Jia\n",
      "Qarib Qarib Singlle\n",
      "Aksar 2\n",
      "Panchlait\n",
      "Tumhari Sulu\n",
      "Julie 2\n",
      "Kadvi Hawa\n",
      "Firangi\n",
      "Fukrey Returns\n",
      "Monsoon Shootout\n",
      "Ajji\n",
      "Chalk n Duster\n",
      "Rebellious Flower\n",
      "Saankal\n",
      "Airlift (film)\n",
      "Sallu Ki Shaadi\n",
      "Irudhi Suttru\n",
      "Kyaa Kool Hain Hum 3\n",
      "Mastizaade\n",
      "Dil Jo Na Keh Saka\n",
      "Jugni (2016 film)\n",
      "Ghayal: Once Again\n",
      "Fitoor\n",
      "Sanam Re\n",
      "Direct Ishq\n",
      "Ishq Forever\n",
      "Loveshhuda\n",
      "Neerja\n",
      "Aligarh (film)\n",
      "Bollywood Diaries\n",
      "Love Shagun\n",
      "Tere Bin Laden: Dead or Alive\n",
      "Jai Gangaajal\n",
      "Kapoor & Sons\n",
      "Rocky Handsome\n",
      "Love Games (film)\n",
      "Fan (film)\n",
      "Nil Battey Sannata\n",
      "Laal Rang\n",
      "Baaghi (2016 film)\n",
      "Global Baba\n",
      "Shortcut Safari\n",
      "The Blueberry Hunt\n",
      "Santa Banta Pvt Ltd\n",
      "Traffic (2016 film)\n",
      "1920: London\n",
      "Azhar (film)\n",
      "Buddha in a Traffic Jam\n",
      "Murari the Mad Gentleman\n",
      "Dear Dad (film)\n",
      "Phobia (2016 film)\n",
      "Sarbjit (film)\n",
      "Veerappan (2016 film)\n",
      "Do Lafzon Ki Kahani (film)\n",
      "Te3n\n",
      "Udta Punjab\n",
      "Khel Toh Ab Shuru Hoga\n",
      "Luv U Alia\n",
      "7 Hours to Go\n",
      "Raman Raghav 2.0\n",
      "Junooniyat\n",
      "Rough Book\n",
      "Dhanak\n",
      "Fredrick (film)\n",
      "Dil Toh Deewana Hai\n",
      "Sultan (2016 film)\n",
      "Brahman Naman\n",
      "Great Grand Masti\n",
      "Waiting (2015 film)\n",
      "Ishq Click\n",
      "M Cream\n",
      "Madaari\n",
      "Dishoom\n",
      "Fever (2016 film)\n",
      "Rustom (film)\n",
      "Hai Apna Dil Toh Awara\n",
      "Mohenjo Daro (film)\n",
      "Happy Bhag Jayegi\n",
      "Waarrior Savitri\n",
      "A Flying Jatt\n",
      "Baar Baar Dekho\n",
      "Freaky Ali\n",
      "Raaz: Reboot\n",
      "Pink (2016 film)\n",
      "Parched\n",
      "Banjo (2016 film)\n",
      "Days of Tafree\n",
      "Wah Taj\n",
      "Island City (2015 film)\n",
      "Ek Kahani Julie Ki\n",
      "M.S. Dhoni: The Untold Story\n",
      "MSG: The Warrior Lion Heart\n",
      "Devi (2016 film)\n",
      "Motu Patlu: King of Kings\n",
      "Anna (2016 film)\n",
      "Fuddu\n",
      "Saat Uchakkey\n",
      "Beiimaan Love\n",
      "Umrika\n",
      "Shivaay\n",
      "Dongari Ka Raja\n",
      "Ae Dil Hai Mushkil\n",
      "Tum Bin II\n",
      "Rock On 2\n",
      "Force 2\n",
      "Dear Zindagi\n",
      "Befikre\n",
      "Moh Maya Money\n",
      "Shorgul\n",
      "Saansein\n",
      "Ki & Ka\n",
      "Wajah Tum Ho\n",
      "Dangal (film)\n",
      "Mirzya (film)\n",
      "Prem Ratan Dhan Payo\n",
      "Tanu Weds Manu: Returns\n",
      "Tanu Weds Manu: Returns\n",
      "31st October (film)\n",
      "ABCD 2\n",
      "Dilwale (2015 film)\n",
      "Bajrangi Bhaijaan\n",
      "Bajirao Mastani\n",
      "Welcome Back (film)\n",
      "Baby (2015 Hindi film)\n",
      "Singh Is Bliing\n",
      "Gabbar Is Back\n",
      "Gabbar Is Back\n",
      "Mumbai Can Dance Saala\n",
      "Alone (2015 Hindi film)\n",
      "Tevar\n",
      "Sharafat Gayi Tel Lene\n",
      "Dolly Ki Doli\n",
      "Hawaizaada\n",
      "Khamoshiyan\n",
      "Rahasya\n",
      "Jai Jawaan Jai Kisaan (film)\n",
      "Shamitabh\n",
      "Roy (film)\n",
      "Badlapur (film)\n",
      "Crazy Cukkad Family\n",
      "Take It Easy (2015 film)\n",
      "Qissa (film)\n",
      "Ab Tak Chhappan 2\n",
      "Dum Laga Ke Haisha\n",
      "Dirty Politics (film)\n",
      "MSG: The Messenger\n",
      "Badmashiyaan\n",
      "Coffee Bloom\n",
      "Hey Bro\n",
      "NH10 (film)\n",
      "Hunterrr\n",
      "Detective Byomkesh Bakshy!\n",
      "Luckhnowi Ishq\n",
      "Court (film)\n",
      "Margarita with a Straw\n",
      "Ek Paheli Leela\n",
      "Barkhaa\n",
      "Mr. X (2015 film)\n",
      "NH-8 Road to Nidhivan\n",
      "Dilliwali Zaalim Girlfriend\n",
      "Dharam Sankat Mein\n",
      "Kaagaz Ke Fools\n",
      "Kuch Kuch Locha Hai\n",
      "Piku\n",
      "Bombay Velvet\n",
      "I Love Desi\n",
      "Dil Dhadakne Do\n",
      "Welcome 2 Karachi\n",
      "P Se PM Tak\n",
      "Mere Genie Uncle\n",
      "Hamari Adhuri Kahani\n",
      "Miss Tanakpur Haazir Ho\n",
      "Uvaa\n",
      "Ishq Ke Parindey\n",
      "Ishqedarriyaan\n",
      "Sabki Bajegi Band\n",
      "Masaan\n",
      "Guddu Rangeela\n",
      "Bezubaan Ishq\n",
      "Aisa Yeh Jahaan\n",
      "Second Hand Husband\n",
      "I Love NY (2015 film)\n",
      "Main Hoon Part-Time Killer\n",
      "Kaun Kitne Paani Mein\n",
      "Drishyam (2015 film)\n",
      "Bangistan\n",
      "All Is Well (2015 film)\n",
      "Brothers (2015 film)\n",
      "Gour Hari Dastaan\n",
      "Manjhi – The Mountain Man\n",
      "Thoda Lutf Thoda Ishq\n",
      "Phantom (2015 film)\n",
      "Hero (2015 Hindi film)\n",
      "Sorry Daddy\n",
      "Talvar (film)\n",
      "Katti Batti\n",
      "Meeruthiya Gangsters\n",
      "MSG-2 The Messenger\n",
      "Calendar Girls (2015 film)\n",
      "Bhaag Johnny\n",
      "Jazbaa\n",
      "Bumper Draw\n",
      "Chinar Daastaan-E-Ishq\n",
      "Kis Kisko Pyaar Karoon\n",
      "Pyaar Ka Punchnama 2\n",
      "Wedding Pullav\n",
      "Shaandaar\n",
      "Titli (2014 film)\n",
      "Guddu Ki Gun\n",
      "The Silent Heroes\n",
      "Ranbanka\n",
      "Sholay\n",
      "Dedh Ishqiya\n",
      "Karle Pyaar Karle\n",
      "Om-Dar-B-Dar\n",
      "Paranthe Wali Gali\n",
      "Strings of Passion\n",
      "Gunday\n",
      "Jai Ho (film)\n",
      "Hasee Toh Phasee\n",
      "Heartless (2014 film)\n",
      "Ya Rab\n",
      "Darr @ the Mall\n",
      "One by Two (2014 film)\n",
      "Babloo Happy Hai\n",
      "Highway (2014 Hindi film)\n",
      "Gulabi Gang (film)\n",
      "Shaadi Ke Side Effects\n",
      "Gulaab Gang\n",
      "Queen (2014 film)\n",
      "Bewakoofiyaan\n",
      "Total Siyapaa\n",
      "Karar: The Deal\n",
      "Lakshmi (2014 film)\n",
      "Ragini MMS 2\n",
      "Dishkiyaoon\n",
      "Ankhon Dekhi\n",
      "Gang of Ghosts\n",
      "Anuradha (2014 film)\n",
      "W (2014 film)\n",
      "O Teri\n",
      "Honour Killing (film)\n",
      "2 States (2014 film)\n",
      "Jal (film)\n",
      "Bhoothnath Returns\n",
      "Main Tera Hero\n",
      "Lucky Kabootar\n",
      "Station (2014 film)\n",
      "Youngistaan\n",
      "Samrat & Co.\n",
      "Purani Jeans\n",
      "Kya Dilli Kya Lahore\n",
      "Koyelaanchal\n",
      "Manjunath (film)\n",
      "Dekh Tamasha Dekh\n",
      "Mastram\n",
      "The Xposé\n",
      "Children of War (2014 film)\n",
      "Hawaa Hawaai\n",
      "Kahin Hai Mera Pyar\n",
      "Kuku Mathur Ki Jhand Ho Gayi\n",
      "Heropanti\n",
      "CityLights (2014 film)\n",
      "Filmistaan\n",
      "Revolver Rani\n",
      "Kaanchi: The Unbreakable\n",
      "Machhli Jal Ki Rani Hai\n",
      "Khwaabb\n",
      "Yeh Hai Bakrapur\n",
      "Ek Villain\n",
      "Bobby Jasoos\n",
      "Humshakals\n",
      "Humpty Sharma Ki Dulhania\n",
      "Hate Story 2\n",
      "Lekar Hum Deewana Dil\n",
      "Riyasat (film)\n",
      "Amit Sahni Ki List\n",
      "Holiday: A Soldier Is Never Off Duty\n",
      "Fugly (film)\n",
      "Bazaar E Husn\n",
      "Pizza (2014 film)\n",
      "Entertainment (2014 film)\n",
      "Singham Returns\n",
      "Mardaani\n",
      "Raja Natwarlal\n",
      "Mary Kom (film)\n",
      "Creature 3D\n",
      "Finding Fanny\n",
      "Khoobsurat (2014 film)\n",
      "3 A.M. (2014 film)\n",
      "Kick (2014 film)\n",
      "Mad About Dance\n",
      "Mumbhai Connection\n",
      "Life Is Beautiful (2014 film)\n",
      "Desi Kattey\n",
      "Haider (film)\n",
      "Bang Bang!\n",
      "Spark (2014 film)\n",
      "Daawat-e-Ishq\n",
      "Balwinder Singh Famous Ho Gaya\n",
      "Jigariyaa\n",
      "Tamanchey\n",
      "Mumbai 125 KM\n",
      "Meinu Ek Ladki Chaahiye\n",
      "Chaarfutiya Chhokare\n",
      "Sonali Cable\n",
      "Happy New Year (2014 film)\n",
      "Super Nani\n",
      "Ekkees Toppon Ki Salaami\n",
      "Rang Rasiya\n",
      "The Shaukeens\n",
      "Roar: Tigers of the Sundarbans\n",
      "A Decent Arrangement\n",
      "Gollu Aur Pappu\n",
      "Titoo MBA\n",
      "Kill Dil\n",
      "Ungli\n",
      "Happy Ending (film)\n",
      "Zed Plus\n",
      "Zid (2014 film)\n",
      "Action Jackson (2014 film)\n",
      "Bhopal: A Prayer for Rain\n",
      "Mumbai Delhi Mumbai\n",
      "Badlapur Boys\n",
      "Main Aur Mr. Riight\n",
      "Ugly (film)\n",
      "PK (film)\n",
      "Dehraadun Diary\n",
      "Matru Ki Bijlee Ka Mandola\n",
      "Sulemani Keeda\n",
      "Inkaar (2013 film)\n",
      "Gangoobai\n",
      "Akaash Vani\n",
      "Main Krishna Hoon\n",
      "Race 2\n",
      "Bandook\n",
      "Listen... Amaya\n",
      "Special 26\n",
      "Murder 3\n",
      "Zila Ghaziabad\n",
      "Kai Po Che!\n",
      "Bloody Isshq\n",
      "Saare Jahaan Se Mehnga\n",
      "3G (film)\n",
      "Mere Dad Ki Maruti\n",
      "Jolly LLB\n",
      "Saheb Biwi Aur Gangster Returns\n",
      "Mai (2013 film)\n",
      "Vishwaroopam\n",
      "Rangrezz\n",
      "Aashiqui 2\n",
      "Ek Thi Daayan\n",
      "Himmatwala (2013 film)\n",
      "Nautanki Saala!\n",
      "Jayantabhai Ki Luv Story\n",
      "Commando: A One Man Army\n",
      "Bombay Talkies (film)\n",
      "Go Goa Gone\n",
      "Gippi\n",
      "Aurangzeb (film)\n",
      "Ishkq in Paris\n",
      "Zindagi 50-50\n",
      "Yeh Jawaani Hai Deewani\n",
      "Fukrey\n",
      "Chhota Bheem and the Throne of Bali\n",
      "Raanjhanaa\n",
      "Ankur Arora Murder Case\n",
      "Shortcut Romeo\n",
      "Ghanchakkar (film)\n",
      "Hum Hai Raahi Car Ke\n",
      "Policegiri\n",
      "Bhaag Milkha Bhaag\n",
      "Sixteen (2013 Indian film)\n",
      "B.A. Pass\n",
      "Enemmy\n",
      "Issaq\n",
      "Bajatey Raho\n",
      "Luv U Soniyo\n",
      "Nasha (film)\n",
      "Chor Chor Super Chor\n",
      "Calapor (film)\n",
      "Love in Bombay\n",
      "D-Day (2013 film)\n",
      "Siddharth (2013 film)\n",
      "Once Upon ay Time in Mumbai Dobaara!\n",
      "Madras Cafe\n",
      "Satyagraha (film)\n",
      "Shuddh Desi Romance\n",
      "Ramaiya Vastavaiya\n",
      "Chennai Express\n",
      "Grand Masti\n",
      "John Day (film)\n",
      "Horror Story (film)\n",
      "Phata Poster Nikhla Hero\n",
      "Ship of Theseus (film)\n",
      "The Lunchbox\n",
      "Baat Bann Gayi\n",
      "Boss (2013 Hindi film)\n",
      "Shahid (film)\n",
      "Mickey Virus\n",
      "Satya 2\n",
      "Rajjo\n",
      "Maazii\n",
      "Sooper Se Ooper\n",
      "Prague (2013 film)\n",
      "Wake Up India\n",
      "Super Model (film)\n",
      "Gori Tere Pyaar Mein\n",
      "What the Fish\n",
      "Jackpot (2013 film)\n",
      "Table No. 21\n",
      "Bullett Raja\n",
      "Dhoom 3\n",
      "Chashme Baddoor (2013 film)\n",
      "Lootera\n",
      "War Chhod Na Yaar\n",
      "Chaalis Chauraasi\n",
      "Ghost (2012 film)\n",
      "Sadda Adda\n",
      "Singh Saab the Great\n",
      "Goliyon Ki Raasleela Ram-Leela\n",
      "Agneepath (2012 film)\n",
      "Ek Main Aur Ekk Tu\n",
      "Ekk Deewana Tha\n",
      "?: A Question Mark\n",
      "Jodi Breakers\n",
      "Tere Naal Love Ho Gaya\n",
      "Staying Alive (2012 film)\n",
      "Paan Singh Tomar (film)\n",
      "Kahaani\n",
      "Zindagi Tere Naam\n",
      "Agent Vinod (2012 film)\n",
      "Blood Money (2012 film)\n",
      "Bumboo\n",
      "Valentine's Night\n",
      "Married 2 America\n",
      "Chaar Din Ki Chandni\n",
      "Bittoo Boss\n",
      "Vicky Donor\n",
      "Hate Story\n",
      "Tezz\n",
      "Dangerous Ishhq\n",
      "Ishaqzaade\n",
      "Department (film)\n",
      "Fatso!\n",
      "Arjun: The Warrior Prince\n",
      "Life Ki Toh Lag Gayi\n",
      "Shanghai (2012 film)\n",
      "Ferrari Ki Sawaari\n",
      "Teri Meri Kahaani (film)\n",
      "Mr. Bhatti on Chutti\n",
      "Yeh Khula Aasmaan\n",
      "Rakhtbeej\n",
      "Gangs of Wasseypur\n",
      "Gangs of Wasseypur – Part 2\n",
      "Cocktail (2012 film)\n",
      "Gattu\n",
      "Kyaa Super Kool Hain Hum\n",
      "Maximum (film)\n",
      "Paanch Ghantey Mien Paanch Crore\n",
      "Ek Tha Tiger\n",
      "Challo Driver\n",
      "Shirin Farhad Ki Toh Nikal Padi\n",
      "Joker (2012 film)\n",
      "Aalaap (film)\n",
      "Mere Dost Picture Abhi Baki Hai\n",
      "Krishna Aur Kans\n",
      "From Sydney with Love\n",
      "Jalpari: The Desert Mermaid\n",
      "Barfi!\n",
      "Heroine (2012 film)\n",
      "Chal Pichchur Banate Hain\n",
      "Kismat Love Paisa Dilli\n",
      "Jeena Hai Toh Thok Daal\n",
      "OMG – Oh My God!\n",
      "Aiyyaa\n",
      "Chittagong (film)\n",
      "Bhoot Returns\n",
      "Delhi Safari\n",
      "Chakravyuh (2012 film)\n",
      "Student of the Year\n",
      "Ajab Gazabb Love\n",
      "Rush (2012 film)\n",
      "1920: The Evil Returns\n",
      "Sons of Ram\n",
      "Ata Pata Laapata\n",
      "Jab Tak Hai Jaan\n",
      "Talaash: The Answer Lies Within\n",
      "Login (film)\n",
      "Son of Sardaar\n",
      "Cigarette Ki Tarah\n",
      "Dabangg 2\n",
      "Players (2012 film)\n",
      "Housefull 2\n",
      "Bol Bachchan\n",
      "English Vinglish\n",
      "Impatient Vivek\n",
      "Yamla Pagla Deewana\n",
      "Mumbai Mast Kallander\n",
      "Dhobi Ghat (film)\n",
      "Turning 30\n",
      "Hostel (2011 film)\n",
      "Dil Toh Baccha Hai Ji\n",
      "United Six\n",
      "Utt Pataang\n",
      "Patiala House (film)\n",
      "7 Khoon Maaf\n",
      "Tanu Weds Manu\n",
      "F.A.L.T.U\n",
      "Memories in March\n",
      "Thank You (2011 film)\n",
      "Angel (2011 film)\n",
      "Happy Husbands (2011 film)\n",
      "Teen Thay Bhai\n",
      "Dum Maaro Dum (film)\n",
      "Shor in the City\n",
      "Zokkomon\n",
      "Chalo Dilli\n",
      "Aashiqui.in\n",
      "Satrangee Parachute\n",
      "Monica (film)\n",
      "I Am (2010 Indian film)\n",
      "Naughty @ 40\n",
      "Haunted – 3D\n",
      "Love U...Mr. Kalakaar!\n",
      "Ragini MMS\n",
      "Stanley Ka Dabba\n",
      "Shagird (2011 film)\n",
      "404 (film)\n",
      "Shaitan (film)\n",
      "Pyaar Ka Punchnama\n",
      "Bheja Fry 2\n",
      "Always Kabhi Kabhi\n",
      "Double Dhamaal\n",
      "Bbuddah... Hoga Terra Baap\n",
      "Delhi Belly (film)\n",
      "Murder 2\n",
      "Chillar Party\n",
      "Zindagi Na Milegi Dobara\n",
      "Dear Friend Hitler\n",
      "I Am Kalam\n",
      "Bin Bulaye Baraati\n",
      "Kucch Luv Jaisaa\n",
      "Singham\n",
      "Khap (film)\n",
      "Bubble Gum (film)\n",
      "Shabri\n",
      "Phhir\n",
      "Aarakshan\n",
      "Chatur Singh Two Star\n",
      "Sahi Dhandhe Galat Bande\n",
      "Bodyguard (2011 Hindi film)\n",
      "Yeh Dooriyan\n",
      "Not a Love Story (2011 film)\n",
      "Hum Tum Shabana\n",
      "Mummy Punjabi\n",
      "Mere Brother Ki Dulhan\n",
      "Mausam (2011 film)\n",
      "U R My Jaan\n",
      "Force (2011 film)\n",
      "Saheb Biwi Aur Gangster\n",
      "Tere Mere Phere\n",
      "Breakaway (2011 film)\n",
      "Chargesheet (film)\n",
      "Love Breakups Zindagi\n",
      "Mujhse Fraaandship Karoge\n",
      "Aazaan\n",
      "Ra.One\n",
      "Rockstar (2011 film)\n",
      "Miley Naa Miley Hum\n",
      "Tell Me O Kkhuda\n",
      "Damadamm!\n",
      "Ladies vs Ricky Bahl\n",
      "Desi Boyz\n",
      "Game (2011 film)\n",
      "No One Killed Jessica\n",
      "Rascals (2011 film)\n",
      "The Dirty Picture\n",
      "Pyaar Impossible!\n",
      "Chance Pe Dance\n",
      "My Friend Pinto\n",
      "Veer (2010 film)\n",
      "Striker (2010 film)\n",
      "Rann (film)\n",
      "Ishqiya\n",
      "Road to Sangam\n",
      "Jo Hum Chahein\n",
      "Click (2010 film)\n",
      "Toh Baat Pakki!\n",
      "My Name Is Khan\n",
      "Teen Patti (film)\n",
      "Karthik Calling Karthik\n",
      "Don 2\n",
      "Rokkk\n",
      "Aakhari Decision\n",
      "Right Yaaa Wrong\n",
      "Sukhmani: Hope for Life\n",
      "Thanks Maa\n",
      "Na Ghar Ke Na Ghaat Ke\n",
      "Trump Card (film)\n",
      "Shaapit\n",
      "Hum Tum Aur Ghost\n",
      "Well Done Abba\n",
      "Tum Milo Toh Sahi\n",
      "Jaane Kahan Se Aayi Hai\n",
      "Prem Kaa Game\n",
      "Sadiyaan\n",
      "The Japanese Wife\n",
      "Paathshaala\n",
      "Phoonk 2\n",
      "Lahore (film)\n",
      "Apartment (film)\n",
      "City of Gold (2010 film)\n",
      "Chase (2010 film)\n",
      "Housefull (2010 film)\n",
      "Mittal v/s Mittal\n",
      "It's a Wonderful Afterlife\n",
      "Prince (2010 film)\n",
      "Raavan\n",
      "Bumm Bumm Bole\n",
      "Kushti (film)\n",
      "Kites (film)\n",
      "Love Sex Aur Dhokha\n",
      "Milenge Milenge\n",
      "Ek Second... Jo Zindagi Badal De?\n",
      "Mr. Singh Mrs. Mehta\n",
      "Lamhaa\n",
      "Khatta Meetha (2010 film)\n",
      "Tere Bin Laden\n",
      "Udaan (2010 film)\n",
      "Once Upon a Time in Mumbaai\n",
      "Help (film)\n",
      "Peepli Live\n",
      "Lafangey Parindey\n",
      "Hello Darling\n",
      "Antardwand\n",
      "Aashayein\n",
      "Soch Lo\n",
      "Dabangg\n",
      "Khichdi: The Movie\n",
      "Red Alert: The War Within\n",
      "Life Express (2010 film)\n",
      "The Film Emotional Atyachar\n",
      "Hisss\n",
      "Crook (film)\n",
      "Do Dooni Chaar\n",
      "Aakrosh (2010 film)\n",
      "Ramayana: The Epic\n",
      "Knock Out (2010 film)\n",
      "Jhootha Hi Sahi\n",
      "Guzaarish (film)\n",
      "Allah Ke Banday\n",
      "Break Ke Baad\n",
      "Khuda Kasam\n",
      "Phas Gaye Re Obama\n",
      "Malik Ek\n",
      "A Flat (film)\n",
      "No Problem (2010 film)\n",
      "Band Baaja Baaraat\n",
      "Kaalo\n",
      "Mirch\n",
      "Tees Maar Khan (2010 film)\n",
      "Isi Life Mein\n",
      "Toonpur Ka Super Hero\n",
      "Tera Kya Hoga Johnny\n",
      "Ramaa: The Saviour\n",
      "I Hate Luv Storys\n",
      "Dulha Mil Gaya\n",
      "Anjaana Anjaani\n",
      "Dunno Y... Na Jaane Kyon\n",
      "Pankh\n",
      "Action Replayy\n",
      "3 Idiots\n",
      "Luck by Chance\n",
      "Love Aaj Kal\n",
      "Wanted (2009 film)\n",
      "Delhi-6\n",
      "Raaz: The Mystery Continues\n",
      "Aasma: The Sky Is the Limit\n",
      "Ajab Prem Ki Ghazab Kahani\n",
      "Chal Chala Chal\n",
      "Billu\n",
      "The Stoneman Murders\n",
      "Kisse Pyaar Karoon\n",
      "Dhoondte Reh Jaaoge\n",
      "Karma Aur Holi\n",
      "Victory (2009 film)\n",
      "Kaminey\n",
      "Jai Veeru\n",
      "Little Zizou\n",
      "Gulaal (film)\n",
      "Aloo Chaat (film)\n",
      "Barah Aana\n",
      "Firaaq\n",
      "Aa Dekhen Zara\n",
      "99 (2009 film)\n",
      "Ek: The Power of One\n",
      "Ek Se Bure Do\n",
      "Sikandar (2009 film)\n",
      "Zor Lagaa Ke...Haiya!\n",
      "Paying Guests\n",
      "New York (2009 film)\n",
      "Sankat City\n",
      "Shortkut\n",
      "Luck (2009 film)\n",
      "Life Partner\n",
      "Daddy Cool (2009 Hindi film)\n",
      "Kisaan\n",
      "Yeh Mera India\n",
      "Aagey Se Right\n",
      "Chintu Ji\n",
      "Quick Gun Murugun\n",
      "Fox (film)\n",
      "Baabarr\n",
      "Phir Kabhi\n",
      "Vaada Raha\n",
      "Dil Bole Hadippa!\n",
      "What's Your Raashee?\n",
      "Acid Factory\n",
      "All the Best: Fun Begins\n",
      "Wake Up Sid\n",
      "Main Aurr Mrs Khanna\n",
      "Blue (2009 film)\n",
      "Fruit and Nut (film)\n",
      "Aladin (film)\n",
      "London Dreams\n",
      "Jail (2009 film)\n",
      "Tum Mile\n",
      "Kurbaan (2009 film)\n",
      "De Dana Dan\n",
      "Paa (film)\n",
      "Rocket Singh: Salesman of the Year\n",
      "Raat Gayi Baat Gayi?\n",
      "Accident on Hill Road\n",
      "Chandni Chowk to China\n",
      "Dostana (2008 film)\n",
      "Race (2008 film)\n",
      "Rab Ne Bana Di Jodi\n",
      "Ghajini (2008 film)\n",
      "Singh Is Kinng\n",
      "Golmaal Returns\n",
      "Jodhaa Akbar\n",
      "Bachna Ae Haseeno\n",
      "Bhoothnath\n",
      "Sarkar Raj\n",
      "Halla Bol\n",
      "Humne Jeena Seekh Liya\n",
      "Bombay to Bangkok\n",
      "Tulsi (film)\n",
      "Sunday (2008 film)\n",
      "One Two Three\n",
      "Krazzy 4\n",
      "U Me Aur Hum\n",
      "Sirf (film)\n",
      "Tashan (film)\n",
      "Anamika (2008 film)\n",
      "Jimmy (2008 film)\n",
      "Jannat (film)\n",
      "Don Muthu Swami\n",
      "Woodstock Villa\n",
      "Mere Baap Pehle Aap\n",
      "Summer 2007\n",
      "De Taali\n",
      "Haal-e-Dil\n",
      "Thodi Life Thoda Magic\n",
      "Thoda Pyaar Thoda Magic\n",
      "Via Darjeeling\n",
      "Kismat Konnection\n",
      "Love Story 2050\n",
      "Contract (2008 film)\n",
      "Mission Istaanbul\n",
      "Money Hai Toh Honey Hai\n",
      "God Tussi Great Ho\n",
      "Mumbai Meri Jaan\n",
      "Maan Gaye Mughal-e-Azam\n",
      "Rock On!!\n",
      "C Kkompany\n",
      "Chamku\n",
      "Mukhbiir\n",
      "Tahaan\n",
      "1920 (film)\n",
      "The Last Lear\n",
      "Welcome to Sajjanpur\n",
      "Saas Bahu Aur Sensex\n",
      "Hari Puttar: A Comedy of Terrors\n",
      "Drona (2008 film)\n",
      "Hello (2008 film)\n",
      "Karzzzz\n",
      "Heroes (2008 film)\n",
      "Roadside Romeo\n",
      "Ek Vivaah... Aisa Bhi\n",
      "Deshdrohi\n",
      "Fashion (2008 film)\n",
      "Dasvidaniya\n",
      "Yuvvraaj\n",
      "Oye Lucky! Lucky Oye!\n",
      "Oh My God (2008 film)\n",
      "Sorry Bhai!\n",
      "1971 (2007 film)\n",
      "Meerabai Not Out\n",
      "Wafa: A Deadly Love Story\n",
      "Gumnaam – The Mystery\n",
      "Dil Kabaddi\n",
      "Aag (2007 film)\n",
      "Aap Kaa Surroor\n",
      "Aggar (film)\n",
      "Anwar (2007 film)\n",
      "Aaja Nachle\n",
      "Apne\n",
      "Awarapan\n",
      "Bheja Fry (film)\n",
      "Bhool Bhulaiyaa\n",
      "Bhram\n",
      "Big Brother (2007 film)\n",
      "68 Pages\n",
      "Aur Pappu Paas Ho Gaya\n",
      "Apna Asmaan\n",
      "Black Friday (2007 film)\n",
      "The Blue Umbrella (2005 film)\n",
      "Blood Brothers (2007 Indian film)\n",
      "Buddha Mar Gaya\n",
      "Cash (2007 film)\n",
      "Cheeni Kum\n",
      "Chhodon Naa Yaar\n",
      "Darling (2007 Indian film)\n",
      "Chak De! India\n",
      "Dhamaal\n",
      "Goal (2007 Hindi film)\n",
      "Dharm (film)\n",
      "Bombay to Goa (2007 film)\n",
      "Dhokha\n",
      "Dil Dosti Etc\n",
      "Dhol (film)\n",
      "Ek Chalis Ki Last Local\n",
      "Familywala\n",
      "Gandhi My Father\n",
      "Don't Stop Dreaming\n",
      "Dus Kahaniyaan\n",
      "Eklavya: The Royal Guard\n",
      "Go (2007 film)\n",
      "Gauri: The Unborn\n",
      "Heyy Babyy\n",
      "Guru (2007 film)\n",
      "Honeymoon Travels Pvt. Ltd.\n",
      "Jahan Jaaeyega Hamen Paaeyega\n",
      "Jhoom Barabar Jhoom\n",
      "Jab We Met\n",
      "Good Boy Bad Boy\n",
      "Fool & Final\n",
      "Khoya Khoya Chand\n",
      "Johnny Gaddaar\n",
      "Just Married (2007 film)\n",
      "Kya Love Story Hai\n",
      "Kudiyon Ka Hai Zamana\n",
      "Hastey Hastey\n",
      "Laaga Chunari Mein Daag\n",
      "Life in a... Metro\n",
      "Loins of Punjab Presents\n",
      "Manorama Six Feet Under\n",
      "Marigold (2007 film)\n",
      "MP3: Mera Pehla Pehla Pyaar\n",
      "Hattrick (film)\n",
      "Naqaab\n",
      "Mumbai Salsa\n",
      "The Namesake (film)\n",
      "Namastey London\n",
      "My Bollywood Bride\n",
      "Nehlle Pe Dehlla\n",
      "Nishabd\n",
      "No Smoking (2007 film)\n",
      "Om Shanti Om\n",
      "Partner (2007 film)\n",
      "Raqeeb\n",
      "Nanhe Jaisalmer\n",
      "Life Mein Kabhie Kabhiee\n",
      "Risk (2007 film)\n",
      "Shakalaka Boom Boom\n",
      "Red Swastik\n",
      "Salaam-e-Ishq: A Tribute to Love\n",
      "Saawariya\n",
      "Sarhad Paar\n",
      "Say Salaam India\n",
      "Red: The Dark Side\n",
      "Shootout at Lokhandwala\n",
      "Strangers (2007 Hindi film)\n",
      "Swami (2007 film)\n",
      "Taare Zameen Par\n",
      "Ta Ra Rum Pum\n",
      "Speed (2007 film)\n",
      "Traffic Signal (film)\n",
      "The Train (2007 film)\n",
      "Showbiz (film)\n",
      "Sunglass (film)\n",
      "Welcome (2007 film)\n",
      "36 China Town\n",
      "Zamaanat\n",
      "Aap Ki Khatir (2006 film)\n",
      "Ahista Ahista (2006 film)\n",
      "Aksar\n",
      "Alag\n",
      "Anthony Kaun Hai?\n",
      "Apna Sapna Money Money\n",
      "Ankahee (2006 film)\n",
      "Yatra (2007 film)\n",
      "Baabul (2006 film)\n",
      "Aisa Kyon Hota Hai?\n",
      "Adharm (2006 film)\n",
      "Being Cyrus\n",
      "Banaras (2006 film)\n",
      "Bas Ek Pal\n",
      "Bhagam Bhag\n",
      "Chingaari\n",
      "Bhoot Unkle\n",
      "Chand Ke Paar Chalo (film)\n",
      "Aryan: Unbreakable\n",
      "Chup Chup Ke\n",
      "Corporate (2006 film)\n",
      "Darna Zaroori Hai\n",
      "Deadline: Sirf 24 Ghante\n",
      "Dil Diya Hai\n",
      "Darwaaza Bandh Rakho\n",
      "Eight: The Power of Shani\n",
      "Dhoom 2\n",
      "Dor (film)\n",
      "Don (2006 Hindi film)\n",
      "Family (2006 film)\n",
      "Fanaa (2006 film)\n",
      "Gangster (2006 film)\n",
      "Golmaal: Fun Unlimited\n",
      "Devaki (2005 film)\n",
      "Fight Club – Members Only\n",
      "Dharti Kahe Pukar Ke (2006 film)\n",
      "Humko Deewana Kar Gaye\n",
      "Humko Tumse Pyaar Hai\n",
      "I See You (2006 film)\n",
      "Jaane Hoga Kya\n",
      "Jaan-E-Mann\n",
      "Jawani Diwani: A Youthful Joyride\n",
      "Holiday (2006 film)\n",
      "Iqraar by Chance\n",
      "Khosla Ka Ghosla\n",
      "Kabhi Alvida Naa Kehna\n",
      "Love Ke Chakkar Mein\n",
      "Lage Raho Munna Bhai\n",
      "Kabul Express\n",
      "Jigyaasa\n",
      "Krrish\n",
      "Malamaal Weekly\n",
      "Omkara (2006 film)\n",
      "Pyaar Ke Side Effects\n",
      "Naksha\n",
      "Phir Hera Pheri\n",
      "Pyare Mohan\n",
      "Mere Jeevan Saathi (2006 film)\n",
      "Prateeksha\n",
      "Sacred Evil – A True Story\n",
      "Rang De Basanti\n",
      "Shaadi Karke Phas Gaya Yaar\n",
      "Sandwich (2006 film)\n",
      "Shaadi Se Pehle\n",
      "Saawan... The Love Season\n",
      "Shiva (2006 film)\n",
      "Souten: The Other Woman\n",
      "Shikhar (film)\n",
      "Children of Heaven\n",
      "Tathastu\n",
      "The Killer (2006 film)\n",
      "Umrao Jaan (2006 film)\n",
      "Taxi No. 9211\n",
      "Teesri Aankh: The Hidden Camera\n",
      "Vivah\n",
      "Utthaan\n",
      "Waris Shah: Ishq Daa Waaris\n",
      "Woh Lamhe...\n",
      "Yun Hota Toh Kya Hota\n",
      "Umar (film)\n",
      "Zindaggi Rocks\n",
      "Tom Dick and Harry (2006 film)\n",
      "Aashiq Banaya Aapne\n",
      "Anjaane (2005 film)\n",
      "Apaharan\n",
      "Bachke Rehna Re Baba\n",
      "7½ Phere\n",
      "Barsaat (2005 film)\n",
      "Bewafaa (2005 film)\n",
      "Black (2005 film)\n",
      "Zinda (film)\n",
      "Bluffmaster!\n",
      "99.9 FM (film)\n",
      "Bhola in Bollywood\n",
      "Bhagmati (2005 film)\n",
      "Blackmail (2005 film)\n",
      "Bunty Aur Babli\n",
      "Chaahat – Ek Nasha\n",
      "Chetna: The Excitement\n",
      "Chand Sa Roshan Chehra\n",
      "Chocolate (2005 film)\n",
      "D (film)\n",
      "Deewane Huye Paagal\n",
      "Bullet: Ek Dhamaka\n",
      "Chehraa\n",
      "Dil Jo Bhi Kahey...\n",
      "Dosti: Friends Forever\n",
      "Classic – Dance of Love\n",
      "Dus\n",
      "Elaan (2005 film)\n",
      "Fareb (2005 film)\n",
      "Ek Ajnabee\n",
      "Fun – Can Be Dangerous Sometimes\n",
      "Ek Khiladi Ek Haseena (film)\n",
      "Double Cross (2005 film)\n",
      "Dreams (2006 film)\n",
      "Home Delivery\n",
      "Garam Masala (2005 film)\n",
      "Iqbal (film)\n",
      "Jai Chiranjeeva\n",
      "Hazaaron Khwaishein Aisi\n",
      "Insan\n",
      "Jo Bole So Nihaal (film)\n",
      "Karam (film)\n",
      "Kaal (2005 film)\n",
      "Kalyug (2005 film)\n",
      "Kasak (2005 film)\n",
      "Hanuman (2005 film)\n",
      "James (2005 film)\n",
      "Kisna: The Warrior Poet\n",
      "Koi Aap Sa\n",
      "Khamoshh... Khauff Ki Raat\n",
      "Jurm (2005 film)\n",
      "Kuchh Meetha Ho Jaye\n",
      "Kyaa Kool Hai Hum\n",
      "Lucky: No Time for Love\n",
      "Main Aisa Hi Hoon\n",
      "Kyon Ki\n",
      "Main Meri Patni Aur Woh\n",
      "Maine Gandhi Ko Nahin Mara\n",
      "Maine Pyaar Kyun Kiya?\n",
      "Mangal Pandey: The Rising\n",
      "Koi Mere Dil Mein Hai\n",
      "Mr Prime Minister\n",
      "My Brother…Nikhil\n",
      "My Wife's Murder\n",
      "Naina (2005 film)\n",
      "Neal 'n' Nikki\n",
      "No Entry\n",
      "Padmashree Laloo Prasad Yadav\n",
      "Page 3 (film)\n",
      "Morning Raga\n",
      "Parineeta (2005 film)\n",
      "Pehchaan: The Face of Truth\n",
      "Paheli\n",
      "Rog\n",
      "Pyaar Mein Twist\n",
      "Salaam Namaste\n",
      "Revati (film)\n",
      "Sarkar (2005 film)\n",
      "Sehar\n",
      "Shabd (film)\n",
      "Shabnam Mausi\n",
      "Sheesha (2005 film)\n",
      "Ramji Londonwaley\n",
      "Silsiilay\n",
      "Socha Na Tha\n",
      "Taj Mahal: An Eternal Love Story\n",
      "Tango Charlie\n",
      "The Film\n",
      "Vaada (film)\n",
      "Vaah! Life Ho Toh Aisi!\n",
      "Ssukh\n",
      "Shaadi No. 1\n",
      "Viruddh... Family Comes First\n",
      "Waqt: The Race Against Time\n",
      "Vidyaarthi\n",
      "Yakeen (2005 film)\n",
      "Zeher\n",
      "Veer-Zaara\n",
      "Main Hoon Na\n",
      "Zameer: The Fire Within\n",
      "Mujhse Shaadi Karogi\n",
      "Dhoom\n",
      "Khakee\n",
      "Hum Tum\n",
      "Hulchul (2004 film)\n",
      "Murder (2004 film)\n",
      "Yuva\n",
      "Aitraaz\n",
      "Aetbaar\n",
      "Ab Tumhare Hawale Watan Saathiyo\n",
      "Aan: Men at Work\n",
      "Bardaasht\n",
      "Chameli (film)\n",
      "Agnipankh\n",
      "Asambhav\n",
      "Charas (2004 film)\n",
      "Deewaar (2004 film)\n",
      "Dev (2004 film)\n",
      "Dil Maange More\n",
      "Dil Ne Jise Apna Kahaa\n",
      "Dobara\n",
      "Aabra Ka Daabra\n",
      "Dil Bechara Pyaar Ka Maara\n",
      "Gayab\n",
      "Fida\n",
      "Garv: Pride & Honour\n",
      "Ek Se Badhkar Ek (2004 film)\n",
      "Ek Hasina Thi (film)\n",
      "Girlfriend (2004 film)\n",
      "Hatya (2004 film)\n",
      "Hava Aney Dey\n",
      "Hawas (2004 film)\n",
      "Hyderabad Blues 2\n",
      "Julie (2004 film)\n",
      "Kaun Hai Jo Sapno Mein Aaya\n",
      "Inteqam: The Perfect Game\n",
      "Kis Kis Ki Kismat\n",
      "Insaaf: The Justice\n",
      "I Proud to Be an Indian\n",
      "Khamosh Pani\n",
      "Kismat (2004 film)\n",
      "Lakeer – Forbidden Lines\n",
      "Krishna Cottage\n",
      "Kyun! Ho Gaya Na...\n",
      "Madhoshi\n",
      "Lakshya (film)\n",
      "Ishq Hai Tumse\n",
      "Maqbool\n",
      "Masti (2004 film)\n",
      "Meenaxi: A Tale of Three Cities\n",
      "Musafir (2004 film)\n",
      "Mughal-e-Azam\n",
      "Muskaan\n",
      "Meri Biwi Ka Jawaab Nahin\n",
      "Naach (2004 film)\n",
      "Netaji Subhas Chandra Bose: The Forgotten Hero\n",
      "Paap\n",
      "Phir Milenge\n",
      "Plan (film)\n",
      "Police Force: An Inside Story\n",
      "Paisa Vasool\n",
      "Popcorn Khao! Mast Ho Jao\n",
      "Rakht\n",
      "Raincoat (film)\n",
      "Rudraksh (film)\n",
      "Shaadi Ka Laddoo\n",
      "Run (2004 film)\n",
      "Rok Sako To Rok Lo\n",
      "Suno Sasurjee\n",
      "Swades\n",
      "Taarzan: The Wonder Car\n",
      "Nothing but Life\n",
      "Shart: The Challenge\n",
      "Tumsa Nahin Dekha: A Love Story\n",
      "Vaastu Shastra (film)\n",
      "Yeh Lamhe Judaai Ke\n",
      "Sheen (film)\n",
      "Dude Where's the Party?\n",
      "Thoda Tum Badlo Thoda Hum\n",
      "Koi... Mil Gaya\n",
      "Kal Ho Naa Ho\n",
      "Shukriya: Till Death Do Us Apart\n",
      "Chalte Chalte (2003 film)\n",
      "The Hero: Love Story of a Spy\n",
      "Baghban (2003 film)\n",
      "Main Prem Ki Diwani Hoon\n",
      "LOC Kargil\n",
      "Border (1997 film)\n",
      "Munna Bhai M.B.B.S.\n",
      "Qayamat: City Under Threat\n",
      "88 Antop Hill\n",
      "3 Deewarein\n",
      "Aanch\n",
      "Aapko Pehle Bhi Kahin Dekha Hai\n",
      "Bhoot (film)\n",
      "Boom (film)\n",
      "Aaj Ka Andha Kanoon\n",
      "Andaaz\n",
      "Andaaz\n",
      "Armaan (2003 film)\n",
      "Chori Chori (2003 film)\n",
      "Calcutta Mail\n",
      "Baaz: A Bird in Danger\n",
      "Basti (film)\n",
      "Magic Magic 3D\n",
      "Dil Ka Rishta\n",
      "Darna Mana Hai\n",
      "Dhoop\n",
      "Dhund (2003 film)\n",
      "Chura Liyaa Hai Tumne\n",
      "The Bypass\n",
      "Dum (2003 Hindi film)\n",
      "Dil Pardesi Ho Gayaa\n",
      "Ek Alag Mausam\n",
      "Footpath (2003 film)\n",
      "Escape from Taliban\n",
      "Ek Din 24 Ghante\n",
      "Gangaajal\n",
      "Hawa (film)\n",
      "Haasil\n",
      "Ek Aur Ek Gyarah\n",
      "Hungama (2003 film)\n",
      "Green Card Fever\n",
      "Flavors (film)\n",
      "Indian Babu\n",
      "Fun2shh... Dudes in the 10th Century\n",
      "Inteha (2003 film)\n",
      "Jaal: The Trap\n",
      "Ishq Vishk\n",
      "Hawayein\n",
      "Jajantaram Mamantaram\n",
      "Jism (2003 film)\n",
      "Jhankaar Beats\n",
      "Kagaar: Life on the Edge\n",
      "Kash Aap Hamare Hote\n",
      "Khel – No Ordinary Game\n",
      "Janasheen\n",
      "Kaise Kahoon Ke... Pyaar Hai\n",
      "Khushi (2003 Hindi film)\n",
      "Khwahish\n",
      "Kucch To Hai\n",
      "Kuch Naa Kaho\n",
      "Main Madhuri Dixit Banna Chahti Hoon\n",
      "Joggers' Park (film)\n",
      "Market (2003 film)\n",
      "Om (2003 film)\n",
      "Out of Control (2003 film)\n",
      "Mumbai Matinee\n",
      "Matrubhoomi\n",
      "Parwana (2003 film)\n",
      "Pinjar (film)\n",
      "Mumbai Se Aaya Mera Dost\n",
      "Saaya (2003 film)\n",
      "Samay: When Time Strikes\n",
      "Nayee Padosan\n",
      "Satta (film)\n",
      "Sssshhh...\n",
      "Praan Jaye Par Shaan Na Jaye\n",
      "Raghu Romeo\n",
      "Stumped (film)\n",
      "Rules: Pyaar Ka Superhit Formula\n",
      "Right Here Right Now (film)\n",
      "Raja Bhaiya (film)\n",
      "Tere Naam\n",
      "Tujhe Meri Kasam\n",
      "Talaash: The Hunt Begins...\n",
      "Tehzeeb (2003 film)\n",
      "The Pink Mirror\n",
      "Yeh Dil\n",
      "Xcuse Me\n",
      "Raaz (2002 film)\n",
      "Zameen (2003 film)\n",
      "Waisa Bhi Hota Hai Part II\n",
      "Devdas (2002 Hindi film)\n",
      "Kaante\n",
      "Hum Tumhare Hain Sanam\n",
      "Aankhen (2002 film)\n",
      "Saathiya (film)\n",
      "Company (film)\n",
      "Awara Paagal Deewana\n"
     ]
    }
   ],
   "source": [
    "for i in movies.index:\n",
    "    print(i)"
   ]
  },
  {
   "cell_type": "code",
   "execution_count": 94,
   "id": "b8bc2216-8049-410b-81a4-72e397e92cfc",
   "metadata": {},
   "outputs": [
    {
     "data": {
      "text/plain": [
       "maths      100\n",
       "english    100\n",
       "science     89\n",
       "hindi       95\n",
       "sst         90\n",
       "Name: Madhu marks, dtype: int64"
      ]
     },
     "execution_count": 94,
     "metadata": {},
     "output_type": "execute_result"
    }
   ],
   "source": [
    "# Arithmatic operator(broadcasting)\n",
    "marks_series"
   ]
  },
  {
   "cell_type": "code",
   "execution_count": 95,
   "id": "f261090e-9b3c-41fb-aa61-e077a8126247",
   "metadata": {},
   "outputs": [
    {
     "data": {
      "text/plain": [
       "maths       0\n",
       "english     0\n",
       "science    11\n",
       "hindi       5\n",
       "sst        10\n",
       "Name: Madhu marks, dtype: int64"
      ]
     },
     "execution_count": 95,
     "metadata": {},
     "output_type": "execute_result"
    }
   ],
   "source": [
    "100-marks_series"
   ]
  },
  {
   "cell_type": "code",
   "execution_count": 96,
   "id": "0f8af0bc-8dc1-4fbb-877f-b80968009fb8",
   "metadata": {},
   "outputs": [
    {
     "data": {
      "text/plain": [
       "match_no\n",
       "123    108\n",
       "126    109\n",
       "128    113\n",
       "Name: runs, dtype: int64"
      ]
     },
     "execution_count": 96,
     "metadata": {},
     "output_type": "execute_result"
    }
   ],
   "source": [
    "# Relational operators\n",
    "vk[vk >100]"
   ]
  },
  {
   "cell_type": "markdown",
   "id": "b6b444dd-b924-4865-ba78-8e86705c3616",
   "metadata": {},
   "source": [
    "### Boolean Indexing on Series "
   ]
  },
  {
   "cell_type": "code",
   "execution_count": 98,
   "id": "38e6d6b3-cad8-4f6c-9ce2-1c6304f7803e",
   "metadata": {},
   "outputs": [
    {
     "data": {
      "text/plain": [
       "50"
      ]
     },
     "execution_count": 98,
     "metadata": {},
     "output_type": "execute_result"
    }
   ],
   "source": [
    "# Find no. of 50's scored by vk\n",
    "vk[vk>=50].size"
   ]
  },
  {
   "cell_type": "code",
   "execution_count": 99,
   "id": "7d4d7f8f-ae21-45f4-bebc-6d955c8ecd82",
   "metadata": {},
   "outputs": [
    {
     "data": {
      "text/plain": [
       "9"
      ]
     },
     "execution_count": 99,
     "metadata": {},
     "output_type": "execute_result"
    }
   ],
   "source": [
    "# find number of ducks \n",
    "vk[vk ==0].size"
   ]
  },
  {
   "cell_type": "code",
   "execution_count": 100,
   "id": "65274bbf-6e7a-4137-93b8-9534670fb19c",
   "metadata": {},
   "outputs": [
    {
     "data": {
      "text/plain": [
       "lead\n",
       "Akshay Kumar        48\n",
       "Amitabh Bachchan    45\n",
       "Ajay Devgn          38\n",
       "Salman Khan         31\n",
       "Sanjay Dutt         26\n",
       "Shah Rukh Khan      22\n",
       "Emraan Hashmi       21\n",
       "Name: count, dtype: int64"
      ]
     },
     "execution_count": 100,
     "metadata": {},
     "output_type": "execute_result"
    }
   ],
   "source": [
    "# find actors who have done more than 20 movies \n",
    "num_movies = movies.value_counts()\n",
    "num_movies[num_movies>20]"
   ]
  },
  {
   "cell_type": "markdown",
   "id": "f07f4d95-bfe2-4fde-b26c-cf63fc88a9ff",
   "metadata": {},
   "source": [
    "### Plotting graphs on series"
   ]
  },
  {
   "cell_type": "code",
   "execution_count": 102,
   "id": "5a975225-1b32-409d-8d3c-d581c2a5b28a",
   "metadata": {},
   "outputs": [
    {
     "data": {
      "text/plain": [
       "<Axes: >"
      ]
     },
     "execution_count": 102,
     "metadata": {},
     "output_type": "execute_result"
    },
    {
     "data": {
      "image/png": "[encoded data removed]",
      "text/plain": [
       "<Figure size 640x480 with 1 Axes>"
      ]
     },
     "metadata": {},
     "output_type": "display_data"
    }
   ],
   "source": [
    "subs.plot()"
   ]
  },
  {
   "cell_type": "code",
   "execution_count": 103,
   "id": "d021a72f-21e6-4e74-8a59-88f8b7aac530",
   "metadata": {},
   "outputs": [
    {
     "data": {
      "text/plain": [
       "<Axes: xlabel='match_no'>"
      ]
     },
     "execution_count": 103,
     "metadata": {},
     "output_type": "execute_result"
    },
    {
     "data": {
      "image/png": "[encoded data removed]",
      "text/plain": [
       "<Figure size 640x480 with 1 Axes>"
      ]
     },
     "metadata": {},
     "output_type": "display_data"
    }
   ],
   "source": [
    "vk.plot()"
   ]
  },
  {
   "cell_type": "code",
   "execution_count": 104,
   "id": "c2114d60-a04e-43ac-9418-3b470eba8ee7",
   "metadata": {},
   "outputs": [
    {
     "data": {
      "text/plain": [
       "<Axes: xlabel='lead'>"
      ]
     },
     "execution_count": 104,
     "metadata": {},
     "output_type": "execute_result"
    },
    {
     "data": {
      "image/png": "[encoded data removed]",
      "text/plain": [
       "<Figure size 640x480 with 1 Axes>"
      ]
     },
     "metadata": {},
     "output_type": "display_data"
    }
   ],
   "source": [
    "movies.value_counts().head(20).plot(kind = 'bar')"
   ]
  },
  {
   "cell_type": "code",
   "execution_count": 105,
   "id": "8af77a25-c799-4e92-83ea-9ca38af3fd79",
   "metadata": {},
   "outputs": [
    {
     "data": {
      "text/plain": [
       "match_no\n",
       "1       1\n",
       "2      23\n",
       "3      13\n",
       "4      12\n",
       "5       1\n",
       "       ..\n",
       "211     0\n",
       "212    20\n",
       "213    73\n",
       "214    25\n",
       "215     7\n",
       "Name: runs, Length: 215, dtype: int64"
      ]
     },
     "execution_count": 105,
     "metadata": {},
     "output_type": "execute_result"
    }
   ],
   "source": [
    "# astype \n",
    "vk"
   ]
  },
  {
   "cell_type": "code",
   "execution_count": 106,
   "id": "23a05996-3b59-46de-b257-a30817559be4",
   "metadata": {},
   "outputs": [
    {
     "data": {
      "text/plain": [
       "11768"
      ]
     },
     "execution_count": 106,
     "metadata": {},
     "output_type": "execute_result"
    }
   ],
   "source": [
    "import sys \n",
    "sys.getsizeof(vk)\n"
   ]
  },
  {
   "cell_type": "code",
   "execution_count": 107,
   "id": "f753303e-3da7-4b47-8245-9bf8d463ddf6",
   "metadata": {},
   "outputs": [
    {
     "data": {
      "text/plain": [
       "10478"
      ]
     },
     "execution_count": 107,
     "metadata": {},
     "output_type": "execute_result"
    }
   ],
   "source": [
    "sys.getsizeof(vk.astype('int16'))\n"
   ]
  },
  {
   "cell_type": "code",
   "execution_count": 108,
   "id": "06eec0d4-c135-4ebb-bbc8-8e9920e00ec5",
   "metadata": {},
   "outputs": [
    {
     "data": {
      "text/plain": [
       "43"
      ]
     },
     "execution_count": 108,
     "metadata": {},
     "output_type": "execute_result"
    }
   ],
   "source": [
    "# between \n",
    "\n",
    "vk[vk.between (51,99)].size # both are included "
   ]
  },
  {
   "cell_type": "code",
   "execution_count": 109,
   "id": "48427dfc-ecee-400b-aece-ff04006ff3c7",
   "metadata": {},
   "outputs": [
    {
     "data": {
      "text/plain": [
       "0      100\n",
       "1      100\n",
       "2      100\n",
       "3      100\n",
       "4      100\n",
       "      ... \n",
       "360    200\n",
       "361    200\n",
       "362    155\n",
       "363    144\n",
       "364    172\n",
       "Name: Subscribers gained, Length: 365, dtype: int64"
      ]
     },
     "execution_count": 109,
     "metadata": {},
     "output_type": "execute_result"
    }
   ],
   "source": [
    "# clip \n",
    "\n",
    "subs.clip(100,200)"
   ]
  },
  {
   "cell_type": "code",
   "execution_count": 110,
   "id": "bd7eddf1-a525-4b77-a968-d370aa603647",
   "metadata": {},
   "outputs": [
    {
     "data": {
      "text/plain": [
       "0       48\n",
       "1       57\n",
       "2       40\n",
       "3       43\n",
       "4       44\n",
       "      ... \n",
       "360    231\n",
       "361    226\n",
       "362    155\n",
       "363    144\n",
       "364    172\n",
       "Name: Subscribers gained, Length: 365, dtype: int64"
      ]
     },
     "execution_count": 110,
     "metadata": {},
     "output_type": "execute_result"
    }
   ],
   "source": [
    "subs"
   ]
  },
  {
   "cell_type": "code",
   "execution_count": 111,
   "id": "e5e0b63a-4c64-43ac-995a-d0e52e853fcd",
   "metadata": {},
   "outputs": [
    {
     "data": {
      "text/plain": [
       "0     1\n",
       "1     1\n",
       "2     2\n",
       "3     2\n",
       "4     3\n",
       "5     3\n",
       "6     4\n",
       "7     4\n",
       "8     5\n",
       "9     5\n",
       "10    5\n",
       "11    6\n",
       "dtype: int64"
      ]
     },
     "execution_count": 111,
     "metadata": {},
     "output_type": "execute_result"
    }
   ],
   "source": [
    "# drop duplicates \n",
    "temp = pd.Series([1,1,2,2,3,3,4,4,5,5,5,6])\n",
    "temp"
   ]
  },
  {
   "cell_type": "code",
   "execution_count": 112,
   "id": "b3ac78e7-ff95-4cc2-9163-5ac82c18afec",
   "metadata": {},
   "outputs": [
    {
     "data": {
      "text/plain": [
       "0     1\n",
       "2     2\n",
       "4     3\n",
       "6     4\n",
       "8     5\n",
       "11    6\n",
       "dtype: int64"
      ]
     },
     "execution_count": 112,
     "metadata": {},
     "output_type": "execute_result"
    }
   ],
   "source": [
    "temp.drop_duplicates()"
   ]
  },
  {
   "cell_type": "code",
   "execution_count": 113,
   "id": "60bce93e-ada3-49a6-962a-e72b7ce00833",
   "metadata": {},
   "outputs": [
    {
     "data": {
      "text/plain": [
       "1     1\n",
       "3     2\n",
       "5     3\n",
       "7     4\n",
       "10    5\n",
       "11    6\n",
       "dtype: int64"
      ]
     },
     "execution_count": 113,
     "metadata": {},
     "output_type": "execute_result"
    }
   ],
   "source": [
    "temp.drop_duplicates(keep = 'last')\n"
   ]
  },
  {
   "cell_type": "code",
   "execution_count": 114,
   "id": "b4461247-1f2c-410a-87c3-6735ec78a7f6",
   "metadata": {},
   "outputs": [
    {
     "data": {
      "text/plain": [
       "6"
      ]
     },
     "execution_count": 114,
     "metadata": {},
     "output_type": "execute_result"
    }
   ],
   "source": [
    "temp.duplicated().sum()"
   ]
  },
  {
   "cell_type": "code",
   "execution_count": 115,
   "id": "dde3c255-3b4c-4435-b6d8-6430fc2ab201",
   "metadata": {},
   "outputs": [
    {
     "data": {
      "text/plain": [
       "0     1.0\n",
       "1     2.0\n",
       "2     3.0\n",
       "3     NaN\n",
       "4     5.0\n",
       "5     6.0\n",
       "6     NaN\n",
       "7     8.0\n",
       "8     NaN\n",
       "9    10.0\n",
       "dtype: float64"
      ]
     },
     "execution_count": 115,
     "metadata": {},
     "output_type": "execute_result"
    }
   ],
   "source": [
    "tmp = pd.Series([1,2,3,np.nan,5,6,np.nan,8,np.nan,10])\n",
    "tmp"
   ]
  },
  {
   "cell_type": "code",
   "execution_count": 116,
   "id": "064fe947-3708-4867-af07-754911a292ec",
   "metadata": {},
   "outputs": [
    {
     "data": {
      "text/plain": [
       "10"
      ]
     },
     "execution_count": 116,
     "metadata": {},
     "output_type": "execute_result"
    }
   ],
   "source": [
    "tmp.size"
   ]
  },
  {
   "cell_type": "code",
   "execution_count": 117,
   "id": "b9f3bb61-5070-4ff6-8ac4-3fb4e5cda41e",
   "metadata": {},
   "outputs": [
    {
     "data": {
      "text/plain": [
       "7"
      ]
     },
     "execution_count": 117,
     "metadata": {},
     "output_type": "execute_result"
    }
   ],
   "source": [
    "tmp.count()"
   ]
  },
  {
   "cell_type": "code",
   "execution_count": 118,
   "id": "d4c8e39c-28d5-4f7b-b99e-57aff31ccbeb",
   "metadata": {},
   "outputs": [
    {
     "data": {
      "text/plain": [
       "3"
      ]
     },
     "execution_count": 118,
     "metadata": {},
     "output_type": "execute_result"
    }
   ],
   "source": [
    "# isnull \n",
    "tmp.isnull().sum()"
   ]
  },
  {
   "cell_type": "code",
   "execution_count": 119,
   "id": "761fbd57-6002-4bc0-97fe-d6a39b3118fc",
   "metadata": {},
   "outputs": [
    {
     "data": {
      "text/plain": [
       "0     1.0\n",
       "1     2.0\n",
       "2     3.0\n",
       "4     5.0\n",
       "5     6.0\n",
       "7     8.0\n",
       "9    10.0\n",
       "dtype: float64"
      ]
     },
     "execution_count": 119,
     "metadata": {},
     "output_type": "execute_result"
    }
   ],
   "source": [
    "#dropna\n",
    "tmp.dropna()"
   ]
  },
  {
   "cell_type": "code",
   "execution_count": 120,
   "id": "a601cb83-3e2c-4c61-94d4-36670416bf44",
   "metadata": {},
   "outputs": [
    {
     "data": {
      "text/plain": [
       "0     1.0\n",
       "1     2.0\n",
       "2     3.0\n",
       "3     5.0\n",
       "4     5.0\n",
       "5     6.0\n",
       "6     5.0\n",
       "7     8.0\n",
       "8     5.0\n",
       "9    10.0\n",
       "dtype: float64"
      ]
     },
     "execution_count": 120,
     "metadata": {},
     "output_type": "execute_result"
    }
   ],
   "source": [
    "# fillna\n",
    "tmp.fillna(tmp.mean())"
   ]
  },
  {
   "cell_type": "code",
   "execution_count": 121,
   "id": "0f7e5c19-40fb-4f15-bf30-dd22180f66ac",
   "metadata": {},
   "outputs": [
    {
     "data": {
      "text/plain": [
       "match_no\n",
       "82    99\n",
       "86    49\n",
       "Name: runs, dtype: int64"
      ]
     },
     "execution_count": 121,
     "metadata": {},
     "output_type": "execute_result"
    }
   ],
   "source": [
    "# isin \n",
    "vk[(vk == 49) | (vk ==99)]"
   ]
  },
  {
   "cell_type": "code",
   "execution_count": 122,
   "id": "58ecc468-b6c1-47cf-a6f6-22a2ccf8d16c",
   "metadata": {},
   "outputs": [
    {
     "data": {
      "text/plain": [
       "match_no\n",
       "82    99\n",
       "86    49\n",
       "Name: runs, dtype: int64"
      ]
     },
     "execution_count": 122,
     "metadata": {},
     "output_type": "execute_result"
    }
   ],
   "source": [
    "vk[vk.isin([49,99])]"
   ]
  },
  {
   "cell_type": "code",
   "execution_count": 123,
   "id": "7b7922b0-0d2a-4bf6-ae43-63ce0504de32",
   "metadata": {},
   "outputs": [
    {
     "data": {
      "text/plain": [
       "movie\n",
       "Uri: The Surgical Strike                   Vicky Kaushal\n",
       "Battalion 609                                Vicky Ahuja\n",
       "The Accidental Prime Minister (film)         Anupam Kher\n",
       "Why Cheat India                            Emraan Hashmi\n",
       "Evening Shadows                         Mona Ambegaonkar\n",
       "                                              ...       \n",
       "Hum Tumhare Hain Sanam                    Shah Rukh Khan\n",
       "Aankhen (2002 film)                     Amitabh Bachchan\n",
       "Saathiya (film)                             Vivek Oberoi\n",
       "Company (film)                                Ajay Devgn\n",
       "Awara Paagal Deewana                        Akshay Kumar\n",
       "Name: lead, Length: 1500, dtype: object"
      ]
     },
     "execution_count": 123,
     "metadata": {},
     "output_type": "execute_result"
    }
   ],
   "source": [
    "# apply \n",
    "\n",
    "movies"
   ]
  },
  {
   "cell_type": "code",
   "execution_count": 124,
   "id": "9618acff-040e-41a5-8e61-eb362c8ae022",
   "metadata": {},
   "outputs": [
    {
     "data": {
      "text/plain": [
       "movie\n",
       "Uri: The Surgical Strike                  VICKY\n",
       "Battalion 609                             VICKY\n",
       "The Accidental Prime Minister (film)     ANUPAM\n",
       "Why Cheat India                          EMRAAN\n",
       "Evening Shadows                            MONA\n",
       "                                         ...   \n",
       "Hum Tumhare Hain Sanam                     SHAH\n",
       "Aankhen (2002 film)                     AMITABH\n",
       "Saathiya (film)                           VIVEK\n",
       "Company (film)                             AJAY\n",
       "Awara Paagal Deewana                     AKSHAY\n",
       "Name: lead, Length: 1500, dtype: object"
      ]
     },
     "execution_count": 124,
     "metadata": {},
     "output_type": "execute_result"
    }
   ],
   "source": [
    "movies.apply(lambda x:x.split()[0].upper())"
   ]
  },
  {
   "cell_type": "code",
   "execution_count": 125,
   "id": "b98479fe-19eb-4621-af6a-1edc78bbd26d",
   "metadata": {},
   "outputs": [
    {
     "data": {
      "text/plain": [
       "0       48\n",
       "1       57\n",
       "2       40\n",
       "3       43\n",
       "4       44\n",
       "      ... \n",
       "360    231\n",
       "361    226\n",
       "362    155\n",
       "363    144\n",
       "364    172\n",
       "Name: Subscribers gained, Length: 365, dtype: int64"
      ]
     },
     "execution_count": 125,
     "metadata": {},
     "output_type": "execute_result"
    }
   ],
   "source": [
    "subs"
   ]
  },
  {
   "cell_type": "code",
   "execution_count": 126,
   "id": "7e21be8d-ebbc-405c-b178-cd91a05e4b3b",
   "metadata": {},
   "outputs": [
    {
     "data": {
      "text/plain": [
       "135.64383561643837"
      ]
     },
     "execution_count": 126,
     "metadata": {},
     "output_type": "execute_result"
    }
   ],
   "source": [
    "subs.mean()"
   ]
  },
  {
   "cell_type": "code",
   "execution_count": 127,
   "id": "0c7349b0-a245-4223-bdfc-6d87a35477ef",
   "metadata": {},
   "outputs": [
    {
     "data": {
      "text/plain": [
       "0       bad day\n",
       "1       bad day\n",
       "2       bad day\n",
       "3       bad day\n",
       "4       bad day\n",
       "         ...   \n",
       "360    good day\n",
       "361    good day\n",
       "362    good day\n",
       "363    good day\n",
       "364    good day\n",
       "Name: Subscribers gained, Length: 365, dtype: object"
      ]
     },
     "execution_count": 127,
     "metadata": {},
     "output_type": "execute_result"
    }
   ],
   "source": [
    "subs.apply(lambda x:'good day' if x> subs.mean() else 'bad day')"
   ]
  },
  {
   "cell_type": "code",
   "execution_count": 128,
   "id": "533878b2-db88-44a7-8017-cf8ae902f59f",
   "metadata": {},
   "outputs": [
    {
     "data": {
      "text/plain": [
       "match_no\n",
       "1       1\n",
       "2      23\n",
       "3      13\n",
       "4      12\n",
       "5       1\n",
       "       ..\n",
       "211     0\n",
       "212    20\n",
       "213    73\n",
       "214    25\n",
       "215     7\n",
       "Name: runs, Length: 215, dtype: int64"
      ]
     },
     "execution_count": 128,
     "metadata": {},
     "output_type": "execute_result"
    }
   ],
   "source": [
    "# copy \n",
    "vk"
   ]
  },
  {
   "cell_type": "code",
   "execution_count": 129,
   "id": "d9c75c91-789a-4099-8399-3a23c3f77af1",
   "metadata": {},
   "outputs": [],
   "source": [
    "new = vk.head()"
   ]
  },
  {
   "cell_type": "code",
   "execution_count": 130,
   "id": "4707c8be-48f9-4adc-9d32-bbb26d822d4e",
   "metadata": {},
   "outputs": [
    {
     "data": {
      "text/plain": [
       "match_no\n",
       "1    10\n",
       "2    23\n",
       "3    13\n",
       "4    12\n",
       "5     1\n",
       "Name: runs, dtype: int64"
      ]
     },
     "execution_count": 130,
     "metadata": {},
     "output_type": "execute_result"
    }
   ],
   "source": [
    "new[1] = 10\n",
    "new"
   ]
  },
  {
   "cell_type": "code",
   "execution_count": 131,
   "id": "98983df4-7280-4182-86c3-8ea1de5c90e0",
   "metadata": {},
   "outputs": [
    {
     "data": {
      "text/plain": [
       "match_no\n",
       "1      10\n",
       "2      23\n",
       "3      13\n",
       "4      12\n",
       "5       1\n",
       "       ..\n",
       "211     0\n",
       "212    20\n",
       "213    73\n",
       "214    25\n",
       "215     7\n",
       "Name: runs, Length: 215, dtype: int64"
      ]
     },
     "execution_count": 131,
     "metadata": {},
     "output_type": "execute_result"
    }
   ],
   "source": [
    "vk"
   ]
  },
  {
   "cell_type": "code",
   "execution_count": 132,
   "id": "3e18d633-0444-45d5-b7e4-4f9022d20c41",
   "metadata": {},
   "outputs": [
    {
     "data": {
      "text/plain": [
       "match_no\n",
       "1    10\n",
       "2    23\n",
       "3    13\n",
       "4    12\n",
       "5     1\n",
       "Name: runs, dtype: int64"
      ]
     },
     "execution_count": 132,
     "metadata": {},
     "output_type": "execute_result"
    }
   ],
   "source": [
    "nw = vk.head().copy()\n",
    "nw"
   ]
  },
  {
   "cell_type": "code",
   "execution_count": 133,
   "id": "ca6ac36e-474c-4dae-97e5-e99625c4f7ca",
   "metadata": {},
   "outputs": [
    {
     "data": {
      "text/plain": [
       "match_no\n",
       "1    100\n",
       "2     23\n",
       "3     13\n",
       "4     12\n",
       "5      1\n",
       "Name: runs, dtype: int64"
      ]
     },
     "execution_count": 133,
     "metadata": {},
     "output_type": "execute_result"
    }
   ],
   "source": [
    "nw[1] = 100\n",
    "nw"
   ]
  },
  {
   "cell_type": "code",
   "execution_count": 134,
   "id": "6c92ed23-44be-4616-8c3e-ab1a1e321abb",
   "metadata": {},
   "outputs": [
    {
     "data": {
      "text/plain": [
       "match_no\n",
       "1      10\n",
       "2      23\n",
       "3      13\n",
       "4      12\n",
       "5       1\n",
       "       ..\n",
       "211     0\n",
       "212    20\n",
       "213    73\n",
       "214    25\n",
       "215     7\n",
       "Name: runs, Length: 215, dtype: int64"
      ]
     },
     "execution_count": 134,
     "metadata": {},
     "output_type": "execute_result"
    }
   ],
   "source": [
    "vk"
   ]
  },
  {
   "cell_type": "code",
   "execution_count": null,
   "id": "067423f7-c794-45dd-8d39-a6e4a5b99074",
   "metadata": {},
   "outputs": [],
   "source": []
  },
  {
   "cell_type": "code",
   "execution_count": null,
   "id": "e92646fc-8345-4d06-a6c6-457cf0c8db06",
   "metadata": {},
   "outputs": [],
   "source": []
  }
 ],
 "metadata": {
  "kernelspec": {
   "display_name": "Python 3 (ipykernel)",
   "language": "python",
   "name": "python3"
  },
  "language_info": {
   "codemirror_mode": {
    "name": "ipython",
    "version": 3
   },
   "file_extension": ".py",
   "mimetype": "text/x-python",
   "name": "python",
   "nbconvert_exporter": "python",
   "pygments_lexer": "ipython3",
   "version": "3.12.4"
  }
 },
 "nbformat": 4,
 "nbformat_minor": 5
}
